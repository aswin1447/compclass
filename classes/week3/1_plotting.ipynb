{
 "cells": [
  {
   "cell_type": "markdown",
   "metadata": {},
   "source": [
    "# Plotting in Python\n",
    "\n",
    "## Objectives\n",
    "\n",
    "* Learn how to make a plot\n",
    "* Learn how to style a plot"
   ]
  },
  {
   "cell_type": "code",
   "execution_count": null,
   "metadata": {},
   "outputs": [],
   "source": [
    "# Optional matplotlib backend selection here\n",
    "# %matplotlib inline\n",
    "# %matplotlib notebook"
   ]
  },
  {
   "cell_type": "markdown",
   "metadata": {},
   "source": [
    "## Matplotlib\n",
    "\n",
    "There are lots of plotting libraries in Python, but the most popular one is matplotlib. It was designed (for good and bad) to look like Matlab. It's slow, and ugly/old in some ways, but it is powerful and ubiquitous. It has a diverse set of backends for almost any occasion, and it has great integrations into everything, including Jupyter Notebooks. It's also still under active development, so it's a safe choice for the future."
   ]
  },
  {
   "cell_type": "markdown",
   "metadata": {},
   "source": [
    "## Step 1: Selecting a backend\n",
    "\n",
    "Matplotlib tries to pick the best backend for your situation, but there are cases when it misses. Here's how to select.\n",
    "\n",
    "Must be done *before* using anything from matplotlib!"
   ]
  },
  {
   "cell_type": "markdown",
   "metadata": {},
   "source": [
    "### Non-graphical backend (Only for saving files)\n",
    "```python\n",
    "import matplotlib\n",
    "matplotlib.use('Agg')\n",
    "```\n",
    "\n",
    "You can find lots of other backends [here](https://matplotlib.org/tutorials/introductory/usage.html#backends)."
   ]
  },
  {
   "cell_type": "markdown",
   "metadata": {},
   "source": [
    "## Jupyter notebook\n",
    "\n",
    "Jupyter has evolved much more quickly than matplotlib, so there are several ways to use it:\n",
    "\n",
    "#### Direct use\n",
    "\n",
    "First, try just using it. If you are on the latest versions of Juptyer/matplotlib, you should get a usable non-interactive backend.\n",
    "\n",
    "#### Magic integration\n",
    "\n",
    "You can use magics built right into Jupyter (one of the few external packages to have custom default magics) to set a backend. This is usually easier in a notebook the the manual method of setting a backend.\n",
    "\n",
    "```python\n",
    "%matplotlib --list   # list available backends\n",
    "%matplotlib inline   # traditional\n",
    "%matplotlib notebook # interactive\n",
    "%matplotlib widget   # lab-style interactive\n",
    "```"
   ]
  },
  {
   "cell_type": "code",
   "execution_count": null,
   "metadata": {},
   "outputs": [],
   "source": [
    "%matplotlib --list"
   ]
  },
  {
   "cell_type": "markdown",
   "metadata": {},
   "source": [
    "## Step 2: Setting a style\n",
    "\n",
    "There are lots of ways to style things in Matplotlib. The default style is pretty good, and when you are ready for more, you might look at the built-in styles:"
   ]
  },
  {
   "cell_type": "code",
   "execution_count": null,
   "metadata": {},
   "outputs": [],
   "source": [
    "import matplotlib.style\n",
    "\n",
    "print(matplotlib.style.available)\n",
    "\n",
    "# Uncomment to try a different style:\n",
    "# matplotlib.style.use('seaborn')"
   ]
  },
  {
   "cell_type": "markdown",
   "metadata": {},
   "source": [
    "You can write your own style files, either locally or for use in your system. See [the docs](https://matplotlib.org/tutorials/introductory/customizing.html). You can also change parts of the style by hand in your code (we'll do that later)."
   ]
  },
  {
   "cell_type": "markdown",
   "metadata": {},
   "source": [
    "## Step 3: Import the pyplot interface\n",
    "\n",
    "The interface 99% of users will need is called pyplot:"
   ]
  },
  {
   "cell_type": "code",
   "execution_count": null,
   "metadata": {},
   "outputs": [],
   "source": [
    "import matplotlib.pyplot as plt"
   ]
  },
  {
   "cell_type": "markdown",
   "metadata": {},
   "source": [
    "### Before Step 4: Make some data to plot\n",
    "\n",
    "Let's put together something interesting to plot. For now, we'll just plot a function to make a y vs. x plot."
   ]
  },
  {
   "cell_type": "code",
   "execution_count": null,
   "metadata": {},
   "outputs": [],
   "source": [
    "import numpy as np\n",
    "\n",
    "x = np.linspace(0,5,500)\n",
    "y = np.sin(x) * np.exp(-1)"
   ]
  },
  {
   "cell_type": "markdown",
   "metadata": {},
   "source": [
    "### Step 4, take 1: Plot your data\n",
    "\n",
    "There are two interfaces you can use in Matplotlib (at least 2). We'll start with the \"stateful\" interface - if you are used to Matlab, you'll feel at home. This interface is so common that I have to show it, and it is a hair simpler for quick plots:"
   ]
  },
  {
   "cell_type": "code",
   "execution_count": null,
   "metadata": {},
   "outputs": [],
   "source": [
    "# Matplotlib will make a figure if you don't make one yourself\n",
    "# on *most* backends. We'll make one explicitly to make sure.\n",
    "plt.figure()\n",
    "\n",
    "# The thing inside the figure we see the plot on is called an\n",
    "# axes (plural) - it will get created for you if you don't make one.\n",
    "\n",
    "# Now, make the y vs. x plot\n",
    "plt.plot(x, y)\n",
    "\n",
    "# We always should add labels\n",
    "plt.xlabel(\"x\")\n",
    "plt.ylabel(\"y\")\n",
    "plt.title(\"A plot\")\n",
    "\n",
    "# Some backends let you skip the \"show\". You can save *before* you show, not after.\n",
    "plt.show()"
   ]
  },
  {
   "cell_type": "markdown",
   "metadata": {},
   "source": [
    "### Step 4, take 2: Plot your data\n",
    "\n",
    "The other interface is object oriented, and a bit more powerful. If you have multiple axes, for example, this will be more natural.\n",
    "\n",
    "<!--\n",
    "for style in matplotlib.style.available:\n",
    "    with matplotlib.style.context(style):\n",
    "        print(\"Plotting with style:\", style)\n",
    "-->"
   ]
  },
  {
   "cell_type": "code",
   "execution_count": null,
   "metadata": {},
   "outputs": [],
   "source": [
    "# You can use plt.figure then plt.axes, but the easiest way\n",
    "# is to make them both at the same time:\n",
    "\n",
    "fig, ax = plt.subplots() # Defaults to 1 subplot\n",
    "\n",
    "# You intact with the axes\n",
    "ax.plot(x, y)\n",
    "\n",
    "# You usually add `set_` to the other function names\n",
    "ax.set_xlabel(\"x\")\n",
    "ax.set_ylabel(\"y\")\n",
    "ax.set_title(\"A plot\")\n",
    "\n",
    "plt.show()"
   ]
  },
  {
   "cell_type": "markdown",
   "metadata": {},
   "source": [
    "## More plot types\n",
    "\n",
    "* Images\n",
    "* Grids\n",
    "* Histograms\n",
    "\n",
    "## More features\n",
    "\n",
    "* Labels\n",
    "* Colorbars\n",
    "* Grid of axis\n",
    "* Multiple plots in one\n",
    "* Saving\n",
    "* Iterative plotting (helps in converting from our book)\n",
    "\n",
    "## Styling\n",
    "\n",
    "* Line width\n",
    "* Colors\n",
    "* Text style\n",
    "* Math"
   ]
  },
  {
   "cell_type": "code",
   "execution_count": null,
   "metadata": {},
   "outputs": [],
   "source": []
  }
 ],
 "metadata": {
  "kernelspec": {
   "display_name": "Anaconda Python 3.6",
   "language": "python",
   "name": "sys_python36"
  },
  "language_info": {
   "codemirror_mode": {
    "name": "ipython",
    "version": 3
   },
   "file_extension": ".py",
   "mimetype": "text/x-python",
   "name": "python",
   "nbconvert_exporter": "python",
   "pygments_lexer": "ipython3",
   "version": "3.6.5"
  }
 },
 "nbformat": 4,
 "nbformat_minor": 2
}
