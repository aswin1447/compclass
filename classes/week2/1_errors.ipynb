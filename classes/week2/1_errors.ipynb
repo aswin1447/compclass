{
 "cells": [
  {
   "cell_type": "markdown",
   "metadata": {
    "slideshow": {
     "slide_type": "slide"
    }
   },
   "source": [
    "# Errors and error accumulation\n",
    "\n",
    "## Objectives\n",
    "* Learn a little about importing libraries in Python\n",
    "* Learn about floating point number representation\n",
    "* Learn about round off error\n",
    "* Look at an example of an approximation\n",
    "\n",
    "Reading: Chapter 1.7 and Chapter 2"
   ]
  },
  {
   "cell_type": "markdown",
   "metadata": {},
   "source": [
    "## Imports\n",
    "\n",
    "Python has the idea of libraries that can be imported. It has a large standard library of modules you have access to, and many more in the Python Package Index (PyPI). For now, we'll only talk about libraries in the standard library or in the list of libraries included in Anaconda."
   ]
  },
  {
   "cell_type": "markdown",
   "metadata": {},
   "source": [
    "To import functionality from a library:"
   ]
  },
  {
   "cell_type": "code",
   "execution_count": 1,
   "metadata": {},
   "outputs": [
    {
     "name": "stdout",
     "output_type": "stream",
     "text": [
      "<built-in function sqrt>\n"
     ]
    }
   ],
   "source": [
    "import math\n",
    "print(math.sqrt)"
   ]
  },
  {
   "cell_type": "code",
   "execution_count": 2,
   "metadata": {},
   "outputs": [
    {
     "name": "stdout",
     "output_type": "stream",
     "text": [
      "<built-in function sqrt>\n"
     ]
    }
   ],
   "source": [
    "import math as m # inline rename\n",
    "print(m.sqrt)"
   ]
  },
  {
   "cell_type": "code",
   "execution_count": 3,
   "metadata": {},
   "outputs": [
    {
     "name": "stdout",
     "output_type": "stream",
     "text": [
      "<built-in function sqrt>\n"
     ]
    }
   ],
   "source": [
    "from math import sqrt\n",
    "print(sqrt)"
   ]
  },
  {
   "cell_type": "markdown",
   "metadata": {},
   "source": [
    "You can also do:\n",
    "\n",
    "```python\n",
    "from math import * # import all (usually not a good idea)\n",
    "from math import sqrt as square_root # rename inline\n",
    "```\n",
    "\n",
    "You can also have nested packages, these use dots to seperate them. For example, the `os.path.join` function can be imported directly:\n",
    "\n",
    "```python\n",
    "from os.path import join\n",
    "```\n",
    "\n",
    "For the moment, we won't talk about importing your own files."
   ]
  },
  {
   "cell_type": "markdown",
   "metadata": {},
   "source": [
    "#### A few conventions:\n",
    "\n",
    "* Try to have all your imports at the top - easier to quickly read and part the dependencies, and the slowdown importing libraries will happen at the beginning.\n",
    "* Choose the method that's easiest to read, or commonly used (everybody renames numpy to np, for example).\n",
    "* Don't import all - that makes it hard to figure out where things come from.\n",
    "\n",
    "#### And a caviat:\n",
    "\n",
    "* Once imported, rerunning an import statement *reuses* the already imported library. Fast, but means that you can't pick up changes in a file you are editing without restarting (the kernel in Jupyter)!\n",
    "\n",
    "That's enough about imports for now."
   ]
  },
  {
   "cell_type": "markdown",
   "metadata": {
    "slideshow": {
     "slide_type": "slide"
    }
   },
   "source": [
    "## ~~Two~~ Four types of errors\n",
    "\n",
    "* Blunders, bugs, typos\n",
    "* Random error\n",
    "* Approximation error\n",
    "* Round-off errors"
   ]
  },
  {
   "cell_type": "markdown",
   "metadata": {
    "slideshow": {
     "slide_type": "slide"
    }
   },
   "source": [
    "### Floating point numbers in IEEE\n",
    "\n",
    "A number could be written like this:\n",
    "\n",
    "```\n",
    "           -1.234 E -02\n",
    "           \\____/   \\_/\n",
    "      significand  exponent\n",
    "```\n",
    "\n",
    "A floating point number is stored as a significand and exponent in base 2, along with signs for each.\n",
    "\n",
    "Special values for floating point numbers include `-0.0`, `-inf`, `+inf`, and `nan` (the last three can be found in the `math` library)"
   ]
  },
  {
   "cell_type": "markdown",
   "metadata": {
    "slideshow": {
     "slide_type": "subslide"
    }
   },
   "source": [
    "Common floating point types (IEEE 754 standard):\n",
    "\n",
    "```\n",
    "        | Significand | Exponent | Approx digits\n",
    "float16 |     11      |     5    |      3-4       (half)\n",
    "float32 |     24      |     8    |      7-8       (single)\n",
    "float64 |     53      |     11   |     15-16      (double)\n",
    "```"
   ]
  },
  {
   "cell_type": "code",
   "execution_count": 6,
   "metadata": {},
   "outputs": [
    {
     "name": "stdout",
     "output_type": "stream",
     "text": [
      "16 bits: 65,536\n",
      "32 bits: 4,294,967,296\n",
      "64 bits: 18,446,744,073,709,551,616\n"
     ]
    }
   ],
   "source": [
    "print(f\"16 bits: {2**16:,}\\n32 bits: {2**32:,}\\n64 bits: {2**64:,}\")"
   ]
  },
  {
   "cell_type": "code",
   "execution_count": 1,
   "metadata": {
    "slideshow": {
     "slide_type": "subslide"
    }
   },
   "outputs": [],
   "source": [
    "import math"
   ]
  },
  {
   "cell_type": "markdown",
   "metadata": {},
   "source": [
    "Possibly odd:"
   ]
  },
  {
   "cell_type": "code",
   "execution_count": 7,
   "metadata": {},
   "outputs": [
    {
     "data": {
      "text/plain": [
       "9007199254740992.0"
      ]
     },
     "execution_count": 7,
     "metadata": {},
     "output_type": "execute_result"
    }
   ],
   "source": [
    "2.0**53 # + 1"
   ]
  },
  {
   "cell_type": "markdown",
   "metadata": {},
   "source": [
    "What value should this produce?"
   ]
  },
  {
   "cell_type": "code",
   "execution_count": 29,
   "metadata": {},
   "outputs": [
    {
     "data": {
      "text/plain": [
       "1.1102230246251565e-16"
      ]
     },
     "execution_count": 29,
     "metadata": {},
     "output_type": "execute_result"
    }
   ],
   "source": [
    "1 - 1/3 - 1/3 - 1/3"
   ]
  },
  {
   "cell_type": "markdown",
   "metadata": {},
   "source": [
    "There are also some base 2 decimal numbers, like `0.3`, that can't be stored in finite digits in base 2. (Any number with a factor of 5 in the denominator). Python is smart and tries to provide a \"nice\" representation for you, but you can force it to show you more digits:"
   ]
  },
  {
   "cell_type": "code",
   "execution_count": 9,
   "metadata": {},
   "outputs": [
    {
     "name": "stdout",
     "output_type": "stream",
     "text": [
      "1/2:   0.5   0.500000000000000000000000000000\n",
      "1/5:   0.2   0.200000000000000011102230246252\n",
      "1/10:  0.1   0.100000000000000005551115123126\n",
      "3/30:  0.3   0.299999999999999988897769753748\n"
     ]
    }
   ],
   "source": [
    "print(f\"1/2:   {.5}   {.5:.30f}\")\n",
    "print(f\"1/5:   {.2}   {.2:.30f}\")\n",
    "print(f\"1/10:  {.1}   {.1:.30f}\")\n",
    "print(f\"3/30:  {.3}   {.3:.30f}\")"
   ]
  },
  {
   "cell_type": "markdown",
   "metadata": {
    "slideshow": {
     "slide_type": "subslide"
    }
   },
   "source": [
    "Python does provide conceptually \"better\" but much slower alternatives for special cases:"
   ]
  },
  {
   "cell_type": "code",
   "execution_count": 30,
   "metadata": {},
   "outputs": [],
   "source": [
    "from fractions import Fraction"
   ]
  },
  {
   "cell_type": "code",
   "execution_count": 47,
   "metadata": {},
   "outputs": [
    {
     "data": {
      "text/plain": [
       "Fraction(0, 1)"
      ]
     },
     "execution_count": 47,
     "metadata": {},
     "output_type": "execute_result"
    }
   ],
   "source": [
    "res = 1 - Fraction(1,3) - Fraction(1,3) - Fraction(1,3)\n",
    "res"
   ]
  },
  {
   "cell_type": "code",
   "execution_count": 32,
   "metadata": {
    "slideshow": {
     "slide_type": "subslide"
    }
   },
   "outputs": [],
   "source": [
    "from decimal import Decimal"
   ]
  },
  {
   "cell_type": "code",
   "execution_count": 36,
   "metadata": {},
   "outputs": [
    {
     "data": {
      "text/plain": [
       "Decimal('1E-28')"
      ]
     },
     "execution_count": 36,
     "metadata": {},
     "output_type": "execute_result"
    }
   ],
   "source": [
    "1 - Decimal(1) / Decimal(3) - Decimal(1) / Decimal(3) - Decimal(1) / Decimal(3)"
   ]
  },
  {
   "cell_type": "markdown",
   "metadata": {
    "slideshow": {
     "slide_type": "subslide"
    }
   },
   "source": [
    "Python tries to be as clever as possible in the repr and str of numbers by selecting a nice length to show:"
   ]
  },
  {
   "cell_type": "code",
   "execution_count": 54,
   "metadata": {},
   "outputs": [
    {
     "data": {
      "text/plain": [
       "0.3333333333333333"
      ]
     },
     "execution_count": 54,
     "metadata": {},
     "output_type": "execute_result"
    }
   ],
   "source": [
    "1/3"
   ]
  },
  {
   "cell_type": "markdown",
   "metadata": {},
   "source": [
    "We can get around that several ways:"
   ]
  },
  {
   "cell_type": "code",
   "execution_count": 62,
   "metadata": {},
   "outputs": [
    {
     "data": {
      "text/plain": [
       "'0.33333333333333331'"
      ]
     },
     "execution_count": 62,
     "metadata": {},
     "output_type": "execute_result"
    }
   ],
   "source": [
    "format(1/3, '.17')"
   ]
  },
  {
   "cell_type": "code",
   "execution_count": 45,
   "metadata": {},
   "outputs": [
    {
     "data": {
      "text/plain": [
       "Decimal('0.333333333333333314829616256247390992939472198486328125')"
      ]
     },
     "execution_count": 45,
     "metadata": {},
     "output_type": "execute_result"
    }
   ],
   "source": [
    "Decimal(1/3)"
   ]
  },
  {
   "cell_type": "markdown",
   "metadata": {
    "slideshow": {
     "slide_type": "slide"
    }
   },
   "source": [
    "Let's take a look at two different forms of the quadratic formula (mathematically equivalent):\n",
    "\n",
    "$$\n",
    "x_{1,2} = \\frac{-b \\pm \\sqrt{b^2 - 4 a c}}{2 a}\n",
    "$$\n",
    "\n",
    "and \n",
    "\n",
    "$$\n",
    "x_{1,2}^{'} = \\frac{-2 c}{b \\pm \\sqrt{b^2 - 4 a c}}.\n",
    "$$"
   ]
  },
  {
   "cell_type": "code",
   "execution_count": 85,
   "metadata": {
    "slideshow": {
     "slide_type": "subslide"
    }
   },
   "outputs": [],
   "source": [
    "import math\n",
    "\n",
    "def roots(a, b, c):\n",
    "    sbac = math.sqrt(b**2 - 4*a*c)\n",
    "    x1 = (-b + sbac) / 2*a\n",
    "    x2 = (-b - sbac) / 2*a\n",
    "    x1p = -2*c / (b + sbac)\n",
    "    x2p = -2*c / (b - sbac)\n",
    "    return x1, x1p, x2, x2p"
   ]
  },
  {
   "cell_type": "code",
   "execution_count": 94,
   "metadata": {},
   "outputs": [
    {
     "data": {
      "text/plain": [
       "(-0.1127016653792583,\n",
       " -0.11270166537925831,\n",
       " -0.8872983346207417,\n",
       " -0.8872983346207418)"
      ]
     },
     "execution_count": 94,
     "metadata": {},
     "output_type": "execute_result"
    }
   ],
   "source": [
    "roots(1, 1, 1e-1)"
   ]
  },
  {
   "cell_type": "markdown",
   "metadata": {
    "slideshow": {
     "slide_type": "slide"
    }
   },
   "source": [
    "Let's try the series 1/n. This is a divergent series, but it has an exact solution if we specify the number of terms. The order we sum in does not matter when we do the math! But...\n",
    "\n",
    "$$\n",
    "S^\\mathrm{up} = \\sum_{n=1}^{N} \\frac{1}{N}\n",
    "$$\n",
    "\n",
    "$$\n",
    "S^\\mathrm{down} = \\sum_{n=N}^{1} \\frac{1}{N}\n",
    "$$"
   ]
  },
  {
   "cell_type": "code",
   "execution_count": 25,
   "metadata": {},
   "outputs": [],
   "source": [
    "# You can use np.floatXX to try different types of floats\n",
    "import numpy as np"
   ]
  },
  {
   "cell_type": "code",
   "execution_count": 28,
   "metadata": {},
   "outputs": [
    {
     "data": {
      "text/plain": [
       "14.39272572286499"
      ]
     },
     "execution_count": 28,
     "metadata": {},
     "output_type": "execute_result"
    }
   ],
   "source": [
    "sum(1/x for x in range(1, 1_000_000))"
   ]
  },
  {
   "cell_type": "code",
   "execution_count": 29,
   "metadata": {},
   "outputs": [
    {
     "data": {
      "text/plain": [
       "14.392725722865773"
      ]
     },
     "execution_count": 29,
     "metadata": {},
     "output_type": "execute_result"
    }
   ],
   "source": [
    "sum(float_type(1/x) for x in reversed(range(1, 1_000_000)))"
   ]
  },
  {
   "cell_type": "markdown",
   "metadata": {},
   "source": [
    "Aside: If you leave off the `[]` in a comprehension or use `()`, this is a \"generator comprehension\" - meaning it only runs **as** you iterate over it! The unfortunate side effect is it can only be iterated over once. Python, especially Python 3, is full of iterators like these - including `reversed()` and `range()`, for example. You can use `list()` or `tuple()` to convert.\n",
    "\n",
    "This means that the above expression never creates extra memory - it's always doing 1 computation at a time."
   ]
  },
  {
   "cell_type": "markdown",
   "metadata": {
    "slideshow": {
     "slide_type": "slide"
    }
   },
   "source": [
    "## Example: Approximating the sin function\n",
    "\n",
    "Now let's look at the other main type of error - approximation errors. Let's attempt to plot approximations of the sin function. We'll start by implementing the `apsin` function with the formula:\n",
    "\n",
    "$$\n",
    "\\sin(x) \\approx \\sum_{n=0} \\frac{(-1)^{n}}{ (2n + 1)! x^{2n+1}} \n",
    "$$"
   ]
  },
  {
   "cell_type": "markdown",
   "metadata": {
    "slideshow": {
     "slide_type": "subslide"
    }
   },
   "source": [
    "Most Python programs and notebook start with imports for the libraries (also called modules or packages) that they need. We'll discuss these in a later lesson."
   ]
  },
  {
   "cell_type": "code",
   "execution_count": 30,
   "metadata": {
    "inputHidden": false,
    "outputHidden": false
   },
   "outputs": [],
   "source": [
    "import matplotlib.pyplot as plt\n",
    "import numpy as np"
   ]
  },
  {
   "cell_type": "code",
   "execution_count": 31,
   "metadata": {
    "inputHidden": false,
    "outputHidden": false
   },
   "outputs": [],
   "source": [
    "def apsin(x, N):\n",
    "    t = s = x\n",
    "    for n in range(2, N):\n",
    "        t = - t * x**2/((2*n-1)*(2*n-2))\n",
    "        s = s + t\n",
    "    return s"
   ]
  },
  {
   "cell_type": "code",
   "execution_count": 32,
   "metadata": {
    "inputHidden": false,
    "outputHidden": false,
    "slideshow": {
     "slide_type": "subslide"
    }
   },
   "outputs": [
    {
     "data": {
      "text/plain": [
       "array([0.        , 0.12822827, 0.25645654, 0.38468481, 0.51291309,\n",
       "       0.64114136, 0.76936963, 0.8975979 , 1.02582617, 1.15405444,\n",
       "       1.28228272, 1.41051099, 1.53873926, 1.66696753, 1.7951958 ,\n",
       "       1.92342407, 2.05165235, 2.17988062, 2.30810889, 2.43633716,\n",
       "       2.56456543, 2.6927937 , 2.82102197, 2.94925025, 3.07747852,\n",
       "       3.20570679, 3.33393506, 3.46216333, 3.5903916 , 3.71861988,\n",
       "       3.84684815, 3.97507642, 4.10330469, 4.23153296, 4.35976123,\n",
       "       4.48798951, 4.61621778, 4.74444605, 4.87267432, 5.00090259,\n",
       "       5.12913086, 5.25735913, 5.38558741, 5.51381568, 5.64204395,\n",
       "       5.77027222, 5.89850049, 6.02672876, 6.15495704, 6.28318531])"
      ]
     },
     "execution_count": 32,
     "metadata": {},
     "output_type": "execute_result"
    }
   ],
   "source": [
    "# Make a set of x values n (default 100)\n",
    "xs = np.linspace(0, 2*np.pi)\n",
    "xs"
   ]
  },
  {
   "cell_type": "code",
   "execution_count": 6,
   "metadata": {
    "inputHidden": false,
    "outputHidden": false,
    "slideshow": {
     "slide_type": "subslide"
    }
   },
   "outputs": [
    {
     "data": {
      "image/png": "[encoded data removed]",
      "text/plain": [
       "<Figure size 864x360 with 1 Axes>"
      ]
     },
     "metadata": {
      "image/png": {
       "height": 304,
       "width": 723
      }
     },
     "output_type": "display_data"
    }
   ],
   "source": [
    "# Make a new figure\n",
    "plt.figure(figsize=(12,5))\n",
    "\n",
    "# Plot each value\n",
    "for N in range(2,7):\n",
    "    plt.plot(xs, apsin(xs, N), label=str(N))\n",
    "\n",
    "# Plot true values\n",
    "plt.plot(xs, np.sin(xs), 'k--', label='sin(x)')\n",
    "\n",
    "# Keep the y limits somewhat reasonable\n",
    "plt.ylim(-1.1, 1.1)\n",
    "\n",
    "# Show a legend with existing labels\n",
    "plt.legend();"
   ]
  },
  {
   "cell_type": "markdown",
   "metadata": {
    "slideshow": {
     "slide_type": "subslide"
    }
   },
   "source": [
    "### Try it yourself\n",
    "\n",
    "Edit the above code and try the following things:\n",
    "\n",
    "* Change the range of $N$ values\n",
    "* Decrease the number of points (use **Shift-Tab** to see the help for `np.linspace`)"
   ]
  },
  {
   "cell_type": "code",
   "execution_count": null,
   "metadata": {},
   "outputs": [],
   "source": []
  }
 ],
 "metadata": {
  "celltoolbar": "Slideshow",
  "kernelspec": {
   "display_name": "Anaconda Python 3.6",
   "language": "python",
   "name": "sys_python36"
  },
  "language_info": {
   "codemirror_mode": {
    "name": "ipython",
    "version": 3
   },
   "file_extension": ".py",
   "mimetype": "text/x-python",
   "name": "python",
   "nbconvert_exporter": "python",
   "pygments_lexer": "ipython3",
   "version": "3.6.5"
  }
 },
 "nbformat": 4,
 "nbformat_minor": 2
}
