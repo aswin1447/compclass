{
 "cells": [
  {
   "cell_type": "markdown",
   "metadata": {},
   "source": [
    "# Week 6 Day 3: Fitting\n",
    "\n",
    "## Objectives\n",
    "\n",
    "* Learn how to perform a simple fit on data\n",
    "* Learn about various tools for data fitting"
   ]
  },
  {
   "cell_type": "code",
   "execution_count": null,
   "metadata": {},
   "outputs": [],
   "source": [
    "import numpy as np\n",
    "import matplotlib.pyplot as plt"
   ]
  },
  {
   "cell_type": "code",
   "execution_count": null,
   "metadata": {},
   "outputs": [],
   "source": [
    "x = np.linspace(0, 200, 400)\n",
    "x_data = np.arange(0, 225, 25)\n",
    "x_data"
   ]
  },
  {
   "cell_type": "code",
   "execution_count": null,
   "metadata": {},
   "outputs": [],
   "source": [
    "y_data = np.array([10.6, 16.0, 45.0, 83.5, 52.8,\n",
    "                   19.9, 10.8, 8.25, 4.7])\n",
    "e_data = np.array([9.34, 17.9, 41.5, 85.5, 51.5,\n",
    "                   21.5, 10.8, 6.29, 4.14])\n",
    "e_data = np.array([5, 7, 10, 12,\n",
    "                   10, 7, 5, 4, 4])"
   ]
  },
  {
   "cell_type": "code",
   "execution_count": null,
   "metadata": {},
   "outputs": [],
   "source": [
    "fig, ax = plt.subplots()\n",
    "ax.errorbar(x_data, y_data, e_data, fmt='.')\n",
    "plt.show()"
   ]
  },
  {
   "cell_type": "code",
   "execution_count": null,
   "metadata": {},
   "outputs": [],
   "source": [
    "def interp_langrange(x_data, y_data, x):\n",
    "    'A custom lagrange fit function.'\n",
    "    \n",
    "    # The shape will be N x N x n, where N is the number of points\n",
    "    # in x and y, and n is the number of points in the result.\n",
    "    x = np.asarray(x)\n",
    "    x = x.reshape(1,1,-1)\n",
    "    \n",
    "    # Make grid. Have one \"throw away\" diminsion to make [N,N,1] shaped arrays\n",
    "    x_n, x_i, _ = np.meshgrid(x_data, x_data, np.array([1]))\n",
    "    \n",
    "    # Using a mask here avoids numpy warnings and makes the product easy\n",
    "    x_n = np.ma.array(x_n, mask=np.eye(x_data.shape[0]))\n",
    "    x_i = np.ma.array(x_i, mask=np.eye(x_data.shape[0]))\n",
    "    \n",
    "    V = (x - x_n) / (x_i - x_n)\n",
    "    v = np.prod(V, axis=1).data # Convert back to non-masked arrays\n",
    "    \n",
    "    return y_data @ v\n",
    "\n",
    "# This was added to test interp_langrange\n",
    "x_d2 = np.array([0,1,2,4])\n",
    "y_d2 = np.array([-12, -12, -24, -60])\n",
    "\n",
    "interp_langrange(x_d2, y_d2, [.5, 4]) # should be -10.125 and -60"
   ]
  },
  {
   "cell_type": "code",
   "execution_count": null,
   "metadata": {},
   "outputs": [],
   "source": [
    "fig, ax = plt.subplots()\n",
    "ax.plot(x, interp_langrange(x_data, y_data, x))\n",
    "ax.plot(x_data, y_data, 'o')\n",
    "plt.show()\n"
   ]
  },
  {
   "cell_type": "code",
   "execution_count": null,
   "metadata": {},
   "outputs": [],
   "source": [
    "from scipy import interpolate"
   ]
  },
  {
   "cell_type": "code",
   "execution_count": null,
   "metadata": {},
   "outputs": [],
   "source": [
    "p = interpolate.lagrange(x_data, y_data)"
   ]
  },
  {
   "cell_type": "code",
   "execution_count": null,
   "metadata": {},
   "outputs": [],
   "source": [
    "fig, ax = plt.subplots()\n",
    "ax.plot(x, p(x))\n",
    "ax.plot(x_data, y_data, 'o')\n",
    "plt.show()"
   ]
  },
  {
   "cell_type": "code",
   "execution_count": null,
   "metadata": {},
   "outputs": [],
   "source": [
    "spline = interpolate.CubicSpline(x_data, y_data)"
   ]
  },
  {
   "cell_type": "code",
   "execution_count": null,
   "metadata": {},
   "outputs": [],
   "source": [
    "fig, ax = plt.subplots()\n",
    "ax.plot(x, spline(x))\n",
    "ax.plot(x_data, y_data, 'o')\n",
    "plt.show()"
   ]
  },
  {
   "cell_type": "code",
   "execution_count": null,
   "metadata": {},
   "outputs": [],
   "source": [
    "from scipy.optimize import curve_fit"
   ]
  },
  {
   "cell_type": "code",
   "execution_count": null,
   "metadata": {},
   "outputs": [],
   "source": [
    "def f(E, f_r, E_r, Γ):\n",
    "    return f_r / ((E - E_r)**2 + Γ**2/4)"
   ]
  },
  {
   "cell_type": "code",
   "execution_count": null,
   "metadata": {},
   "outputs": [],
   "source": [
    "popt, pcov = curve_fit(f, x_data, y_data,\n",
    "                       p0=[1.,1.,1.],\n",
    "                       sigma=e_data,\n",
    "                       absolute_sigma=True)"
   ]
  },
  {
   "cell_type": "code",
   "execution_count": null,
   "metadata": {},
   "outputs": [],
   "source": [
    "fig, ax = plt.subplots()\n",
    "ax.errorbar(x_data, y_data, e_data, fmt='.')\n",
    "ax.plot(x, f(x, *popt))\n",
    "plt.show()"
   ]
  },
  {
   "cell_type": "markdown",
   "metadata": {},
   "source": [
    "## Advanced usage: The Uncertainties package\n",
    "\n",
    "Let's use that correlation matrix that `curve_fit` returned!"
   ]
  },
  {
   "cell_type": "code",
   "execution_count": null,
   "metadata": {},
   "outputs": [],
   "source": [
    "from uncertainties import correlated_values, unumpy"
   ]
  },
  {
   "cell_type": "code",
   "execution_count": null,
   "metadata": {},
   "outputs": [],
   "source": [
    "copt = correlated_values(popt, pcov)"
   ]
  },
  {
   "cell_type": "code",
   "execution_count": null,
   "metadata": {},
   "outputs": [],
   "source": [
    "def plot_with_unc(x, y, ax=None):\n",
    "    if ax is None:\n",
    "        fig, ax = plt.subplots()\n",
    "        \n",
    "    y_nv = unumpy.nominal_values(y)\n",
    "    y_sd = unumpy.std_devs(y)\n",
    "    \n",
    "    line, = ax.plot(x, y_nv)\n",
    "    ax.fill_between(x, y_nv - y_sd, y_nv + y_sd, color=line.get_color(), alpha=.2)"
   ]
  },
  {
   "cell_type": "code",
   "execution_count": null,
   "metadata": {},
   "outputs": [],
   "source": [
    "fig, ax = plt.subplots()\n",
    "ax.errorbar(x_data, y_data, e_data, fmt='.')\n",
    "plot_with_unc(x, f(x, *copt), ax=ax)\n",
    "plt.show()"
   ]
  },
  {
   "cell_type": "markdown",
   "metadata": {},
   "source": [
    "## Linear least squares"
   ]
  },
  {
   "cell_type": "code",
   "execution_count": null,
   "metadata": {},
   "outputs": [],
   "source": [
    "t = np.linspace(1,2)\n",
    "x = np.array([1., 1.1, 1.24, 1.35, 1.451, 1.5, 1.92])\n",
    "y = np.array([0.52, 0.8, 0.7, 1.8, 2.9, 2.9, 3.6])\n",
    "sig = np.array([.1, .1, .2, .3, .2, .1, .1])"
   ]
  },
  {
   "cell_type": "code",
   "execution_count": null,
   "metadata": {},
   "outputs": [],
   "source": [
    "fig, ax = plt.subplots()\n",
    "ax.errorbar(x, y, sig, fmt='.')\n",
    "plt.show()"
   ]
  },
  {
   "cell_type": "markdown",
   "metadata": {},
   "source": [
    "## Manual least squares fitting:"
   ]
  },
  {
   "cell_type": "markdown",
   "metadata": {},
   "source": [
    "Fitting function:\n",
    "\n",
    "$$\n",
    "g(x_i) = a_0 x_i^2 + a_1 x_i + a_2\n",
    "\\tag{1}\n",
    "$$"
   ]
  },
  {
   "cell_type": "markdown",
   "metadata": {},
   "source": [
    "If you compute the minimum of $\\chi^2$, you get:\n",
    "\n",
    "$$\n",
    "\\sum _i\n",
    "\\frac{g(x_i)}{\\sigma_i^2}\n",
    "\\frac{\\partial g ( x_i)}{\\partial a_m}\n",
    "=\n",
    "\\sum _i\n",
    "\\frac{y_i}{\\sigma_i^2}\n",
    "\\frac{\\partial g ( x_i)}{\\partial a_m}\n",
    "\\tag{2}\n",
    "$$"
   ]
  },
  {
   "cell_type": "markdown",
   "metadata": {},
   "source": [
    "We can rewrite this as a matrix expression, expanding (2) in terms of (1):\n",
    "\n",
    "$$\n",
    "A x = b\n",
    "\\tag{3}\n",
    "$$"
   ]
  },
  {
   "cell_type": "markdown",
   "metadata": {},
   "source": [
    "$$\n",
    "A = \\left[\n",
    "\\begin{matrix}\n",
    " \\sum_i \\frac{x_i^4}{\\sigma_i^2} & \\sum_i \\frac{x_i^3}{\\sigma_i^2} & \\sum_i \\frac{x_i^2}{\\sigma_i^2} \\\\\n",
    " \\sum_i \\frac{x_i^3}{\\sigma_i^2} & \\sum_i \\frac{x_i^2}{\\sigma_i^2} & \\sum_i \\frac{x_i^1}{\\sigma_i^2} \\\\\n",
    " \\sum_i \\frac{x_i^2}{\\sigma_i^2} & \\sum_i \\frac{x_i  }{\\sigma_i^2} & \\sum_i \\frac{1    }{\\sigma_i^2} \\\\\n",
    "\\end{matrix}\n",
    "\\right]\n",
    "\\tag{3.1}\n",
    "$$"
   ]
  },
  {
   "cell_type": "markdown",
   "metadata": {},
   "source": [
    "$$\n",
    "b = \\left[\n",
    "\\begin{matrix}\n",
    " \\sum_i \\frac{y_i x_i^2}{\\sigma_i^2} \\\\\n",
    " \\sum_i \\frac{y_i x_i  }{\\sigma_i^2} \\\\\n",
    " \\sum_i \\frac{y_i      }{\\sigma_i^2} \\\\\n",
    "\\end{matrix}\n",
    "\\right]\n",
    "\\tag{3.2}\n",
    "$$"
   ]
  },
  {
   "cell_type": "markdown",
   "metadata": {},
   "source": [
    "$$\n",
    "x = \\left[\n",
    "\\begin{matrix}\n",
    " a_2 \\\\\n",
    " a_1 \\\\\n",
    " a_0 \\\\\n",
    "\\end{matrix}\n",
    "\\right]\n",
    "\\tag{3.3}\n",
    "$$"
   ]
  },
  {
   "cell_type": "code",
   "execution_count": null,
   "metadata": {},
   "outputs": [],
   "source": [
    "sig2 = sig**2\n",
    "ss = np.array([\n",
    "    np.sum(x**4/sig2), np.sum(x**3/sig2), np.sum(x**2/sig2), np.sum(x/sig2), np.sum(1/sig2)\n",
    "])\n",
    "A = np.stack([ss[:3], ss[1:4], ss[2:]])\n",
    "\n",
    "b = np.array([np.sum(x**2*y/sig2), np.sum(x*y/sig2), np.sum(y/sig2)])"
   ]
  },
  {
   "cell_type": "markdown",
   "metadata": {},
   "source": [
    "We could have been much more clever. Looking at the above expression for M, we could instead have created the powers, then raise to a matrix of powers! "
   ]
  },
  {
   "cell_type": "code",
   "execution_count": null,
   "metadata": {},
   "outputs": [],
   "source": [
    "power = sum(np.mgrid[2:-1:-1,2:-1:-1])\n",
    "Ap = np.sum(x[:,None,None]**power / sig[:,None,None]**2, axis=0)\n",
    "assert np.all(A == Ap)"
   ]
  },
  {
   "cell_type": "markdown",
   "metadata": {},
   "source": [
    "Exercise for the reader: try the same trick on `b`."
   ]
  },
  {
   "cell_type": "code",
   "execution_count": null,
   "metadata": {},
   "outputs": [],
   "source": [
    "xvec = np.linalg.solve(A, b)"
   ]
  },
  {
   "cell_type": "code",
   "execution_count": null,
   "metadata": {},
   "outputs": [],
   "source": [
    "p = np.poly1d(xvec)\n",
    "fig, ax = plt.subplots()\n",
    "ax.errorbar(x, y, sig, fmt='.')\n",
    "ax.plot(t, p(t))\n",
    "plt.show()"
   ]
  },
  {
   "cell_type": "markdown",
   "metadata": {},
   "source": [
    "Or, we could have just done this with the polyfit function in numpy:"
   ]
  },
  {
   "cell_type": "code",
   "execution_count": null,
   "metadata": {},
   "outputs": [],
   "source": [
    "xvec = np.polyfit(x, y, 2, w=1/sig)\n",
    "p = np.poly1d(xvec)"
   ]
  },
  {
   "cell_type": "code",
   "execution_count": null,
   "metadata": {},
   "outputs": [],
   "source": [
    "fig, ax = plt.subplots()\n",
    "ax.errorbar(x, y, sig, fmt='.')\n",
    "ax.plot(t, p(t))\n",
    "plt.show()"
   ]
  },
  {
   "cell_type": "markdown",
   "metadata": {},
   "source": [
    "Or the more general scipy `curve_fit`:"
   ]
  },
  {
   "cell_type": "code",
   "execution_count": null,
   "metadata": {},
   "outputs": [],
   "source": [
    "def new_p(x, *values):\n",
    "    return np.poly1d(values)(x)\n",
    "\n",
    "xvec, _ = curve_fit(new_p, x, y, p0=[1,1,1],sigma=sig)\n",
    "p = np.poly1d(xvec)"
   ]
  },
  {
   "cell_type": "code",
   "execution_count": null,
   "metadata": {},
   "outputs": [],
   "source": [
    "fig, ax = plt.subplots()\n",
    "ax.errorbar(x, y, sig, fmt='.')\n",
    "ax.plot(t, p(t))\n",
    "plt.show()"
   ]
  }
 ],
 "metadata": {
  "kernelspec": {
   "display_name": "Anaconda Python 3.6",
   "language": "python",
   "name": "sys_python36"
  },
  "language_info": {
   "codemirror_mode": {
    "name": "ipython",
    "version": 3
   },
   "file_extension": ".py",
   "mimetype": "text/x-python",
   "name": "python",
   "nbconvert_exporter": "python",
   "pygments_lexer": "ipython3",
   "version": "3.6.5"
  }
 },
 "nbformat": 4,
 "nbformat_minor": 2
}
