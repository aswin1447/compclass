{
 "cells": [
  {
   "cell_type": "markdown",
   "metadata": {
    "slideshow": {
     "slide_type": "slide"
    }
   },
   "source": [
    "# Using Python\n",
    "\n",
    "In this notebook, we are going to look at some uses of Python, and we are going to start with complete and simi-complete problems, where we'll start to fill in the blanks. Don't expect to have every packages explained; we'll come back to them later.\n",
    "\n",
    "## Objectives\n",
    "\n",
    "* See some simple problems solved in Python.\n",
    "* Start manipulating Python expressions to modify the execution"
   ]
  },
  {
   "cell_type": "markdown",
   "metadata": {
    "slideshow": {
     "slide_type": "subslide"
    }
   },
   "source": [
    "Most Python programs and notebook start with imports for the libraries (also called modules or packages) that they need. We'll discuss these in a later lesson."
   ]
  },
  {
   "cell_type": "code",
   "execution_count": null,
   "metadata": {
    "inputHidden": false,
    "outputHidden": false
   },
   "outputs": [],
   "source": [
    "import matplotlib.pyplot as plt\n",
    "import numpy as np"
   ]
  },
  {
   "cell_type": "markdown",
   "metadata": {
    "inputHidden": false,
    "outputHidden": false,
    "slideshow": {
     "slide_type": "slide"
    }
   },
   "source": [
    "# Example: The Mandelbrot set\n",
    "\n",
    "The next example is a fractal. It is quite simple to construct, but can be quite beautiful. The algorithm is:\n",
    "\n",
    "Make a grid of complex values. Compute the value\n",
    "\n",
    "$$\n",
    "z_{n+1}=z_{n}^{2}+c\n",
    "$$\n",
    "\n",
    "\n",
    "While $z_n$ is bounded, save that iteration number.\n",
    "\n",
    "We start by setting up the data:"
   ]
  },
  {
   "cell_type": "code",
   "execution_count": null,
   "metadata": {
    "inputHidden": false,
    "outputHidden": false
   },
   "outputs": [],
   "source": [
    "# Size of the grid to evaluate on\n",
    "size = (500, 500)\n",
    "\n",
    "# We need to make a grid where values x = real and y = imag\n",
    "x, y = np.meshgrid(np.linspace(-2, 2, size[0]), np.linspace(-2, 2, size[1]))\n",
    "# We could also write: x, y = np.mgrid[-2:2:100j, -2:2:100j]\n",
    "c = x + y*1j"
   ]
  },
  {
   "cell_type": "code",
   "execution_count": null,
   "metadata": {
    "slideshow": {
     "slide_type": "subslide"
    }
   },
   "outputs": [],
   "source": [
    "# Verify that we have correctly constructed the real and imaginary parts\n",
    "fig, axs = plt.subplots(1, 2)\n",
    "axs[0].imshow(c.real)\n",
    "axs[1].imshow(c.imag);"
   ]
  },
  {
   "cell_type": "code",
   "execution_count": null,
   "metadata": {
    "slideshow": {
     "slide_type": "subslide"
    }
   },
   "outputs": [],
   "source": [
    "z = np.zeros(size, dtype=np.complex)\n",
    "it_matrix = np.zeros(size, dtype=np.int)\n",
    "for n in range(30):\n",
    "    z = z**2 + c\n",
    "    it_matrix[np.abs(z) < 2] = n"
   ]
  },
  {
   "cell_type": "code",
   "execution_count": null,
   "metadata": {
    "slideshow": {
     "slide_type": "subslide"
    }
   },
   "outputs": [],
   "source": [
    "plt.figure(figsize=(10,10))\n",
    "plt.imshow(it_matrix)"
   ]
  },
  {
   "cell_type": "markdown",
   "metadata": {
    "slideshow": {
     "slide_type": "subslide"
    }
   },
   "source": [
    "### Continiously colored version\n",
    "\n",
    "Let's rewrite this to continiously color the figure by the value when it diverged. We'll also be a bit more clever about avoiding warnings from numpy."
   ]
  },
  {
   "cell_type": "code",
   "execution_count": null,
   "metadata": {},
   "outputs": [],
   "source": [
    "z = np.zeros(size, dtype=np.complex)\n",
    "it_matrix = np.zeros(size, dtype=np.double)\n",
    "for n in range(50):\n",
    "    z[it_matrix == 0] = z[it_matrix == 0]**2 + c[it_matrix == 0]\n",
    "    filt = (it_matrix == 0) & (np.abs(z) > 2)\n",
    "    it_matrix[filt] =  n + 1 - np.log(np.log(np.abs(z[filt])))/np.log(2)"
   ]
  },
  {
   "cell_type": "code",
   "execution_count": null,
   "metadata": {
    "slideshow": {
     "slide_type": "subslide"
    }
   },
   "outputs": [],
   "source": [
    "plt.figure(figsize=(10,10))\n",
    "plt.imshow(it_matrix)"
   ]
  },
  {
   "cell_type": "markdown",
   "metadata": {
    "slideshow": {
     "slide_type": "subslide"
    }
   },
   "source": [
    "### Try it yourself:\n",
    "\n",
    "* Put together a function that computes the mandelbrot set. Make at least the size a default parameter.\n",
    "* Adjust parameters to see the effect\n",
    "\n",
    "\n",
    "See also https://www.ibm.com/developerworks/community/blogs/jfp/entry/How_To_Compute_Mandelbrodt_Set_Quickly?lang=en\n",
    "for way too many ways to do mandelbrots in Python, along with performance measurements."
   ]
  }
 ],
 "metadata": {
  "kernel_info": {
   "name": "anaconda"
  },
  "kernelspec": {
   "display_name": "Anaconda Python 3.6",
   "language": "python",
   "name": "sys_python36"
  },
  "language_info": {
   "codemirror_mode": {
    "name": "ipython",
    "version": 3
   },
   "file_extension": ".py",
   "mimetype": "text/x-python",
   "name": "python",
   "nbconvert_exporter": "python",
   "pygments_lexer": "ipython3",
   "version": "3.6.5"
  }
 },
 "nbformat": 4,
 "nbformat_minor": 4
}
