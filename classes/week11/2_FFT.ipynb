{
 "cells": [
  {
   "cell_type": "markdown",
   "metadata": {},
   "source": [
    "# Week 11 Day 2: Fast Fourier Transform (FFT)\n",
    "\n",
    "## Objectives\n",
    "\n",
    "* Learn a bit about the way a FFT works"
   ]
  },
  {
   "cell_type": "code",
   "execution_count": null,
   "metadata": {},
   "outputs": [],
   "source": [
    "import numpy as np\n",
    "import matplotlib.pyplot as plt"
   ]
  },
  {
   "cell_type": "markdown",
   "metadata": {},
   "source": [
    "### The Fast Fourier Transform\n",
    "\n",
    "The FFT has been called one of the 10 most important algorithms of our time. Let's take a second to look at the pair of lists [available here](https://nickhigham.wordpress.com/2016/03/29/the-top-10-algorithms-in-applied-mathematics/):\n",
    "\n",
    "| 2016 PCAM index | 2000 Computing in Science and Engineering |\n",
    "|----------------------------------------|------------------------|\n",
    "| Newton and quasi-Newton methods        | The Fortran Optimizing Compiler |\n",
    "| Matrix factorizations (LU, Cholesky, QR) | --- |\n",
    "| Singular value decomposition, QR and QZ algorithms| --- |\n",
    "| Monte-Carlo methods                    | --- |\n",
    "| Fast Fourier transform                 | --- |\n",
    "| Krylov subspace methods (conjugate gradients, Lanczos, GMRES, minres)\n",
    "| JPEG                                   | Quicksort algorithm for sorting |\n",
    "| PageRank                               | Integer relation detection |\n",
    "| Simplex algorithm                      | --- |\n",
    "| Kalman filter                          | Fast multipole method |\n",
    "\n",
    "(The items that match are marked with ---). Both lists prominently feature the FFT."
   ]
  },
  {
   "cell_type": "markdown",
   "metadata": {},
   "source": [
    "Why is FFT so important? Let's look at performance. A way to relate different algorithms is the order, $\\mathcal{O}$. This gives you an idea of how the algorithm grows with the size of the problem - it says nothing about the overall time. Hopefully, overall speed is optimal for an algorithm; maybe we are using Numba or something like that; but even if you are not, the order still holds between similar implementations. The order really describes the number of operations an algorithm requires, but that should be related to the time."
   ]
  },
  {
   "cell_type": "markdown",
   "metadata": {},
   "source": [
    "Assuming you have N elements,\n",
    "\n",
    "* $\\mathcal{O}(1)$: Does not depend on the number of elements at all, just takes a constant amount of time. \n",
    "* $\\mathcal{O}(N)$: Doubling the number of elements doubles the about of time\n",
    "* $\\mathcal{O}(N^2)$: Doubling the number of elements quadruples the about of time\n",
    "\n",
    "Etc."
   ]
  },
  {
   "cell_type": "markdown",
   "metadata": {},
   "source": [
    "If you look at the DFT algorithm, you'll see it has $N\\times N$ calculations, so it is order $\\mathcal{O}(N^2)$. This means for $N=1,000$ elements, you would need $1,000,000$ calculations (where \"calculations\" has an unspecified size). FFTs are order $\\mathcal{O}(N \\log_2 N)$ instead. So, since $1024 = 2^{10}$, this is roughly $1000\\times 10 = 10,000$ calculations - that's 100 times faster. Feel free to repeat the calculation with $1,000,000$ elements, which is not unreasonable for an FT problem."
   ]
  },
  {
   "cell_type": "markdown",
   "metadata": {},
   "source": [
    "Let's revisit the DFT algorithm:\n",
    "\n",
    "$$\n",
    "Z = e^{-2 \\pi i / N} \\\\\n",
    "Y_n = \\frac{1}{\\sqrt{2 \\pi}} \\sum_{k=0}^{N-1} Z^{n k} y_k\n",
    "$$\n",
    "\n",
    "Here we have adjusted the formula from last time slightly to ensure both $n$ and $k$ start at 0. (The book seems to have an error here, because in later discussions the k's start from 0.)\n",
    "Since both $n$ and $k$ vary over $N$ values, this is $N^2$ calculations. Let's investigate the most popular FFT algorithm, the Cooley–Tukey FFT. This one requires you have a power of 2 number of elements. Other FFT algorithms exist - but you can always \"pad\" your data to the next power of two and use this one."
   ]
  },
  {
   "cell_type": "markdown",
   "metadata": {},
   "source": [
    "### Cooly-Tukey FFT"
   ]
  },
  {
   "cell_type": "markdown",
   "metadata": {},
   "source": [
    "Our approach is a bit different in the book, feel free to look at that too.\n",
    "\n",
    "We can break the DFT calculation into two pieces, the even $k$ terms and the odd $k$:\n",
    "\n",
    "$$\n",
    "Y_n =\n",
    "\\frac{1}{\\sqrt{2 \\pi}} \\sum_{k=0}^{N/2 - 1} Z^{n (2 k)} y_{2 k} +\n",
    "\\frac{1}{\\sqrt{2 \\pi}} \\sum_{k=0}^{N/2 - 1} Z^{n (2 k + 1)} y_{2 k + 1}\n",
    "$$"
   ]
  },
  {
   "cell_type": "markdown",
   "metadata": {},
   "source": [
    "We can then make two definitions here:\n",
    "\n",
    "$$\n",
    "E_n \\equiv  \\frac{1}{\\sqrt{2 \\pi}} \\sum_{k=0}^{N/2 - 1} Z^{n (2 k)} y_{2 k} \\\\\n",
    "O_n \\equiv  \\frac{1}{\\sqrt{2 \\pi}} \\sum_{k=0}^{N/2 - 1} Z^{n (2 k)} y_{2 k + 1}\n",
    "$$\n",
    "\n",
    "So the above expression becomes:\n",
    "\n",
    "$$\n",
    "Y_n = E_n + Z^n O_n\n",
    "$$"
   ]
  },
  {
   "cell_type": "markdown",
   "metadata": {},
   "source": [
    "Given that this is periodic, we can also compute $Y_{n+N/2}$:\n",
    "\n",
    "$$\n",
    "Y_{n+N/2} =\n",
    "\\frac{1}{\\sqrt{2 \\pi}} \\sum_{k=0}^{N/2 - 1} Z^{(n+N/2) (2 k)} y_{2 k} +\n",
    "\\frac{1}{\\sqrt{2 \\pi}} \\sum_{k=0}^{N/2 - 1} Z^{(n+N/2) (2 k + 1)} y_{2 k + 1}\n",
    "$$\n",
    "\n",
    "We can expand the terms in the exponents:\n",
    "\n",
    "$$\n",
    "Y_{n+N/2}=\n",
    " \\frac{1}{\\sqrt{2\\pi}}\\sum_{k=0}^{N/2-1}Z^{2kn}Z^{Nk}y_{2k}\n",
    "+Z^{n}Z^{N/2}\\frac{1}{\\sqrt{2\\pi}}\\sum_{k=0}^{N/2-1}Z^{2kn}Z^{kN}y_{2k+1}\n",
    "$$\n",
    "\n",
    "However, by using our definition of $Z$, we have $Z^{kN} = e^{-2 \\pi i k}$. For integer $k$, this is just 1. We can also evaluate $Z^{N/2} = e^{- \\pi i} = -1$. At this point, we have now recovered the original expression, with a relative minus sign!\n",
    "\n",
    "$$\n",
    "Y_{n+N/2}=\n",
    " \\frac{1}{\\sqrt{2\\pi}}\\sum_{k=0}^{N/2-1}Z^{2kn}y_{2k}\n",
    "-Z^{n}\\frac{1}{\\sqrt{2\\pi}}\\sum_{k=0}^{N/2-1}Z^{2kn}y_{2k+1}\n",
    "$$\n",
    "\n",
    "$$\n",
    "Y_{n+N/2} = E_n - Z^n O_n\n",
    "$$"
   ]
  },
  {
   "cell_type": "markdown",
   "metadata": {},
   "source": [
    "So now we can split our sum into two pieces, odd and even, then combine using the above definitions to produce 2 outputs for each calculation. We could continue to break up the sum in this manor, until we have 1 item in each - this is a recursive algorithm, and it's where the $\\log_2(N)$ comes from. And, one item is really simple to calculate, that's just $E_0 = y_0$ and $O_0 = y_1$ (dropping the $1/\\sqrt(2 \\pi)$ factor, since you can add that later)."
   ]
  },
  {
   "cell_type": "markdown",
   "metadata": {},
   "source": [
    "### Recursive Cooly-Tukey FFT\n",
    "\n",
    "Let's try it:"
   ]
  },
  {
   "cell_type": "code",
   "execution_count": null,
   "metadata": {},
   "outputs": [],
   "source": [
    "def ct_fft_recursive(x):\n",
    "    N = len(x)\n",
    "    \n",
    "    if(N == 1):\n",
    "        return x\n",
    "    \n",
    "    Z = np.exp(-2 * np.pi * 1j / N)\n",
    "    k = np.arange(N//2)\n",
    "    \n",
    "    evens = ct_fft_recursive(x[::2])\n",
    "    odds = Z**k * ct_fft_recursive(x[1::2])\n",
    "    \n",
    "    return np.concatenate((evens + odds,\n",
    "                           evens - odds))"
   ]
  },
  {
   "cell_type": "code",
   "execution_count": null,
   "metadata": {},
   "outputs": [],
   "source": [
    "N = 2**9\n",
    "T = 1.0 / 800.0\n",
    "x = np.linspace(0.0, N*T, N)\n",
    "y = np.sin(50.0 * 2.0*np.pi*x) + 0.5*np.sin(80.0 * 2.0*np.pi*x)"
   ]
  },
  {
   "cell_type": "code",
   "execution_count": null,
   "metadata": {},
   "outputs": [],
   "source": [
    "# If you want to JIT the above function, either use `return x + 0j` or the following: \n",
    "y = y.astype(complex)"
   ]
  },
  {
   "cell_type": "code",
   "execution_count": null,
   "metadata": {},
   "outputs": [],
   "source": [
    "# Our algorithm\n",
    "yf = ct_fft_recursive(y)\n",
    "xf = np.linspace(0.0, 1.0/(2.0*T), N)\n",
    "norm_yf = 2.0/N * np.abs(yf)\n",
    "\n",
    "plt.plot(xf, norm_yf)\n",
    "plt.show()"
   ]
  },
  {
   "cell_type": "code",
   "execution_count": null,
   "metadata": {},
   "outputs": [],
   "source": [
    "# Official Numpy algorithm\n",
    "yf = np.fft.fft(y)\n",
    "xf = np.linspace(0.0, 1.0/(2.0*T), N)\n",
    "norm_yf = 2.0/N * np.abs(yf)\n",
    "\n",
    "plt.plot(xf, norm_yf)\n",
    "plt.show()"
   ]
  },
  {
   "cell_type": "code",
   "execution_count": null,
   "metadata": {},
   "outputs": [],
   "source": [
    "%%timeit\n",
    "ct_fft_recursive(y)"
   ]
  },
  {
   "cell_type": "code",
   "execution_count": null,
   "metadata": {},
   "outputs": [],
   "source": [
    "%%timeit\n",
    "np.fft.fft(y)"
   ]
  },
  {
   "cell_type": "markdown",
   "metadata": {},
   "source": [
    "You can get a factor 10 speed up from Numba; further gains could be obtained by avoiding the memory allocations and things like that. There are also other "
   ]
  },
  {
   "cell_type": "markdown",
   "metadata": {},
   "source": [
    "### Bitflip Cooly-Tukey FFT\n",
    "\n",
    "Like many recursive algorithms, you can also implement this in a normal loop, as well. We just need to get the ordering right - the algorithm above has a special output order: it is the same as flipping the bits on an N length binary number."
   ]
  },
  {
   "cell_type": "markdown",
   "metadata": {},
   "source": [
    "This algorithm can be best seen by looking at a feature of the above multiplication, $nk$. Let's look at a matrix of $nk$:"
   ]
  },
  {
   "cell_type": "code",
   "execution_count": null,
   "metadata": {},
   "outputs": [],
   "source": [
    "N = 8\n",
    "n_or_k = np.arange(N)\n",
    "nk = n_or_k.reshape(1,-1) * n_or_k.reshape(-1,1)\n",
    "for row in nk:\n",
    "    print(' + '.join(f\"{v: >2}\" for v in row))"
   ]
  },
  {
   "cell_type": "markdown",
   "metadata": {},
   "source": [
    "Notice there are lots of repeats here - this means we are doing the same calculation many times. Let's see if we can avoid repeated calculations (we'll actually do even a bit better than it looks above)."
   ]
  },
  {
   "cell_type": "markdown",
   "metadata": {},
   "source": [
    "## FFTs for compression\n",
    "\n",
    "How could an FFT be used for compression? If we truncate the series, we can throw away the high frequency components of a signal, while keeping the basic (low frequency) shape intact. Let's try:"
   ]
  },
  {
   "cell_type": "code",
   "execution_count": null,
   "metadata": {},
   "outputs": [],
   "source": [
    "x = np.linspace(-50,50,1000)\n",
    "y = np.sin(x) / x"
   ]
  },
  {
   "cell_type": "code",
   "execution_count": null,
   "metadata": {},
   "outputs": [],
   "source": [
    "plt.plot(x,y)"
   ]
  },
  {
   "cell_type": "code",
   "execution_count": null,
   "metadata": {},
   "outputs": [],
   "source": [
    "ft = np.fft.rfft(y)\n",
    "plt.plot(np.abs(ft))"
   ]
  },
  {
   "cell_type": "markdown",
   "metadata": {},
   "source": [
    "#### Lossy compression:"
   ]
  },
  {
   "cell_type": "code",
   "execution_count": null,
   "metadata": {},
   "outputs": [],
   "source": [
    "ft[30:] = 0"
   ]
  },
  {
   "cell_type": "code",
   "execution_count": null,
   "metadata": {},
   "outputs": [],
   "source": [
    "yp = np.fft.irfft(ft)\n",
    "plt.plot(x,yp)"
   ]
  },
  {
   "cell_type": "code",
   "execution_count": null,
   "metadata": {},
   "outputs": [],
   "source": []
  }
 ],
 "metadata": {
  "kernelspec": {
   "display_name": "Mimic OSC",
   "language": "python",
   "name": "sys_python36"
  },
  "language_info": {
   "codemirror_mode": {
    "name": "ipython",
    "version": 3
   },
   "file_extension": ".py",
   "mimetype": "text/x-python",
   "name": "python",
   "nbconvert_exporter": "python",
   "pygments_lexer": "ipython3",
   "version": "3.7.0"
  }
 },
 "nbformat": 4,
 "nbformat_minor": 2
}
