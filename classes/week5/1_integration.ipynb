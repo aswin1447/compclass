{
 "cells": [
  {
   "cell_type": "markdown",
   "metadata": {},
   "source": [
    "# Numerical Integration\n",
    "\n",
    "## Objectives\n",
    "* Learn to implement a few simple integration routines\n",
    "* Use built-in tools (Numpy and Scipy) to integrate\n",
    "* Study best practices"
   ]
  },
  {
   "cell_type": "markdown",
   "metadata": {},
   "source": [
    "Standard imports"
   ]
  },
  {
   "cell_type": "code",
   "execution_count": null,
   "metadata": {},
   "outputs": [],
   "source": [
    "%matplotlib notebook\n",
    "import numpy as np\n",
    "import matplotlib.pyplot as plt"
   ]
  },
  {
   "cell_type": "markdown",
   "metadata": {},
   "source": [
    "Aside: I wanted to setup a fun function to integrate. Here's how I played with a polynomial till I got one I liked. First, make a (mostly empty) plot to put our interactive output:"
   ]
  },
  {
   "cell_type": "code",
   "execution_count": null,
   "metadata": {},
   "outputs": [],
   "source": [
    "from ipywidgets import interact"
   ]
  },
  {
   "cell_type": "code",
   "execution_count": null,
   "metadata": {},
   "outputs": [],
   "source": [
    "x = np.linspace(0,10)"
   ]
  },
  {
   "cell_type": "code",
   "execution_count": null,
   "metadata": {},
   "outputs": [],
   "source": [
    "fig, ax = plt.subplots()\n",
    "lines, = plt.plot([],[])\n",
    "ax.set_xlim(0,10)\n",
    "ax.set_ylim(-10,10)\n",
    "plt.show()"
   ]
  },
  {
   "cell_type": "code",
   "execution_count": null,
   "metadata": {},
   "outputs": [],
   "source": [
    "def f(a=(-1.,1.), b=(-1.,1.), c=(-10.,10.), d=(-10.,10.)):\n",
    "    lines.set_data(x, np.poly1d([a, b, c, d, 0])(x))\n",
    "    \n",
    "interact(f);"
   ]
  },
  {
   "cell_type": "markdown",
   "metadata": {},
   "source": [
    "## Trapezoid"
   ]
  },
  {
   "cell_type": "markdown",
   "metadata": {},
   "source": [
    "Okay, I have something I like. Let's compute:\n",
    "\n",
    "$$\n",
    "Ax^4 + Bx^3 + Cx^2 + Dx + E\n",
    "$$\n",
    "\n",
    "Where $A=-0.1, B=1.0, C=-3.1, D=3.6, E=0.5$. I've just picked nice numbers to give an interesting plot and integral."
   ]
  },
  {
   "cell_type": "code",
   "execution_count": null,
   "metadata": {},
   "outputs": [],
   "source": [
    "x = np.linspace(0,5.5,500)\n",
    "f = np.poly1d([-.1, 1.0, -3.1, 3.6, 0.5])\n",
    "y = f(x)\n",
    "x_i = np.linspace(0,5.5,4)\n",
    "y_i = f(x_i)\n",
    "\n",
    "fig, ax = plt.subplots()\n",
    "plt.plot(x, y)\n",
    "plt.plot(x_i, y_i, 'o-r')\n",
    "plt.plot(x_i, y_i*0, 'o-r')\n",
    "plt.vlines(x_i, y_i*0, y_i, 'r')\n",
    "plt.show()"
   ]
  },
  {
   "cell_type": "markdown",
   "metadata": {},
   "source": [
    "Let's try integrating with several different values of N (picking odd values for later use - we could have even numbers if we wanted). Let's also compare with `np.trapz`."
   ]
  },
  {
   "cell_type": "code",
   "execution_count": null,
   "metadata": {},
   "outputs": [],
   "source": [
    "for i in 3,5,7,11,21,101,1001:\n",
    "    x_i = np.linspace(0,5.5,i)\n",
    "    y_i = f(x_i)\n",
    "    h = np.diff(x_i)[0]\n",
    "    my_intg = 1/2*h*np.sum(y_i[:-1] + y_i[1:])\n",
    "    of_intg = np.trapz(y_i, x_i)\n",
    "    print(f\"{i: 5} {my_intg: 16.12f} {of_intg: 16.12f}\")"
   ]
  },
  {
   "cell_type": "markdown",
   "metadata": {},
   "source": [
    "We can also calculate the exact value, since it's just a polynomial. In fact, since we built it with a specialized class in numpy, we can just call `.integ` to get the analytic integral (and then we call that with our points):"
   ]
  },
  {
   "cell_type": "code",
   "execution_count": null,
   "metadata": {},
   "outputs": [],
   "source": [
    "f.integ()(5.5)"
   ]
  },
  {
   "cell_type": "markdown",
   "metadata": {},
   "source": [
    "### Simpson's rule\n",
    "\n",
    "We'll get the `integrate` subpackage from scipy - it has a lot of integration functions."
   ]
  },
  {
   "cell_type": "code",
   "execution_count": null,
   "metadata": {},
   "outputs": [],
   "source": [
    "from scipy import integrate"
   ]
  },
  {
   "cell_type": "markdown",
   "metadata": {},
   "source": [
    "Let's make sure we are selecting the times we want with our indexing expressions:"
   ]
  },
  {
   "cell_type": "code",
   "execution_count": null,
   "metadata": {},
   "outputs": [],
   "source": [
    "index = list(range(7))\n",
    "index[:-1:2], index[1::2], index[2::2]"
   ]
  },
  {
   "cell_type": "markdown",
   "metadata": {},
   "source": [
    "Looks good! Now let's try the rule, comparing with `integrate.simps`:"
   ]
  },
  {
   "cell_type": "code",
   "execution_count": null,
   "metadata": {},
   "outputs": [],
   "source": [
    "for i in 3,5,7,11,21,101,1001:\n",
    "    x_i = np.linspace(0,5.5,i)\n",
    "    y_i = f(x_i)\n",
    "    h = np.diff(x_i)[0]\n",
    "    my_intg = 1/3*h*np.sum(y_i[:-1:2] + 4*y_i[1::2] + y_i[2::2])\n",
    "    of_intg = integrate.simps(y_i, x_i)\n",
    "    print(f\"{i: 5} {my_intg: 16.12f} {of_intg: 16.12f}\")"
   ]
  },
  {
   "cell_type": "markdown",
   "metadata": {},
   "source": [
    "## Gaussian quadrature"
   ]
  },
  {
   "cell_type": "code",
   "execution_count": null,
   "metadata": {},
   "outputs": [],
   "source": [
    "p = np.poly1d([7,-8,-3,3])"
   ]
  },
  {
   "cell_type": "code",
   "execution_count": null,
   "metadata": {},
   "outputs": [],
   "source": [
    "x = np.linspace(-1,1)\n",
    "fig, ax = plt.subplots()\n",
    "ax.plot(x, p(x))\n",
    "plt.show()"
   ]
  },
  {
   "cell_type": "code",
   "execution_count": null,
   "metadata": {},
   "outputs": [],
   "source": [
    "p.integ()(1) - p.integ()(-1) "
   ]
  },
  {
   "cell_type": "code",
   "execution_count": null,
   "metadata": {},
   "outputs": [],
   "source": [
    "p(-np.sqrt(1/3)) + p(np.sqrt(1/3))"
   ]
  },
  {
   "cell_type": "markdown",
   "metadata": {},
   "source": [
    "### Optional: Use SymPy (Symbolic library for Python) to pretty print"
   ]
  },
  {
   "cell_type": "code",
   "execution_count": null,
   "metadata": {},
   "outputs": [],
   "source": [
    "from sympy.abc import x\n",
    "import sympy\n",
    "sympy.init_printing()"
   ]
  },
  {
   "cell_type": "code",
   "execution_count": null,
   "metadata": {},
   "outputs": [],
   "source": [
    "p(x).expand()"
   ]
  },
  {
   "cell_type": "code",
   "execution_count": null,
   "metadata": {},
   "outputs": [],
   "source": [
    "p(x).integrate(x).expand()"
   ]
  },
  {
   "cell_type": "markdown",
   "metadata": {},
   "source": [
    "### Making Gaussian quadrature:"
   ]
  },
  {
   "cell_type": "markdown",
   "metadata": {},
   "source": [
    "Slightly improved version:"
   ]
  },
  {
   "cell_type": "code",
   "execution_count": null,
   "metadata": {},
   "outputs": [],
   "source": [
    "max_in = 11\n",
    "\n",
    "w = np.zeros(2001, dtype=np.float64)\n",
    "x = np.zeros(2001, dtype=np.float64)\n",
    "\n",
    "def func_e(x):\n",
    "    return np.exp(-x)\n",
    "\n",
    "def gauss(npts, job, a, b, x, w,\n",
    "          vmin=0.0, vmax=0.0):\n",
    "    m=i=j=t=t1=pp=p1=p2=p3=0.\n",
    "    \n",
    "    eps = 3E-14 # Accuracy: ******ADJUST THIS*******!\n",
    "    m = (npts + 1)//2\n",
    "    for i in range(1, m + 1):\n",
    "        t = np.cos(np.pi*(float(i) - 0.25)/(float(npts) + 0.5) )\n",
    "        \n",
    "        t1 = 1\n",
    "        while(abs(t - t1) >= eps):\n",
    "            p1=1.; p2=0.\n",
    "            for j in range(1, npts + 1):\n",
    "                p3 = p2; p2 = p1\n",
    "                p1 = ((2.*float(j)-1)*t*p2 - (float(j)-1.)*p3)/(float(j))\n",
    "            pp = npts*(t*p1 - p2)/(t*t - 1.)\n",
    "            t1=t\n",
    "            t=t1 - p1/pp\n",
    "            \n",
    "        x[i - 1] = - t\n",
    "        x[npts - i] = t\n",
    "        w[i - 1] = 2./( (1. - t*t)*pp*pp)\n",
    "        w[npts - i] = w[i - 1]\n",
    "        \n",
    "    if (job == 0):\n",
    "        for i in range(0, npts):\n",
    "            x[i] = x[i]*(b - a)/2. + (b + a)/2.\n",
    "            w[i] = w[i]*(b - a)/2.\n",
    "            \n",
    "    if (job == 1):\n",
    "        for i in range(0, npts):\n",
    "            xi   = x[i]\n",
    "            x[i] = a*b*(1. + xi) / (b + a - (b - a)*xi)\n",
    "            w[i] = w[i]*2.*a*b*b/( (b + a - (b-a)*xi)*(b + a - (b-a)*xi))\n",
    "            \n",
    "    if (job == 2):\n",
    "        for i in range(0, npts):\n",
    "            xi = x[i]\n",
    "            x[i]=(b*xi+ b+a+a)/(1.-xi)\n",
    "            w[i] = w[i]*2.*(a + b)/( (1. - xi)*(1. - xi) )\n",
    "                                                                           \n",
    "            \n",
    "def gaussint (no, min, max):\n",
    "    quadra = 0.\n",
    "    gauss(no, 0, min, max, x, w)\n",
    "    for n in range(0, no):\n",
    "        quadra += func_e(x[n]) * w[n]\n",
    "    return quadra\n",
    "\n",
    "for i in range(3, max_in + 1, 2):\n",
    "    result = gaussint(i, 0.0, 1.0)\n",
    "    print(\" i \", i, \" err \", abs(result - 1 + 1/np.exp(1)))\n"
   ]
  },
  {
   "cell_type": "markdown",
   "metadata": {},
   "source": [
    "Much better version:"
   ]
  },
  {
   "cell_type": "code",
   "execution_count": null,
   "metadata": {},
   "outputs": [],
   "source": [
    "def gauss_new(npts, job,\n",
    "              a, b,\n",
    "              vmin=0.0, vmax=0.0,\n",
    "              eps=3e-14):\n",
    "    \n",
    "    x = np.zeros(npts, dtype=np.float64)  \n",
    "    w = np.zeros(npts, dtype=np.float64)\n",
    "    \n",
    "    for i in range((npts + 1) // 2):\n",
    "        t = np.cos(np.pi*(i + 0.75) / (npts + 0.5))\n",
    "        \n",
    "        t1 = 1\n",
    "        while abs(t - t1) >= eps:\n",
    "            p1=1.\n",
    "            p2=0.\n",
    "            for j in range(npts):\n",
    "                p3 = p2\n",
    "                p2 = p1\n",
    "                p1 = ((2*j+1)*t*p2 - j*p3)/(j+1)\n",
    "                \n",
    "            pp = npts*(t*p1 - p2)/(t**2 - 1)\n",
    "            t1 = t\n",
    "            t = t1 - p1/pp\n",
    "        \n",
    "        x[i]  = -t\n",
    "        x[~i] = t\n",
    "        w[i]  = 2/((1 - t**2)*pp**2)\n",
    "        w[~i] = w[i]\n",
    "        \n",
    "    if job == 0:\n",
    "        w = w*(b - a)/2\n",
    "        x = x*(b - a)/2 + (b + a)/2\n",
    "            \n",
    "    elif job == 1:\n",
    "        # Use old x for w and x calcs\n",
    "        w = w*2*a*b**2/(b + a - (b - a)*x)**2\n",
    "        x = a*b*(1 + x) / (b + a - (b - a)*x)\n",
    "\n",
    "            \n",
    "    elif job == 2:\n",
    "        # Use old x for w and x calcs\n",
    "        w = w*2*(a + b)/(1 - x)**2\n",
    "        x = (b*x + b + 2*a)/(1 - x)\n",
    "        \n",
    "    else:\n",
    "        raise RuntimeError(f\"Job ({job}) must be 0, 1, or 2\")\n",
    "  \n",
    "    return x, w\n",
    "\n",
    "def gaussint_new(f, no, min, max):\n",
    "    quadra = 0.\n",
    "    x, w = gauss_new(no, 0, min, max)\n",
    "    for n in range(no):\n",
    "        quadra += f(x[n]) * w[n]\n",
    "    return quadra\n",
    "\n",
    "for i in range(3, max_in + 1, 2):\n",
    "    result = gaussint_new(func_e, i, 0, 1)\n",
    "    print(\"i\", i, \"err\", abs(result - 1 + 1/np.exp(1)))"
   ]
  },
  {
   "cell_type": "markdown",
   "metadata": {},
   "source": [
    "Using the classic `QUADPACK` from the Fortran days..."
   ]
  },
  {
   "cell_type": "code",
   "execution_count": null,
   "metadata": {},
   "outputs": [],
   "source": [
    "result, *_ = integrate.quad(func_e, 0, 1)\n",
    "print(abs(result - 1 + 1/np.exp(1)))"
   ]
  },
  {
   "cell_type": "markdown",
   "metadata": {},
   "source": [
    "Using `fixed_quad`, which should be fairly similar to our algorithm:"
   ]
  },
  {
   "cell_type": "code",
   "execution_count": null,
   "metadata": {},
   "outputs": [],
   "source": [
    "for i in range(3, max_in + 1, 2):\n",
    "    result, *_ = integrate.fixed_quad(func_e, 0, 1, n=i)\n",
    "    print(\"i\", i, \"err\", abs(result - 1 + 1/np.exp(1)))"
   ]
  },
  {
   "cell_type": "markdown",
   "metadata": {},
   "source": [
    "Look at the \"See Also\" section of the docstrings for the integration functions!"
   ]
  }
 ],
 "metadata": {
  "language_info": {
   "codemirror_mode": {
    "name": "ipython",
    "version": 3
   },
   "file_extension": ".py",
   "mimetype": "text/x-python",
   "name": "python",
   "nbconvert_exporter": "python",
   "pygments_lexer": "ipython3",
   "version": "3.6.5"
  }
 },
 "nbformat": 4,
 "nbformat_minor": 2
}
