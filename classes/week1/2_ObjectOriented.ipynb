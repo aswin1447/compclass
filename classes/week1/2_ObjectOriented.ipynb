{
 "cells": [
  {
   "cell_type": "markdown",
   "metadata": {},
   "source": [
    "# Object oriented programming\n",
    "\n",
    "## Objectives\n",
    "* Learn how to use objects\n",
    "* Learn how to make classes"
   ]
  },
  {
   "cell_type": "markdown",
   "metadata": {},
   "source": [
    "Objects are everywhere in Python. And you can make your own!\n",
    "\n",
    "Why?\n",
    "\n",
    "* You can abstract data and actions into one package\n",
    "* You can change the object behavior to be \"natural\" for your situation\n",
    "* You can replace parts of functions\n",
    "* You can template an interface"
   ]
  },
  {
   "cell_type": "markdown",
   "metadata": {},
   "source": [
    "#### Abstract data and actions\n",
    "\n",
    "```python\n",
    "my_data_file = MyDataClass(...)\n",
    "\n",
    "my_data_file.check_data()\n",
    "my_data_file.process()\n",
    "my_data_file.plot()\n",
    "```\n",
    "\n",
    "Data and actions usually are related."
   ]
  },
  {
   "cell_type": "markdown",
   "metadata": {},
   "source": [
    "#### Change behavior of objects\n",
    "\n",
    "```python\n",
    "vector_1 = Vector(...)\n",
    "vector_2 = Vector(...)\n",
    "vector_3 = vector_1 + vector_2\n",
    "print(vector_3)\n",
    "```\n",
    "\n",
    "Most of Python's syntax can be controlled by the classes. Math, printing, most built-in functions, indexing, iteration, `with` statements, you name it. It's easier to go over what you can't modify: `and`, `or`, `is`, and the basic assignment operator."
   ]
  },
  {
   "cell_type": "markdown",
   "metadata": {},
   "source": [
    "#### Replacing parts of functions (or data):\n",
    "\n",
    "```python\n",
    "def my_long_function():\n",
    "    # Do something 1\n",
    "    ...\n",
    "    # Do something 2\n",
    "    ...\n",
    "    # Do something 3\n",
    "    ...\n",
    "```\n",
    "\n",
    "What happens if you only need to replace the middle part? Objects give you a way to make these parts modular without replacing `my_long_function`"
   ]
  },
  {
   "cell_type": "markdown",
   "metadata": {},
   "source": [
    "#### Template an interace\n",
    "\n",
    "```python\n",
    "\n",
    "class MySolution(InstructorTemplate):\n",
    "    def solution_1(...\n",
    "```\n",
    "\n",
    "You can implement a framework that requires a user implement a few parts, while you do the rest. Might be handy for problem sets, for example! Given Python's amazing abilities at inspection, you can do practically anything here."
   ]
  },
  {
   "cell_type": "code",
   "execution_count": 1,
   "metadata": {},
   "outputs": [],
   "source": [
    "class MySimleClass:\n",
    "    def __init__(self, value):\n",
    "        self.value = value"
   ]
  },
  {
   "cell_type": "code",
   "execution_count": null,
   "metadata": {},
   "outputs": [],
   "source": [
    "## Naming:\n",
    "\n",
    "Python "
   ]
  }
 ],
 "metadata": {
  "kernelspec": {
   "display_name": "Anaconda Python 3",
   "language": "python",
   "name": "anaconda"
  },
  "language_info": {
   "codemirror_mode": {
    "name": "ipython",
    "version": 3
   },
   "file_extension": ".py",
   "mimetype": "text/x-python",
   "name": "python",
   "nbconvert_exporter": "python",
   "pygments_lexer": "ipython3",
   "version": "3.6.5"
  }
 },
 "nbformat": 4,
 "nbformat_minor": 2
}
