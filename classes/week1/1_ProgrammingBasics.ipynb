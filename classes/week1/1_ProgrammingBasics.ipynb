{
 "cells": [
  {
   "cell_type": "markdown",
   "metadata": {},
   "source": [
    "# Programming basics\n",
    "\n",
    "## Objectives:\n",
    "\n",
    "* Learn the 5 components of the Python Syntax\n",
    "* Understand Python's object system\n",
    "* Learn to interact with the IPython prompt in the Jupyter notebook"
   ]
  },
  {
   "cell_type": "markdown",
   "metadata": {},
   "source": [
    "## Jupyter, IPython, Python, oh my!\n",
    "\n",
    "Just to keep the computational model straight, we are using:\n",
    "\n",
    "* Python 3.6, a interpreted programming language\n",
    "* A REPL, which **R**eads a line, **E**valuates it, then **P**rints it (in a **L**oop)\n",
    "    - this is why we don't need to write `print` to see the last un-captured value in a cell\n",
    "* IPython, which is an enhancement to make Python more **I**nteractive\n",
    "    - You can't use these enhancements in a library, but they generally are only useful interactivally anyway\n",
    "* Jupyter notebooks, which is a web based display of a Kernel, such as IPython (or many other language kernels).\n",
    "\n",
    "```\n",
    "  Jupyter notebook    ->        IPython      ->      Python\n",
    "--------------------     ------------------     ------------------\n",
    "This is what you see     Checks for special     Does the real work\n",
    "                         syntax, then sends\n",
    "                         it on\n",
    "```"
   ]
  },
  {
   "cell_type": "markdown",
   "metadata": {},
   "source": [
    "## Basics of programming\n",
    "\n",
    "Computing can be broken down to two things:\n",
    "\n",
    "* Variables: These hold data\n",
    "* Functions: These perform operations (usually on variables)"
   ]
  },
  {
   "cell_type": "code",
   "execution_count": 30,
   "metadata": {},
   "outputs": [],
   "source": [
    "# This is a variable\n",
    "variable = 3\n",
    "\n",
    "# This is a function\n",
    "def function(x):\n",
    "    return pow(x, 2)"
   ]
  },
  {
   "cell_type": "code",
   "execution_count": 20,
   "metadata": {},
   "outputs": [
    {
     "data": {
      "text/plain": [
       "9"
      ]
     },
     "execution_count": 20,
     "metadata": {},
     "output_type": "execute_result"
    }
   ],
   "source": [
    "function(variable)"
   ]
  },
  {
   "cell_type": "markdown",
   "metadata": {},
   "source": [
    "Don't worry about the details of the Python syntax quite yet, just focus on the two concepts: *data* and *procedures*."
   ]
  },
  {
   "cell_type": "markdown",
   "metadata": {},
   "source": [
    "#### Try it yourself\n",
    "\n",
    "The *great* thing about programming in an interpreted language like Python is that *you can try everything* yourself, in real time. Play around with the above variables and answer these questions:\n",
    "\n",
    "* Can you name a varaible `def`? Why or why not?\n",
    "* Can you name a variable `pow`? Why or why not?\n",
    "* Why might you not want to make a variable named `pow`?\n",
    "* How can you get rid of your variable named `pow`? (Hint: Try `del` or restarting your kernel (top menu))."
   ]
  },
  {
   "cell_type": "code",
   "execution_count": 31,
   "metadata": {},
   "outputs": [],
   "source": [
    "# Does not take anything or return anything\n",
    "def funct():\n",
    "     print('Called f', 1*1, 'time')"
   ]
  },
  {
   "cell_type": "markdown",
   "metadata": {},
   "source": [
    "## Python's syntax\n",
    "\n",
    "* Operators: special symbols or words that have a specific meaning. You can usually control what they do in classes.\n",
    "* Keywords: special words that have language level meaning and cannot be used elsewhere or changed.\n",
    "* Builtins: functions and objects that are pre-defined, but not special.\n",
    "* Numbers: several different number types available\n",
    "* Strings: add text to the program or help\n",
    "* Comments: start with a `#` and are ignored by Python\n",
    "\n",
    "Some general parts of the syntax, like whitespace, commas, colons, and brackets, are not called operators.\n",
    "\n",
    "#### Answer this:\n",
    "\n",
    "* What color is each of these in your notebook?"
   ]
  },
  {
   "cell_type": "markdown",
   "metadata": {},
   "source": [
    "## Objects\n",
    "\n",
    "We can go one step further from variables and functions: objects and classes.\n",
    "\n",
    "* Object: A related collection of data and functions for that data\n",
    "    * Members: Variables that hold the data for the object\n",
    "    * Methods: Functions that operate on the object data\n",
    "* Class: The \"type\" of an object; objects that have the same methods/members have the same class"
   ]
  },
  {
   "cell_type": "markdown",
   "metadata": {},
   "source": [
    "Why are objects so important in Python? Because unlike many other languages, *everything* in Python is an object! This is **very powerful**."
   ]
  },
  {
   "cell_type": "code",
   "execution_count": 23,
   "metadata": {},
   "outputs": [],
   "source": [
    "number = 1.5\n",
    "string = \"hello world\"\n",
    "complex_number = 2 + 3j"
   ]
  },
  {
   "cell_type": "markdown",
   "metadata": {},
   "source": [
    "Try running some of the methods and look at the members of the objects definded above.\n",
    "\n",
    "IPython + Jupyter keyboard hints:\n",
    "\n",
    "* Use **Tab** to see completions, either when typing a word or after a `.`\n",
    "* Use **Shift-Tab** to see the help for a function after typing it\n",
    "* Use **Shift-Enter** to execute a cell"
   ]
  },
  {
   "cell_type": "code",
   "execution_count": null,
   "metadata": {},
   "outputs": [],
   "source": []
  },
  {
   "cell_type": "markdown",
   "metadata": {},
   "source": [
    "We can use `type` to see the class of an object:"
   ]
  },
  {
   "cell_type": "code",
   "execution_count": 29,
   "metadata": {},
   "outputs": [
    {
     "data": {
      "text/plain": [
       "float"
      ]
     },
     "execution_count": 29,
     "metadata": {},
     "output_type": "execute_result"
    }
   ],
   "source": [
    "type(number)"
   ]
  },
  {
   "cell_type": "markdown",
   "metadata": {},
   "source": [
    "# Why?\n",
    "\n",
    "You may have noticed that each new concept in programming *restricts* rather than *enables*. This is odd but true: we could write any program with a very small set of constructs. However, the most important feature of programming is *orginization* (also called design). Compare this hypothetical psudo-code:\n",
    "\n",
    "```python\n",
    "i = 0\n",
    "label start\n",
    "compute(i)\n",
    "i = i + 1\n",
    "if i < 10: goto start\n",
    "```\n",
    "\n",
    "Verses real code:\n",
    "\n",
    "```python\n",
    "for i in range(10):\n",
    "    compute(i)\n",
    "```\n",
    "\n",
    "Now imagine a complex program with 1,000 of `goto` statements; you would have to work through every line of code to understand it. But if you restrict yourself to common structures, like loops, objects, functions, etc., you no longer have to look at the whole program, but just parts you recognise."
   ]
  },
  {
   "cell_type": "markdown",
   "metadata": {},
   "source": [
    "## Design in programming\n",
    "\n",
    "You should:\n",
    "\n",
    "* Make small, understandable pieces *that can be run by themselves* (Easier to debug and test)\n",
    "* Write similar code once (fewer places for bugs)\n",
    "* Reuse existing functions or libraries when possible (let someone else design and debug what they are good at)\n",
    "\n",
    "Objects are very good for the second two points (and so-so for the first).\n",
    "\n",
    "Also notice the running theme above?"
   ]
  },
  {
   "cell_type": "code",
   "execution_count": null,
   "metadata": {},
   "outputs": [],
   "source": []
  }
 ],
 "metadata": {
  "kernelspec": {
   "display_name": "Anaconda Python 3",
   "language": "python",
   "name": "anaconda"
  },
  "language_info": {
   "codemirror_mode": {
    "name": "ipython",
    "version": 3
   },
   "file_extension": ".py",
   "mimetype": "text/x-python",
   "name": "python",
   "nbconvert_exporter": "python",
   "pygments_lexer": "ipython3",
   "version": "3.6.5"
  }
 },
 "nbformat": 4,
 "nbformat_minor": 2
}
