{
 "cells": [
  {
   "cell_type": "markdown",
   "metadata": {},
   "source": [
    "# Week 11 Day 2: Fast Fourier Transform (FFT)\n",
    "\n",
    "## Objectives\n",
    "\n",
    "* Learn a bit about the way a FFT works\n",
    "* Cover two methods to implement the Cooly-Tukey FFT\n",
    "* Mention compression"
   ]
  },
  {
   "cell_type": "code",
   "execution_count": 1,
   "metadata": {},
   "outputs": [],
   "source": [
    "import numpy as np\n",
    "import matplotlib.pyplot as plt\n",
    "import numba"
   ]
  },
  {
   "cell_type": "markdown",
   "metadata": {},
   "source": [
    "### The Fast Fourier Transform\n",
    "\n",
    "The FFT has been called one of the 10 most important algorithms of our time. Let's take a second to look at the pair of lists [available here](https://nickhigham.wordpress.com/2016/03/29/the-top-10-algorithms-in-applied-mathematics/):\n",
    "\n",
    "| 2016 PCAM index | 2000 Computing in Science and Engineering |\n",
    "|----------------------------------------|------------------------|\n",
    "| Newton and quasi-Newton methods        | The Fortran Optimizing Compiler |\n",
    "| Matrix factorizations (LU, Cholesky, QR) | --- |\n",
    "| Singular value decomposition, QR and QZ algorithms| --- |\n",
    "| Monte-Carlo methods                    | --- |\n",
    "| Fast Fourier transform                 | --- |\n",
    "| Krylov subspace methods (conjugate gradients, Lanczos, GMRES, minres) | --- |\n",
    "| JPEG                                   | Quicksort algorithm for sorting |\n",
    "| PageRank                               | Integer relation detection |\n",
    "| Simplex algorithm                      | --- |\n",
    "| Kalman filter                          | Fast multipole method |\n",
    "\n",
    "(The items that match are marked with ---). Both lists prominently feature the FFT."
   ]
  },
  {
   "cell_type": "markdown",
   "metadata": {},
   "source": [
    "Why is FFT so important? Let's look at performance. A way to relate different algorithms is the order, $\\mathcal{O}$. This gives you an idea of how the algorithm grows with the size of the problem - it says nothing about the overall time. Hopefully, overall speed is optimal for an algorithm; maybe we are using Numba or something like that; but even if you are not, the order still holds between similar implementations. The order really describes the number of operations an algorithm requires, but that should be related to the time."
   ]
  },
  {
   "cell_type": "markdown",
   "metadata": {},
   "source": [
    "Assuming you have N elements,\n",
    "\n",
    "* $\\mathcal{O}(1)$: Does not depend on the number of elements at all, just takes a constant amount of time.\n",
    "* $\\mathcal{O}(N)$: Doubling the number of elements doubles the about of time\n",
    "* $\\mathcal{O}(N^2)$: Doubling the number of elements quadruples the about of time\n",
    "\n",
    "Etc."
   ]
  },
  {
   "cell_type": "markdown",
   "metadata": {},
   "source": [
    "If you look at the DFT algorithm, you'll see it has $N\\times N$ calculations, so it is order $\\mathcal{O}(N^2)$. This means for $N=1,000$ elements, you would need $1,000,000$ calculations (where \"calculations\" has an unspecified size). FFTs are order $\\mathcal{O}(N \\log_2 N)$ instead. So, since $1024 = 2^{10}$, this is roughly $1000\\times 10 = 10,000$ calculations - that's 100 times faster. Feel free to repeat the calculation with $1,000,000$ elements, which is not unreasonable for an FT problem."
   ]
  },
  {
   "cell_type": "markdown",
   "metadata": {},
   "source": [
    "Let's revisit the DFT algorithm:\n",
    "\n",
    "$$\n",
    "Z = e^{-2 \\pi i / N} \\\\\n",
    "Y_n = \\frac{1}{\\sqrt{2 \\pi}} \\sum_{k=0}^{N-1} Z^{n k} y_k\n",
    "$$\n",
    "\n",
    "Here we have adjusted the formula from last time slightly to ensure both $n$ and $k$ start at 0. (The book seems to have an error here, because in later discussions the k's start from 0.)\n",
    "Since both $n$ and $k$ vary over $N$ values, this is $N^2$ calculations. Let's investigate the most popular FFT algorithm, the Cooley–Tukey FFT. This one requires you have a power of 2 number of elements. Other FFT algorithms exist - but you can always \"pad\" your data to the next power of two and use this one."
   ]
  },
  {
   "cell_type": "markdown",
   "metadata": {},
   "source": [
    "### Cooly-Tukey FFT"
   ]
  },
  {
   "cell_type": "markdown",
   "metadata": {},
   "source": [
    "Our approach is a bit different in the book, feel free to look at that too.\n",
    "\n",
    "We can break the DFT calculation into two pieces, the even $k$ terms and the odd $k$:\n",
    "\n",
    "$$\n",
    "Y_n =\n",
    "\\frac{1}{\\sqrt{2 \\pi}} \\sum_{k=0}^{N/2 - 1} Z^{n (2 k)} y_{2 k} +\n",
    "\\frac{1}{\\sqrt{2 \\pi}} \\sum_{k=0}^{N/2 - 1} Z^{n (2 k + 1)} y_{2 k + 1}\n",
    "$$"
   ]
  },
  {
   "cell_type": "markdown",
   "metadata": {},
   "source": [
    "We can then make two definitions here:\n",
    "\n",
    "$$\n",
    "E_n \\equiv  \\frac{1}{\\sqrt{2 \\pi}} \\sum_{k=0}^{N/2 - 1} Z^{n (2 k)} y_{2 k} \\\\\n",
    "O_n \\equiv  \\frac{1}{\\sqrt{2 \\pi}} \\sum_{k=0}^{N/2 - 1} Z^{n (2 k)} y_{2 k + 1}\n",
    "$$\n",
    "\n",
    "So the above expression becomes:\n",
    "\n",
    "$$\n",
    "Y_n = E_n + Z^n O_n\n",
    "$$"
   ]
  },
  {
   "cell_type": "markdown",
   "metadata": {},
   "source": [
    "Given that this is periodic, we can also compute $Y_{n+N/2}$:\n",
    "\n",
    "$$\n",
    "Y_{n+N/2} =\n",
    "\\frac{1}{\\sqrt{2 \\pi}} \\sum_{k=0}^{N/2 - 1} Z^{(n+N/2) (2 k)} y_{2 k} +\n",
    "\\frac{1}{\\sqrt{2 \\pi}} \\sum_{k=0}^{N/2 - 1} Z^{(n+N/2) (2 k + 1)} y_{2 k + 1}\n",
    "$$\n",
    "\n",
    "We can expand the terms in the exponents:\n",
    "\n",
    "$$\n",
    "Y_{n+N/2}=\n",
    " \\frac{1}{\\sqrt{2\\pi}}\\sum_{k=0}^{N/2-1}Z^{2kn}Z^{Nk}y_{2k}\n",
    "+Z^{n}Z^{N/2}\\frac{1}{\\sqrt{2\\pi}}\\sum_{k=0}^{N/2-1}Z^{2kn}Z^{kN}y_{2k+1}\n",
    "$$\n",
    "\n",
    "However, by using our definition of $Z$, we have $Z^{kN} = e^{-2 \\pi i k}$. For integer $k$, this is just 1. We can also evaluate $Z^{N/2} = e^{- \\pi i} = -1$. At this point, we have now recovered the original expression, with a relative minus sign!\n",
    "\n",
    "$$\n",
    "Y_{n+N/2}=\n",
    " \\frac{1}{\\sqrt{2\\pi}}\\sum_{k=0}^{N/2-1}Z^{2kn}y_{2k}\n",
    "-Z^{n}\\frac{1}{\\sqrt{2\\pi}}\\sum_{k=0}^{N/2-1}Z^{2kn}y_{2k+1}\n",
    "$$\n",
    "\n",
    "$$\n",
    "Y_{n+N/2} = E_n - Z^n O_n\n",
    "$$"
   ]
  },
  {
   "cell_type": "markdown",
   "metadata": {},
   "source": [
    "So now we can split our sum into two pieces, odd and even, then combine using the above definitions to produce 2 outputs for each calculation. We could continue to break up the sum in this manor, until we have 1 item in each - this is a recursive algorithm, and it's where the $\\log_2(N)$ comes from. And, one item is really simple to calculate, that's just $E_0 = y_0$ and $O_0 = y_1$ (dropping the $1/\\sqrt{2 \\pi}$ factor, since you can add that later)."
   ]
  },
  {
   "cell_type": "markdown",
   "metadata": {},
   "source": [
    "### Recursive Cooly-Tukey FFT\n",
    "\n",
    "Let's try it:"
   ]
  },
  {
   "cell_type": "code",
   "execution_count": 2,
   "metadata": {},
   "outputs": [],
   "source": [
    "# @numba.njit\n",
    "def ct_fft_recursive(x):\n",
    "    N = len(x)\n",
    "\n",
    "    if N == 1:\n",
    "        return x\n",
    "\n",
    "    Z = np.exp(-2 * np.pi * 1j / N)\n",
    "    k = np.arange(N // 2)\n",
    "\n",
    "    evens = ct_fft_recursive(x[::2])\n",
    "    odds = Z ** k * ct_fft_recursive(x[1::2])\n",
    "\n",
    "    return np.concatenate((evens + odds, evens - odds))"
   ]
  },
  {
   "cell_type": "code",
   "execution_count": 3,
   "metadata": {},
   "outputs": [],
   "source": [
    "N = 2 ** 9\n",
    "T = 1.0 / 800.0\n",
    "x = np.linspace(0.0, N * T, N)\n",
    "y = np.sin(50.0 * 2.0 * np.pi * x) + 0.5 * np.sin(80.0 * 2.0 * np.pi * x)"
   ]
  },
  {
   "cell_type": "code",
   "execution_count": 4,
   "metadata": {},
   "outputs": [],
   "source": [
    "# If you want to JIT the above function, either use `return x + 0j` or the following:\n",
    "y = y.astype(complex)"
   ]
  },
  {
   "cell_type": "code",
   "execution_count": 5,
   "metadata": {},
   "outputs": [
    {
     "data": {
      "image/png": "[encoded data removed]",
      "text/plain": [
       "<Figure size 432x288 with 1 Axes>"
      ]
     },
     "metadata": {
      "needs_background": "light"
     },
     "output_type": "display_data"
    }
   ],
   "source": [
    "# Our algorithm\n",
    "yf = ct_fft_recursive(y)\n",
    "xf = np.linspace(0.0, 1.0 / (2.0 * T), N)\n",
    "norm_yf = 2.0 / N * np.abs(yf)\n",
    "\n",
    "plt.plot(xf, norm_yf)\n",
    "plt.show()"
   ]
  },
  {
   "cell_type": "code",
   "execution_count": 6,
   "metadata": {},
   "outputs": [
    {
     "data": {
      "image/png": "[encoded data removed]",
      "text/plain": [
       "<Figure size 432x288 with 1 Axes>"
      ]
     },
     "metadata": {
      "needs_background": "light"
     },
     "output_type": "display_data"
    }
   ],
   "source": [
    "# Official Numpy algorithm\n",
    "yf = np.fft.fft(y)\n",
    "xf = np.linspace(0.0, 1.0 / (2.0 * T), N)\n",
    "norm_yf = 2.0 / N * np.abs(yf)\n",
    "\n",
    "plt.plot(xf, norm_yf)\n",
    "plt.show()"
   ]
  },
  {
   "cell_type": "code",
   "execution_count": 7,
   "metadata": {},
   "outputs": [
    {
     "name": "stdout",
     "output_type": "stream",
     "text": [
      "4.66 ms ± 144 µs per loop (mean ± std. dev. of 7 runs, 100 loops each)\n"
     ]
    }
   ],
   "source": [
    "%%timeit\n",
    "ct_fft_recursive(y)"
   ]
  },
  {
   "cell_type": "code",
   "execution_count": 8,
   "metadata": {},
   "outputs": [
    {
     "name": "stdout",
     "output_type": "stream",
     "text": [
      "9.14 µs ± 145 ns per loop (mean ± std. dev. of 7 runs, 100000 loops each)\n"
     ]
    }
   ],
   "source": [
    "%%timeit\n",
    "np.fft.fft(y)"
   ]
  },
  {
   "cell_type": "markdown",
   "metadata": {},
   "source": [
    "You can get a factor 10 speed up from Numba; further gains could be obtained by avoiding the memory allocations and things like that. There are also other"
   ]
  },
  {
   "cell_type": "markdown",
   "metadata": {},
   "source": [
    "### Bitflip Cooly-Tukey FFT\n",
    "\n",
    "Like many recursive algorithms, you can also implement this in a normal loop, as well. We just need to get the ordering right - the algorithm above has a special output order: it is the same as flipping the bits on an N length binary number.\n"
   ]
  },
  {
   "cell_type": "markdown",
   "metadata": {},
   "source": [
    "This algorithm can be best seen by looking at a feature of the above multiplication, $nk$. Let's look at a matrix of $nk$:"
   ]
  },
  {
   "cell_type": "code",
   "execution_count": 9,
   "metadata": {},
   "outputs": [
    {
     "name": "stdout",
     "output_type": "stream",
     "text": [
      " 0 +  0 +  0 +  0 +  0 +  0 +  0 +  0\n",
      " 0 +  1 +  2 +  3 +  4 +  5 +  6 +  7\n",
      " 0 +  2 +  4 +  6 +  8 + 10 + 12 + 14\n",
      " 0 +  3 +  6 +  9 + 12 + 15 + 18 + 21\n",
      " 0 +  4 +  8 + 12 + 16 + 20 + 24 + 28\n",
      " 0 +  5 + 10 + 15 + 20 + 25 + 30 + 35\n",
      " 0 +  6 + 12 + 18 + 24 + 30 + 36 + 42\n",
      " 0 +  7 + 14 + 21 + 28 + 35 + 42 + 49\n"
     ]
    }
   ],
   "source": [
    "N = 8\n",
    "n_or_k = np.arange(N)\n",
    "nk = n_or_k.reshape(1, -1) * n_or_k.reshape(-1, 1)\n",
    "for row in nk:\n",
    "    print(\" + \".join(f\"{v: >2}\" for v in row))"
   ]
  },
  {
   "cell_type": "markdown",
   "metadata": {},
   "source": [
    "Notice there are lots of repeats here - this means we are doing the same calculation many times. Let's keep going. Since Z has some special properties; it is $e^{−2 \\pi i/N}$, so we can use the properties that $Z^{(n-N/2)} = -Z^{n}$ and $Z^{(n-N)} = Z^{n}$ to rewrite all indices in terms of the first $N/2$ indices."
   ]
  },
  {
   "cell_type": "code",
   "execution_count": 10,
   "metadata": {},
   "outputs": [
    {
     "name": "stdout",
     "output_type": "stream",
     "text": [
      "+0, +0, +0, +0, +0, +0, +0, +0\n",
      "+0, +1, +2, +3, -0, -1, -2, -3\n",
      "+0, +2, -0, -2, +0, +2, -0, -2\n",
      "+0, +3, -2, +1, -0, -3, +2, -1\n",
      "+0, -0, +0, -0, +0, -0, +0, -0\n",
      "+0, -1, +2, -3, -0, +1, -2, +3\n",
      "+0, -2, -0, +2, +0, -2, -0, +2\n",
      "+0, -3, -2, -1, -0, +3, +2, +1\n"
     ]
    }
   ],
   "source": [
    "for row in nk:\n",
    "    print(\", \".join(f\"{'+' if v%8 < 4 else '-'}{v%4}\" for v in row))"
   ]
  },
  {
   "cell_type": "markdown",
   "metadata": {},
   "source": [
    "We can now group alternating columns:"
   ]
  },
  {
   "cell_type": "code",
   "execution_count": 11,
   "metadata": {},
   "outputs": [
    {
     "name": "stdout",
     "output_type": "stream",
     "text": [
      "+ + 0 0, + + 0 0, + + 0 0, + + 0 0\n",
      "+ - 0 0, + - 1 1, + - 2 2, + - 3 3\n",
      "+ + 0 0, + + 2 2, - - 0 0, - - 2 2\n",
      "+ - 0 0, + - 3 3, - + 2 2, + - 1 1\n",
      "+ + 0 0, - - 0 0, + + 0 0, - - 0 0\n",
      "+ - 0 0, - + 1 1, + - 2 2, - + 3 3\n",
      "+ + 0 0, - - 2 2, - - 0 0, + + 2 2\n",
      "+ - 0 0, - + 3 3, - + 2 2, - + 1 1\n"
     ]
    }
   ],
   "source": [
    "for row in nk:\n",
    "    print(\n",
    "        \", \".join(\n",
    "            f\"{'+' if v1%8 < 4 else '-'} \"\n",
    "            f\"{'+' if v2%8 < 4 else '-'} \"\n",
    "            f\"{v1%4} {v1%4}\"\n",
    "            for v1, v2 in zip(row[:4], row[4:])\n",
    "        )\n",
    "    )"
   ]
  },
  {
   "cell_type": "markdown",
   "metadata": {},
   "source": [
    "If we pull the sign out, we get:"
   ]
  },
  {
   "cell_type": "code",
   "execution_count": 12,
   "metadata": {},
   "outputs": [
    {
     "name": "stdout",
     "output_type": "stream",
     "text": [
      "+ Z^0 (y_0 + y_4) + Z^0 (y_1 + y_5) + Z^0 (y_2 + y_6) + Z^0 (y_3 + y_7)\n",
      "+ Z^0 (y_0 - y_4) + Z^1 (y_1 - y_5) + Z^2 (y_2 - y_6) + Z^3 (y_3 - y_7)\n",
      "+ Z^0 (y_0 + y_4) + Z^2 (y_1 + y_5) - Z^0 (y_2 + y_6) - Z^2 (y_3 + y_7)\n",
      "+ Z^0 (y_0 - y_4) + Z^3 (y_1 - y_5) - Z^2 (y_2 - y_6) + Z^1 (y_3 - y_7)\n",
      "+ Z^0 (y_0 + y_4) - Z^0 (y_1 + y_5) + Z^0 (y_2 + y_6) - Z^0 (y_3 + y_7)\n",
      "+ Z^0 (y_0 - y_4) - Z^1 (y_1 - y_5) + Z^2 (y_2 - y_6) - Z^3 (y_3 - y_7)\n",
      "+ Z^0 (y_0 + y_4) - Z^2 (y_1 + y_5) - Z^0 (y_2 + y_6) + Z^2 (y_3 + y_7)\n",
      "+ Z^0 (y_0 - y_4) - Z^3 (y_1 - y_5) - Z^2 (y_2 - y_6) - Z^1 (y_3 - y_7)\n"
     ]
    }
   ],
   "source": [
    "for row in nk:\n",
    "    print(\n",
    "        \" \".join(\n",
    "            f\"{'+' if v1%8 < 4 else '-'} Z^{v1%4} \"\n",
    "            f\"(y_{n} \"\n",
    "            f\"{'+' if (v2%8 < 4) ^ (v1%8 >= 4) else '-'} \"\n",
    "            f\"y_{n+4})\"\n",
    "            for n, v1, v2 in zip(range(4), row[:4], row[4:])\n",
    "        )\n",
    "    )"
   ]
  },
  {
   "cell_type": "markdown",
   "metadata": {},
   "source": [
    "Notice the pattern here. The recursive nature of the pattern is what provided the previous method to work. Now let's instead expand this in loops.\n",
    "\n",
    "First let's define a bitflip operation that reversed the order of bits; this reverses a butterfly join like the one above."
   ]
  },
  {
   "cell_type": "code",
   "execution_count": 13,
   "metadata": {},
   "outputs": [],
   "source": [
    "def bitflip(i, L):\n",
    "    length = int(L)  # Expected number of bits\n",
    "    str_number = f\"{i:0{length}b}\"  # Convert to string of 0's and 1's, correct length\n",
    "    return int(str_number[::-1], 2)  # Reverse and convert to int (base 2)"
   ]
  },
  {
   "cell_type": "code",
   "execution_count": 14,
   "metadata": {},
   "outputs": [
    {
     "name": "stdout",
     "output_type": "stream",
     "text": [
      "0\n",
      "4\n",
      "2\n",
      "6\n",
      "1\n",
      "5\n",
      "3\n",
      "7\n"
     ]
    }
   ],
   "source": [
    "for i in range(8):\n",
    "    print(bitflip(i, np.log2(8)))  # 110 becomes 011"
   ]
  },
  {
   "cell_type": "markdown",
   "metadata": {},
   "source": [
    "If converting to strings bother you, we can use bit shifts instead. Let's make this a numba function so we can make the loop function numba too if we want to."
   ]
  },
  {
   "cell_type": "code",
   "execution_count": 15,
   "metadata": {},
   "outputs": [],
   "source": [
    "@numba.njit\n",
    "def bitflip(i, L):\n",
    "    L = int(L)\n",
    "    result = 0\n",
    "    for _ in range(int(L)):\n",
    "        result <<= 1\n",
    "        result |= i & 1\n",
    "        i >>= 1\n",
    "    return result"
   ]
  },
  {
   "cell_type": "code",
   "execution_count": 16,
   "metadata": {},
   "outputs": [
    {
     "name": "stdout",
     "output_type": "stream",
     "text": [
      "0\n",
      "4\n",
      "2\n",
      "6\n",
      "1\n",
      "5\n",
      "3\n",
      "7\n"
     ]
    }
   ],
   "source": [
    "for i in range(8):\n",
    "    print(bitflip(i, np.log2(8)))  # 110 becomes 011"
   ]
  },
  {
   "cell_type": "markdown",
   "metadata": {},
   "source": [
    "Now, we are going to need to produce three values; `p`, `first`, and `second`. This is easiest to see, I believe, if you look at figure 10.10 in the book. Let's make sure we loop properly here:"
   ]
  },
  {
   "cell_type": "code",
   "execution_count": 17,
   "metadata": {},
   "outputs": [
    {
     "name": "stdout",
     "output_type": "stream",
     "text": [
      "0 0 4\n",
      "0 1 5\n",
      "0 2 6\n",
      "0 3 7\n",
      "\n",
      "0 0 2\n",
      "0 1 3\n",
      "2 4 6\n",
      "2 5 7\n",
      "\n",
      "0 0 1\n",
      "2 2 3\n",
      "1 4 5\n",
      "3 6 7\n",
      "\n"
     ]
    }
   ],
   "source": [
    "N = 8\n",
    "times = int(np.log2(N))\n",
    "\n",
    "for k in range(times):\n",
    "    for j in range(N // 2):\n",
    "        wid = 2 ** (times - k - 1)\n",
    "        p = bitflip((j // wid), times - 1)\n",
    "        first = (j // wid) * wid + j\n",
    "        second = (j // wid) * wid + j + wid\n",
    "        print(\n",
    "            p, first, second,\n",
    "        )\n",
    "    print()"
   ]
  },
  {
   "cell_type": "markdown",
   "metadata": {},
   "source": [
    "Let's put this together into our loop:"
   ]
  },
  {
   "cell_type": "code",
   "execution_count": 18,
   "metadata": {},
   "outputs": [],
   "source": [
    "# @numba.njit\n",
    "def ct_fft_loop(x, Z=None):\n",
    "    x = x.copy()  # just to make sure we don't mess up the input\n",
    "    y = x.copy()\n",
    "\n",
    "    N = len(x)  # Number of data points\n",
    "    times = int(np.log2(N))  # Number of times (the log_2 N part)\n",
    "\n",
    "    if Z is None:  # We can support sympy too\n",
    "        Z = np.exp(-2 * np.pi * 1j / N)  # with this addition.\n",
    "\n",
    "    for k in range(times):\n",
    "        wid = 2 ** (times - k - 1)\n",
    "        x, y = y, x  # Trade pointers (0 copy)\n",
    "        for j in range(N // 2):\n",
    "            p = bitflip((j // wid), times - 1)  # The power on z\n",
    "            first = (j // wid) * wid + j  # First index\n",
    "            second = (j // wid) * wid + j + wid  # Second index\n",
    "\n",
    "            left = x[first]  # Precompute terms\n",
    "            right = Z ** p * x[second]\n",
    "\n",
    "            y[first] = left + right\n",
    "            y[second] = left - right\n",
    "\n",
    "    for i in range(N):\n",
    "        x[i] = y[bitflip(i, times)]\n",
    "\n",
    "    return x"
   ]
  },
  {
   "cell_type": "markdown",
   "metadata": {},
   "source": [
    "Let's just verify that this works. We'll drop Sympy variables into our algorithm and see if we get the right terms:"
   ]
  },
  {
   "cell_type": "code",
   "execution_count": 19,
   "metadata": {},
   "outputs": [
    {
     "data": {
      "text/latex": [
       "$\\displaystyle \\left[\\begin{matrix}y_{0} + y_{1} + y_{2} + y_{3} + y_{4} + y_{5} + y_{6} + y_{7}\\\\Z^{2} \\left(y_{2} - y_{6}\\right) + Z \\left(Z^{2} \\left(y_{3} - y_{7}\\right) + y_{1} - y_{5}\\right) + y_{0} - y_{4}\\\\Z^{2} \\left(y_{1} - y_{3} + y_{5} - y_{7}\\right) + y_{0} - y_{2} + y_{4} - y_{6}\\\\Z^{3} \\left(- Z^{2} \\left(y_{3} - y_{7}\\right) + y_{1} - y_{5}\\right) - Z^{2} \\left(y_{2} - y_{6}\\right) + y_{0} - y_{4}\\\\y_{0} - y_{1} + y_{2} - y_{3} + y_{4} - y_{5} + y_{6} - y_{7}\\\\Z^{2} \\left(y_{2} - y_{6}\\right) - Z \\left(Z^{2} \\left(y_{3} - y_{7}\\right) + y_{1} - y_{5}\\right) + y_{0} - y_{4}\\\\- Z^{2} \\left(y_{1} - y_{3} + y_{5} - y_{7}\\right) + y_{0} - y_{2} + y_{4} - y_{6}\\\\- Z^{3} \\left(- Z^{2} \\left(y_{3} - y_{7}\\right) + y_{1} - y_{5}\\right) - Z^{2} \\left(y_{2} - y_{6}\\right) + y_{0} - y_{4}\\end{matrix}\\right]$"
      ],
      "text/plain": [
       "⎡         y₀ + y₁ + y₂ + y₃ + y₄ + y₅ + y₆ + y₇          ⎤\n",
       "⎢                                                        ⎥\n",
       "⎢   2               ⎛ 2                    ⎞             ⎥\n",
       "⎢  Z ⋅(y₂ - y₆) + Z⋅⎝Z ⋅(y₃ - y₇) + y₁ - y₅⎠ + y₀ - y₄   ⎥\n",
       "⎢                                                        ⎥\n",
       "⎢        2                                               ⎥\n",
       "⎢       Z ⋅(y₁ - y₃ + y₅ - y₇) + y₀ - y₂ + y₄ - y₆       ⎥\n",
       "⎢                                                        ⎥\n",
       "⎢  3 ⎛   2                    ⎞    2                     ⎥\n",
       "⎢ Z ⋅⎝- Z ⋅(y₃ - y₇) + y₁ - y₅⎠ - Z ⋅(y₂ - y₆) + y₀ - y₄ ⎥\n",
       "⎢                                                        ⎥\n",
       "⎢         y₀ - y₁ + y₂ - y₃ + y₄ - y₅ + y₆ - y₇          ⎥\n",
       "⎢                                                        ⎥\n",
       "⎢   2               ⎛ 2                    ⎞             ⎥\n",
       "⎢  Z ⋅(y₂ - y₆) - Z⋅⎝Z ⋅(y₃ - y₇) + y₁ - y₅⎠ + y₀ - y₄   ⎥\n",
       "⎢                                                        ⎥\n",
       "⎢         2                                              ⎥\n",
       "⎢      - Z ⋅(y₁ - y₃ + y₅ - y₇) + y₀ - y₂ + y₄ - y₆      ⎥\n",
       "⎢                                                        ⎥\n",
       "⎢   3 ⎛   2                    ⎞    2                    ⎥\n",
       "⎣- Z ⋅⎝- Z ⋅(y₃ - y₇) + y₁ - y₅⎠ - Z ⋅(y₂ - y₆) + y₀ - y₄⎦"
      ]
     },
     "execution_count": 19,
     "metadata": {},
     "output_type": "execute_result"
    }
   ],
   "source": [
    "# Our algorithm\n",
    "from sympy import symbols, init_printing, Matrix\n",
    "\n",
    "init_printing()\n",
    "ys = Matrix(symbols(\"y:8\"))\n",
    "Z = symbols(\"Z\")\n",
    "yf = ct_fft_loop(ys, Z)\n",
    "yf"
   ]
  },
  {
   "cell_type": "code",
   "execution_count": 20,
   "metadata": {},
   "outputs": [],
   "source": [
    "init_printing(pretty_print=False)"
   ]
  },
  {
   "cell_type": "markdown",
   "metadata": {},
   "source": [
    "Now, let's set our example back up and test it out:"
   ]
  },
  {
   "cell_type": "code",
   "execution_count": 21,
   "metadata": {},
   "outputs": [],
   "source": [
    "N = 2 ** 9\n",
    "T = 1.0 / 800.0\n",
    "x = np.linspace(0.0, N * T, N)\n",
    "y = np.sin(50.0 * 2.0 * np.pi * x) + 0.5 * np.sin(80.0 * 2.0 * np.pi * x)"
   ]
  },
  {
   "cell_type": "code",
   "execution_count": 22,
   "metadata": {},
   "outputs": [],
   "source": [
    "# If you want to JIT the above function, either use `return x + 0j` or the following:\n",
    "y = y.astype(complex)"
   ]
  },
  {
   "cell_type": "code",
   "execution_count": 23,
   "metadata": {},
   "outputs": [
    {
     "data": {
      "image/png": "[encoded data removed]",
      "text/plain": [
       "<Figure size 432x288 with 1 Axes>"
      ]
     },
     "metadata": {
      "needs_background": "light"
     },
     "output_type": "display_data"
    }
   ],
   "source": [
    "# Our algorithm\n",
    "yf = ct_fft_loop(y)\n",
    "xf = np.linspace(0.0, 1.0 / (2.0 * T), N)\n",
    "norm_yf = 2.0 / N * np.abs(yf)\n",
    "\n",
    "plt.plot(xf, norm_yf)\n",
    "plt.show()"
   ]
  },
  {
   "cell_type": "markdown",
   "metadata": {},
   "source": [
    "We are significanly nicer on memory, as well as avoiding lots of function calls, so we get a bit better on time. We are still not close to the official codes, however, even with numba. So, don't write your own ffts!"
   ]
  },
  {
   "cell_type": "code",
   "execution_count": 24,
   "metadata": {},
   "outputs": [
    {
     "name": "stdout",
     "output_type": "stream",
     "text": [
      "4.35 ms ± 119 µs per loop (mean ± std. dev. of 7 runs, 100 loops each)\n"
     ]
    }
   ],
   "source": [
    "%%timeit\n",
    "ct_fft_loop(y)"
   ]
  },
  {
   "cell_type": "code",
   "execution_count": 25,
   "metadata": {},
   "outputs": [
    {
     "name": "stdout",
     "output_type": "stream",
     "text": [
      "9.68 µs ± 172 ns per loop (mean ± std. dev. of 7 runs, 100000 loops each)\n"
     ]
    }
   ],
   "source": [
    "%%timeit\n",
    "np.fft.fft(y)"
   ]
  },
  {
   "cell_type": "markdown",
   "metadata": {},
   "source": [
    "## FFTs for compression\n",
    "\n",
    "How could an FFT be used for compression? If we truncate the series, we can throw away the high frequency components of a signal, while keeping the basic (low frequency) shape intact. Let's try:"
   ]
  },
  {
   "cell_type": "code",
   "execution_count": 26,
   "metadata": {},
   "outputs": [],
   "source": [
    "x = np.linspace(-50, 50, 1000)\n",
    "y = np.sin(x) / x"
   ]
  },
  {
   "cell_type": "code",
   "execution_count": 27,
   "metadata": {},
   "outputs": [
    {
     "data": {
      "text/plain": [
       "[<matplotlib.lines.Line2D at 0x7fe1eccd4b90>]"
      ]
     },
     "execution_count": 27,
     "metadata": {},
     "output_type": "execute_result"
    },
    {
     "data": {
      "image/png": "[encoded data removed]",
      "text/plain": [
       "<Figure size 432x288 with 1 Axes>"
      ]
     },
     "metadata": {
      "needs_background": "light"
     },
     "output_type": "display_data"
    }
   ],
   "source": [
    "plt.plot(x, y)"
   ]
  },
  {
   "cell_type": "code",
   "execution_count": 28,
   "metadata": {},
   "outputs": [
    {
     "data": {
      "text/plain": [
       "[<matplotlib.lines.Line2D at 0x7fe1eccb8dd0>]"
      ]
     },
     "execution_count": 28,
     "metadata": {},
     "output_type": "execute_result"
    },
    {
     "data": {
      "image/png": "[encoded data removed]",
      "text/plain": [
       "<Figure size 432x288 with 1 Axes>"
      ]
     },
     "metadata": {
      "needs_background": "light"
     },
     "output_type": "display_data"
    }
   ],
   "source": [
    "ft = np.fft.rfft(y)\n",
    "plt.plot(np.abs(ft))"
   ]
  },
  {
   "cell_type": "markdown",
   "metadata": {},
   "source": [
    "#### Lossy compression:"
   ]
  },
  {
   "cell_type": "code",
   "execution_count": 29,
   "metadata": {},
   "outputs": [],
   "source": [
    "ft[30:] = 0"
   ]
  },
  {
   "cell_type": "code",
   "execution_count": 30,
   "metadata": {},
   "outputs": [
    {
     "data": {
      "text/plain": [
       "[<matplotlib.lines.Line2D at 0x7fe1ecc20c10>]"
      ]
     },
     "execution_count": 30,
     "metadata": {},
     "output_type": "execute_result"
    },
    {
     "data": {
      "image/png": "[encoded data removed]",
      "text/plain": [
       "<Figure size 432x288 with 1 Axes>"
      ]
     },
     "metadata": {
      "needs_background": "light"
     },
     "output_type": "display_data"
    }
   ],
   "source": [
    "yp = np.fft.irfft(ft)\n",
    "plt.plot(x, yp)"
   ]
  }
 ],
 "metadata": {
  "language_info": {
   "codemirror_mode": {
    "name": "ipython",
    "version": 3
   },
   "file_extension": ".py",
   "mimetype": "text/x-python",
   "name": "python",
   "nbconvert_exporter": "python",
   "pygments_lexer": "ipython3",
   "version": "3.7.6"
  }
 },
 "nbformat": 4,
 "nbformat_minor": 2
}
