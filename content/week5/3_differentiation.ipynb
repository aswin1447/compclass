{
 "cells": [
  {
   "cell_type": "markdown",
   "metadata": {},
   "source": [
    "# Week 5 Day 3: Differentiation\n",
    "\n",
    "## Objectives\n",
    "* Learn a bit about numerical differentiation\n",
    "* Learn how to do a search for a root\n"
   ]
  },
  {
   "cell_type": "code",
   "execution_count": 1,
   "metadata": {},
   "outputs": [],
   "source": [
    "import numpy as np\n",
    "import matplotlib.pyplot as plt"
   ]
  },
  {
   "cell_type": "markdown",
   "metadata": {},
   "source": [
    "#### Numerical differentiation\n",
    "\n",
    "$$\n",
    "\\frac{dy(t)}{dt}\n",
    "=\n",
    "\\lim_{h \\rightarrow 0}\n",
    "\\frac{y(t + h) - y(t)}{h}\n",
    "\\tag{1}\n",
    "$$"
   ]
  },
  {
   "cell_type": "markdown",
   "metadata": {},
   "source": [
    "## Forward difference\n",
    "\n",
    "This is the most direct application of (1). We simply evaluate at $t$ and $t+h$.\n",
    "\n",
    "$$\n",
    "\\frac{dy(t)}{dt} \\Biggr\\rvert_\\mathrm{fd} = \\frac{f(t + h) - f(t)}{h} \\tag{2}\n",
    "$$"
   ]
  },
  {
   "cell_type": "code",
   "execution_count": 2,
   "metadata": {},
   "outputs": [],
   "source": [
    "def f_diff(f, x, h):\n",
    "    \"\"\"\n",
    "    Forward difference method.\n",
    "    f is a function,\n",
    "    x is the point(s),\n",
    "    h is the distance to use for the difference.\n",
    "    \"\"\"\n",
    "    return (f(x + h) - f(x)) / h"
   ]
  },
  {
   "cell_type": "markdown",
   "metadata": {},
   "source": [
    "Let's compare a known derivative and a numerical one:"
   ]
  },
  {
   "cell_type": "code",
   "execution_count": 3,
   "metadata": {},
   "outputs": [
    {
     "data": {
      "text/plain": [
       "0.5403023058681398"
      ]
     },
     "execution_count": 3,
     "metadata": {},
     "output_type": "execute_result"
    }
   ],
   "source": [
    "np.cos(1)"
   ]
  },
  {
   "cell_type": "code",
   "execution_count": 4,
   "metadata": {},
   "outputs": [
    {
     "data": {
      "text/plain": [
       "0.5402980985058647"
      ]
     },
     "execution_count": 4,
     "metadata": {},
     "output_type": "execute_result"
    }
   ],
   "source": [
    "f_diff(np.sin, 1, 1e-5)"
   ]
  },
  {
   "cell_type": "markdown",
   "metadata": {},
   "source": [
    "#### Try it yourself\n",
    "\n",
    "* Put smaller and smaller values. What happens once you get to very small numbers, like `1e-15` or `1e-16`?"
   ]
  },
  {
   "cell_type": "code",
   "execution_count": 5,
   "metadata": {},
   "outputs": [
    {
     "data": {
      "image/png": "[encoded data removed]",
      "text/plain": [
       "<Figure size 432x288 with 1 Axes>"
      ]
     },
     "metadata": {
      "needs_background": "light"
     },
     "output_type": "display_data"
    }
   ],
   "source": [
    "x = np.linspace(0, 2)\n",
    "tth = np.array([1, 1.5])\n",
    "plt.plot(x, np.sin(x))  # The f(x) (blue) curve\n",
    "plt.plot(tth, np.sin(tth), \"o-\")  # The straight line\n",
    "plt.text(tth[0], np.sin(tth[0]) - 0.1, \"t\")\n",
    "plt.text(tth[1], np.sin(tth[1]) - 0.1, \"t + h\")\n",
    "plt.show()"
   ]
  },
  {
   "cell_type": "markdown",
   "metadata": {},
   "source": [
    "This is a simple formula if you simply take very small $h$, but it has a problem: We are subtracting nearly identical values. This is exactly what we said was bad for numerical precision!\n",
    "\n",
    "How do we choose an ideal $h$? We'll come back to this soon. Let's cover a slight modification of the last formula first, though."
   ]
  },
  {
   "cell_type": "markdown",
   "metadata": {},
   "source": [
    "## Central difference\n",
    "\n",
    "$$\n",
    "\\frac{dy(t)}{dt} \\Biggr\\rvert_\\mathrm{cd} = \\frac{f(t + h/2) - f(t - h/2)}{h} \\tag{3}\n",
    "$$"
   ]
  },
  {
   "cell_type": "code",
   "execution_count": 6,
   "metadata": {},
   "outputs": [
    {
     "data": {
      "image/png": "[encoded data removed]",
      "text/plain": [
       "<Figure size 432x288 with 1 Axes>"
      ]
     },
     "metadata": {
      "needs_background": "light"
     },
     "output_type": "display_data"
    }
   ],
   "source": [
    "x = np.linspace(0, 2)\n",
    "tth = np.array([1 - 0.25, 1 + 0.25])\n",
    "plt.plot(x, np.sin(x))  # The f(x) (blue) curve\n",
    "plt.plot(tth, np.sin(tth), \"o-\")  # The straight line\n",
    "plt.plot(1, np.sin(1), \"ko\")  # A black ('k') dot\n",
    "plt.text(1, np.sin(1) + 0.05, \"t\")\n",
    "plt.text(tth[0], np.sin(tth[0]) - 0.1, \"t - 1/2 h\")\n",
    "plt.text(tth[1], np.sin(tth[1]) - 0.1, \"t + 1/2 h\")\n",
    "plt.show()"
   ]
  },
  {
   "cell_type": "code",
   "execution_count": 7,
   "metadata": {},
   "outputs": [],
   "source": [
    "def c_diff(f, x, h):\n",
    "    \"\"\"\n",
    "    Central difference method.\n",
    "    f is a function,\n",
    "    x is the point(s),\n",
    "    h is the distance to use for the difference.\n",
    "    \"\"\"\n",
    "    return (f(x + h / 2) - f(x - h / 2)) / h"
   ]
  },
  {
   "cell_type": "code",
   "execution_count": 8,
   "metadata": {},
   "outputs": [
    {
     "name": "stdout",
     "output_type": "stream",
     "text": [
      "0.5403023058736522 - centeral\n",
      "0.5403023058681398 - true\n",
      "0.5402980985058647 - forward\n"
     ]
    }
   ],
   "source": [
    "h = 1e-5\n",
    "print(c_diff(np.sin, 1, h), \"- centeral\")\n",
    "print(np.cos(1), \"- true\")\n",
    "print(f_diff(np.sin, 1, h), \"- forward\")"
   ]
  },
  {
   "cell_type": "markdown",
   "metadata": {},
   "source": [
    "## Extrapolated difference\n",
    "\n",
    "We can combine wider an narrower steps to do even better for a smooth function, though with the downside that we are now evaluating the function at more points.\n",
    "\n",
    "$$\n",
    "\\frac{dy(t)}{dt} \\Biggr\\rvert_\\mathrm{ed} =\n",
    "\\frac{\n",
    "4 D_\\mathrm{cd}(t, h/2) - D_\\mathrm{cd}(t, h/2)\n",
    "}{3}\n",
    "\\tag{4}\n",
    "$$"
   ]
  },
  {
   "cell_type": "code",
   "execution_count": 9,
   "metadata": {},
   "outputs": [],
   "source": [
    "def ex_diff(f, x, h):\n",
    "    \"\"\"\n",
    "    Extended difference method.\n",
    "    f is a function,\n",
    "    x is the point(s),\n",
    "    h is the distance to use for the difference.\n",
    "    \"\"\"\n",
    "    return (4 * c_diff(f, x, h / 2) - c_diff(f, x, h)) / 3"
   ]
  },
  {
   "cell_type": "code",
   "execution_count": 10,
   "metadata": {},
   "outputs": [
    {
     "name": "stdout",
     "output_type": "stream",
     "text": [
      "0.5403023058736522 - centeral\n",
      "0.5403023058681398 - true\n",
      "0.5403023058440463 - extended\n"
     ]
    }
   ],
   "source": [
    "h = 1e-5\n",
    "print(c_diff(np.sin, 1, h), \"- centeral\")\n",
    "print(np.cos(1), \"- true\")\n",
    "print(ex_diff(np.sin, 1, h), \"- extended\")"
   ]
  },
  {
   "cell_type": "markdown",
   "metadata": {},
   "source": [
    "## Second derivatives\n",
    "\n",
    "$$\n",
    "\\frac{d^2 f(t)}{dt^2} \\Biggr\\rvert_\\mathrm{cd} = \\frac{f(t + h) + f(t - h) - 2 f(t)}{h^2} \\tag{5}\n",
    "$$\n",
    "\n",
    "$$\n",
    "=\n",
    "\\frac{\n",
    "\\left[\n",
    "f(t + h) - f(t)\n",
    "\\right] - \\left[\n",
    "f(t) - f(t - h)\n",
    "\\right]\n",
    "}{h^2} \\tag{6}\n",
    "$$\n",
    "\n",
    "While (5) looks nicer, (6) is computationally better (as long as you are thoughtful about function calls if that matters for you)."
   ]
  },
  {
   "cell_type": "markdown",
   "metadata": {},
   "source": [
    "* Homework 5: You'll be asked to write a function that calculates the second derivative."
   ]
  },
  {
   "cell_type": "markdown",
   "metadata": {},
   "source": [
    "# Searching\n",
    "\n",
    "Now let's change topics (though you'll see why these are related soon). Let's look at the bound state energy solutions from our book:\n",
    "\n",
    "$$\n",
    "\\sqrt{V_0 - E_B} \\tan{\\left( \\sqrt{V_0 - E_B} \\right)}\n",
    "=\n",
    "\\sqrt{E_B}\n",
    "$$"
   ]
  },
  {
   "cell_type": "code",
   "execution_count": 11,
   "metadata": {},
   "outputs": [],
   "source": [
    "def f1(V, x):\n",
    "    \"The left side of the energy equation\"\n",
    "    return np.sqrt(V - x) * np.tan(np.sqrt(V - x))\n",
    "\n",
    "\n",
    "def f2(x):\n",
    "    \"The right side of the energy equation\"\n",
    "    return np.sqrt(x)\n",
    "\n",
    "\n",
    "def sub_f12(V, x):\n",
    "    \"One minus the other should be 0, we'll search for 0s.\"\n",
    "    return f1(V, x) - f2(x)"
   ]
  },
  {
   "cell_type": "markdown",
   "metadata": {},
   "source": [
    "Let's plot both sides of that equation:"
   ]
  },
  {
   "cell_type": "code",
   "execution_count": 12,
   "metadata": {},
   "outputs": [
    {
     "data": {
      "image/png": "[encoded data removed]",
      "text/plain": [
       "<Figure size 432x288 with 1 Axes>"
      ]
     },
     "metadata": {
      "needs_background": "light"
     },
     "output_type": "display_data"
    }
   ],
   "source": [
    "V = 10\n",
    "x = np.linspace(0, V, 1000)\n",
    "y1 = f1(V, x)\n",
    "y1 = np.ma.masked_array(y1, y1 < 0)\n",
    "plt.plot(x, y1)\n",
    "plt.plot(x, f2(x))\n",
    "plt.ylim(0, np.max(f2(x)))\n",
    "plt.xlim(0, V)\n",
    "plt.show()"
   ]
  },
  {
   "cell_type": "markdown",
   "metadata": {},
   "source": [
    "Now, let's plot the left side minus the right side:"
   ]
  },
  {
   "cell_type": "code",
   "execution_count": 13,
   "metadata": {},
   "outputs": [
    {
     "data": {
      "image/png": "[encoded data removed]",
      "text/plain": [
       "<Figure size 432x288 with 1 Axes>"
      ]
     },
     "metadata": {
      "needs_background": "light"
     },
     "output_type": "display_data"
    }
   ],
   "source": [
    "y = sub_f12(V, x)\n",
    "y = np.ma.masked_array(y, y1 < 0)\n",
    "plt.plot(x, y)\n",
    "plt.ylim(-2, 2)\n",
    "plt.hlines(0, 0, V)\n",
    "plt.show()"
   ]
  },
  {
   "cell_type": "markdown",
   "metadata": {},
   "source": [
    "### Bisection method:\n",
    "\n",
    "Pick a min and max you know contain a 0. Then divide into two and keep the side with the 0. Repeat."
   ]
  },
  {
   "cell_type": "code",
   "execution_count": 14,
   "metadata": {},
   "outputs": [
    {
     "name": "stdout",
     "output_type": "stream",
     "text": [
      "        0.0         0.1    -0.30102\n",
      "        0.0        0.05    -0.18333\n",
      "        0.0       0.025    -0.10527\n",
      "        0.0      0.0125   -0.052674\n",
      "        0.0     0.00625   -0.016782\n",
      "   0.003125     0.00625   0.0079461\n",
      "   0.003125   0.0046875   -0.005404\n",
      "  0.0039062   0.0046875  0.00095454\n",
      "  0.0039062   0.0042969  -0.0022926\n",
      "  0.0039062   0.0041016 -0.00068722\n",
      "  0.0040039   0.0041016  0.00012896\n",
      "  0.0040039   0.0040527 -0.00028029\n",
      "  0.0040039   0.0040283 -7.5956e-05\n",
      "  0.0040161   0.0040283  2.6427e-05\n",
      "  0.0040161   0.0040222 -2.4783e-05\n",
      "  0.0040192   0.0040222  8.1732e-07\n",
      "  0.0040192   0.0040207 -1.1984e-05\n",
      "  0.0040192   0.0040199 -5.5836e-06\n",
      "  0.0040192   0.0040195 -2.3832e-06\n",
      "  0.0040192   0.0040194 -7.8296e-07\n"
     ]
    }
   ],
   "source": [
    "search = np.array([0, 0.2])  # Must be floating point\n",
    "\n",
    "for i in range(20):\n",
    "    vmid = np.mean(search)  # midway between the points\n",
    "    fmid = sub_f12(V, vmid)  # function eval\n",
    "\n",
    "    # Check to see if the sign of the first point\n",
    "    # is the same as our midpoint\n",
    "    if np.sign(fmid) == np.sign(sub_f12(V, search[0])):\n",
    "        search[0] = vmid\n",
    "    else:\n",
    "        search[1] = vmid\n",
    "    print(f\"{search[0]:11.5} {search[1]:11.5} {fmid:11.5}\")"
   ]
  },
  {
   "cell_type": "markdown",
   "metadata": {},
   "source": [
    "#### Try it now:\n",
    "\n",
    "* Find the other root\n",
    "* Look for some with $V_0$ of 20, 30, 40.\n",
    "\n",
    "#### Try it later:\n",
    "\n",
    "* Try turning this into a proper function.\n",
    "* Have the algorithm decide when to stop. You can have several criteria."
   ]
  },
  {
   "cell_type": "markdown",
   "metadata": {},
   "source": [
    "### Newton-Raphson searching\n",
    "\n",
    "We can do much better for most functions by \"guessing\" where the function would cross the axes with straight line tangent to the curve. We update our guess with the intersection of this straight line with the axes.\n",
    "\n",
    "$$\n",
    "\\Delta x = -\\frac{f(x_0)}{df/dx\\bigr|_{x_0}}\n",
    "$$"
   ]
  },
  {
   "cell_type": "markdown",
   "metadata": {},
   "source": [
    "#### Aside: setting function parameters\n",
    "\n",
    "We made a \"mistake\" with our function definition. We have a function $f(V,x)$, but our functions that take derivatives all expect $f(x)$! It turns out we can use `functools.partial` to make a new function with some of the function parameters already set. (This is called \"currying\" in some languages)."
   ]
  },
  {
   "cell_type": "code",
   "execution_count": 15,
   "metadata": {},
   "outputs": [],
   "source": [
    "from functools import partial\n",
    "\n",
    "# Before: sub_f12(V,x)\n",
    "sub_f12_V = partial(sub_f12, V)\n",
    "# After: sub_f12_V(x)"
   ]
  },
  {
   "cell_type": "markdown",
   "metadata": {},
   "source": [
    "Okay, ready to find the same 0 as before:"
   ]
  },
  {
   "cell_type": "code",
   "execution_count": 16,
   "metadata": {},
   "outputs": [
    {
     "name": "stdout",
     "output_type": "stream",
     "text": [
      " 0.00020655    0.050945\n",
      "   0.001667    0.023752\n",
      "  0.0035327   0.0042059\n",
      "  0.0040048  0.00012167\n",
      "  0.0040193  3.1949e-08\n",
      "  0.0040193 -1.8661e-11\n",
      "  0.0040193  1.1574e-14\n",
      "  0.0040193 -7.2164e-16\n",
      "  0.0040193 -4.1633e-17\n",
      "  0.0040193         0.0\n"
     ]
    }
   ],
   "source": [
    "guess = 0\n",
    "\n",
    "for i in range(10):\n",
    "    dfdx = f_diff(sub_f12_V, guess, 0.00001)\n",
    "    fval = sub_f12_V(guess)  # Function at old guess\n",
    "    guess -= fval / dfdx  # Update guess\n",
    "    fval = sub_f12_V(guess)  # Function at new guess\n",
    "    print(f\"{guess:11.5} {fval:11.5}\")"
   ]
  }
 ],
 "metadata": {
  "language_info": {
   "codemirror_mode": {
    "name": "ipython",
    "version": 3
   },
   "file_extension": ".py",
   "mimetype": "text/x-python",
   "name": "python",
   "nbconvert_exporter": "python",
   "pygments_lexer": "ipython3",
   "version": "3.7.6"
  }
 },
 "nbformat": 4,
 "nbformat_minor": 2
}
