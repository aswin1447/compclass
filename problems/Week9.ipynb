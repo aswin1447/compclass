{
 "cells": [
  {
   "cell_type": "markdown",
   "metadata": {},
   "source": [
    "# Week Nine: Statistics\n",
    "\n",
    "The goal of filling in the requested pieces is twofold: you should be able to run the worksheet and get the requested answer with the given dataset, and you should also be able to pass with different datasets (not given). These will often check unusual inputs, etc., so try to make sure all possible input datasets are accounted for.\n",
    "\n",
    "To be graded, your notebook must be runnable start to finish. If you can't make an in-notebook test pass, comment it out for to attempt to get partial credit. You should replace the `...` markers with your code. Do not change the names of the pre-defined variables and functions.\n",
    "\n",
    "Plots should have the required elements of a plot: labels, units if valid, a legend if more than one marker or line type is present. Titles are not required."
   ]
  },
  {
   "cell_type": "code",
   "execution_count": null,
   "metadata": {},
   "outputs": [],
   "source": [
    "import numpy as np\n",
    "import matplotlib.pyplot as plt\n",
    "import scipy.stats\n",
    "import scipy.optimize\n",
    "import numba"
   ]
  },
  {
   "cell_type": "code",
   "execution_count": null,
   "metadata": {},
   "outputs": [],
   "source": [
    "# EID is your 6+2 UC Electronic ID\n",
    "EID = 'sixplus2'\n",
    "NAME = 'Joe Smith'"
   ]
  },
  {
   "cell_type": "markdown",
   "metadata": {},
   "source": [
    "## Problem 1: Confidence intervals\n",
    "\n",
    "We select the following events out of a larger sample. What is the confidence interval on the mean of the larger normally distributed sample:"
   ]
  },
  {
   "cell_type": "code",
   "execution_count": null,
   "metadata": {},
   "outputs": [],
   "source": [
    "sample = np.array([2.14, 1.91, 1.96, 2.08, 2.27, 2.19, 2.09, 2.12, 2.13, 2.11])"
   ]
  },
  {
   "cell_type": "code",
   "execution_count": null,
   "metadata": {},
   "outputs": [],
   "source": [
    "def compute_ci(sample):\n",
    "    '''\n",
    "    Return (min, max) of confidence interval\n",
    "    '''\n",
    "\n",
    "    ..."
   ]
  },
  {
   "cell_type": "code",
   "execution_count": null,
   "metadata": {},
   "outputs": [],
   "source": [
    "np.testing.assert_allclose(compute_ci(sample), (2.026041336336207, 2.173958663663793), rtol=1e-04) "
   ]
  },
  {
   "cell_type": "markdown",
   "metadata": {},
   "source": [
    "Run 1000 samples and check to see how often your CI includes the real value:"
   ]
  },
  {
   "cell_type": "code",
   "execution_count": null,
   "metadata": {},
   "outputs": [],
   "source": [
    "def compute_number_contained(mu=1, sigma=0.1, samples=10, N=1000):\n",
    "    total_contained = 0\n",
    "    for i in range(N):\n",
    "        ...\n",
    "        \n",
    "    return total_contained"
   ]
  },
  {
   "cell_type": "code",
   "execution_count": null,
   "metadata": {},
   "outputs": [],
   "source": [
    "compute_number_contained(N=1000) # should be roughly 95% of 1000"
   ]
  },
  {
   "cell_type": "markdown",
   "metadata": {},
   "source": [
    "## Problem 2: MCMC\n",
    "\n",
    "Using the metropolis algorithm (MCMC but without computing a posterior, so simpler) to produce samples from $\\left(1 + x^2\\right)^{-1}$. See <https://theclevermachine.wordpress.com/2012/10/05/mcmc-the-metropolis-sampler/> if you need a hint."
   ]
  },
  {
   "cell_type": "code",
   "execution_count": null,
   "metadata": {},
   "outputs": [],
   "source": [
    "def p(x):\n",
    "    return 1/(1 + x**2)\n",
    "\n",
    "def metropolis(p, samples = 50_000, sigma=1, min_value=-20, max_value=20):\n",
    "    x = np.zeros(samples+1)\n",
    "    x[0] = np.random.rand()\n",
    "\n",
    "    for i in range(samples):\n",
    "\n",
    "        # suggest new position\n",
    "        ...\n",
    "\n",
    "        # Compute alpha - the fractional chance of moving to a new point\n",
    "        ...\n",
    "\n",
    "        # Accept/reject based on alpha\n",
    "        ...\n",
    "\n",
    "        # Add the current (moved?) point\n",
    "        ...\n",
    "\n",
    "    return x"
   ]
  },
  {
   "cell_type": "code",
   "execution_count": null,
   "metadata": {},
   "outputs": [],
   "source": [
    "vals = metropolis(p)"
   ]
  },
  {
   "cell_type": "markdown",
   "metadata": {},
   "source": [
    "Note: I was able to get this to go from 220 ms to about 2 ms by adding `@numba.njit` in front of both functions above. Feel free to try it out."
   ]
  },
  {
   "cell_type": "code",
   "execution_count": null,
   "metadata": {},
   "outputs": [],
   "source": [
    "plt.figure(figsize=(10,4))\n",
    "plt.plot(vals[:500], 'r')\n",
    "plt.plot(np.arange(500,len(vals)), vals[500:], 'g')\n",
    "plt.show()"
   ]
  },
  {
   "cell_type": "code",
   "execution_count": null,
   "metadata": {},
   "outputs": [],
   "source": [
    "plt.figure(figsize=(10,3))\n",
    "x = np.linspace(-10,10,200)\n",
    "plt.hist(vals[500:], bins=400, range=(-20,20), density=True);\n",
    "plt.plot(x, p(x) / np.pi, lw=3)\n",
    "plt.xlim(-10,10)\n",
    "plt.show()"
   ]
  },
  {
   "cell_type": "markdown",
   "metadata": {},
   "source": [
    "## Problem 3: Performance\n",
    "\n",
    "In class I revisited the fractals from week 3, first lecture. I accelerated the classic integral fractal. Take the continuously colored version (below), and accelerate it too. (You can use any method, Numba is easiest though and has an existing example.) Note that you may be doing the opposite of the normal \"vectorization\"; you might end up taking array-at-a-time syntax and rewriting it with loops - this is okay in Numba. Numba does support some array-at-a-time calculations, but it does not support boolean indexing arrays.\n",
    "\n",
    "Double click on this cell for hints.\n",
    "\n",
    "<!--\n",
    "* You can use two nested for loops, like in the example in the lectures\n",
    "* You can use if statements instead of the boolean arrays - Numba doesn't like boolean indexing - and this lets you do a better job anyway.\n",
    "* You will need to use [i,j] inside the loop to access elements at a time instead of arrays at a time\n",
    "-->"
   ]
  },
  {
   "cell_type": "code",
   "execution_count": null,
   "metadata": {},
   "outputs": [],
   "source": [
    "def make_fractal_cc(size, iterations):\n",
    "    x = np.linspace(-2,2,size[0]).reshape(1,-1)\n",
    "    y = np.linspace(-2,2,size[1]).reshape(-1,1)\n",
    "    c = x + y*1j\n",
    "    z = np.zeros(size, np.complex_)\n",
    "    it_matrix = np.zeros(size, dtype=np.double)\n",
    "    for n in range(iterations):\n",
    "        z[it_matrix == 0] = z[it_matrix == 0]**2 + c[it_matrix == 0]\n",
    "        filt = (it_matrix == 0) & (np.abs(z) > 2)\n",
    "        it_matrix[filt] =  n + 1 - np.log(np.log(np.abs(z[filt])))/np.log(2)\n",
    "    return it_matrix"
   ]
  },
  {
   "cell_type": "code",
   "execution_count": null,
   "metadata": {},
   "outputs": [],
   "source": [
    "%%timeit\n",
    "make_fractal_cc(size, iterations)"
   ]
  },
  {
   "cell_type": "code",
   "execution_count": null,
   "metadata": {},
   "outputs": [],
   "source": [
    "@numba.njit\n",
    "def make_fractal_cc_fast(size, iterations):\n",
    "    x = np.linspace(-2,2,size[0]).reshape(1,-1)\n",
    "    y = np.linspace(-2,2,size[1]).reshape(-1,1)\n",
    "    c = x + y*1j\n",
    "    z = np.zeros(size, np.complex_)\n",
    "    it_matrix = np.zeros(size, dtype=np.double)\n",
    "    for n in range(iterations):\n",
    "        \n",
    "        # You'll probably start making changes here:\n",
    "        z[it_matrix == 0] = z[it_matrix == 0]**2 + c[it_matrix == 0]\n",
    "        filt = (it_matrix == 0) & (np.abs(z) > 2)\n",
    "        it_matrix[filt] =  n + 1 - np.log(np.log(np.abs(z[filt])))/np.log(2)\n",
    "        \n",
    "    return it_matrix"
   ]
  },
  {
   "cell_type": "code",
   "execution_count": null,
   "metadata": {},
   "outputs": [],
   "source": [
    "size = (500, 500)\n",
    "iterations = 50"
   ]
  },
  {
   "cell_type": "code",
   "execution_count": null,
   "metadata": {},
   "outputs": [],
   "source": [
    "plt.figure(figsize=(10,10))\n",
    "plt.imshow(make_fractal_cc_fast(size, iterations));"
   ]
  },
  {
   "cell_type": "code",
   "execution_count": null,
   "metadata": {},
   "outputs": [],
   "source": [
    "%%timeit\n",
    "make_fractal_cc_fast(size, iterations)"
   ]
  }
 ],
 "metadata": {
  "kernelspec": {
   "display_name": "Mimic OSC",
   "language": "python",
   "name": "sys_python36"
  },
  "language_info": {
   "codemirror_mode": {
    "name": "ipython",
    "version": 3
   },
   "file_extension": ".py",
   "mimetype": "text/x-python",
   "name": "python",
   "nbconvert_exporter": "python",
   "pygments_lexer": "ipython3",
   "version": "3.7.0"
  }
 },
 "nbformat": 4,
 "nbformat_minor": 2
}
