{
 "cells": [
  {
   "cell_type": "markdown",
   "metadata": {},
   "source": [
    "# Week Six: Linear algebra and fitting\n",
    "\n",
    "\n",
    "The goal of filling in the requested pieces is twofold: you should be able to run the worksheet and get the requested answer with the given dataset, and you should also be able to pass with different datasets (not given). These will often check unusual inputs, etc., so try to make sure all possible input datasets are accounted for.\n",
    "\n",
    "To be graded, your notebook must be runnable start to finish. If you can't make an in-notebook test pass, comment it out for to attempt to get partial credit. You should replace the `...` markers with your code. Do not change the names of the pre-defined variables and functions."
   ]
  },
  {
   "cell_type": "code",
   "execution_count": null,
   "metadata": {},
   "outputs": [],
   "source": [
    "# EID is your 6+2 UC Electronic ID\n",
    "EID = 'sixplus2'\n",
    "NAME = 'Joe Smith'"
   ]
  },
  {
   "cell_type": "code",
   "execution_count": null,
   "metadata": {},
   "outputs": [],
   "source": [
    "import numpy as np\n",
    "import matplotlib.pyplot as plt\n",
    "\n",
    "# Other imports\n",
    "# ..."
   ]
  },
  {
   "cell_type": "markdown",
   "metadata": {},
   "source": [
    "## Problem 1: Rotation\n",
    "\n",
    "Design a function `rotate(M, angle, axis=0)` that rotates `x` and `y` around an angle. The first axis must be length 2, and will be interpreted as x,y coordinates. You should support shapes of `(2,)` and `(2,N)` for input.\n",
    "\n",
    "Use the standard rotation matrix,\n",
    "\n",
    "$$\n",
    "R = \\left[\n",
    "\\begin{matrix}\n",
    "\\cos(\\theta) & -\\sin(\\theta) \\\\\n",
    "\\sin(\\theta) & \\cos(\\theta) \\\\\n",
    "\\end{matrix}\n",
    "\\right]\n",
    "$$\n",
    "\n",
    "Include a reasonable docstring. A \"reasonable\" docstring should mention all the parameters at least. Ideally, you could use Numpy-style or Google-style, but that's not required."
   ]
  },
  {
   "cell_type": "code",
   "execution_count": null,
   "metadata": {},
   "outputs": [],
   "source": [
    "def rotate(M, angle):\n",
    "    '''...\n",
    "    '''\n",
    "    \n",
    "    M = np.asarray(M)\n",
    "    \n",
    "    ..."
   ]
  },
  {
   "cell_type": "code",
   "execution_count": null,
   "metadata": {},
   "outputs": [],
   "source": [
    "rotate([1, 2], np.pi/2, axis=0) # -2, 1"
   ]
  },
  {
   "cell_type": "code",
   "execution_count": null,
   "metadata": {},
   "outputs": [],
   "source": [
    "rotate([[1,1,1], [2,2,2]], np.pi/2, axis=0)"
   ]
  },
  {
   "cell_type": "markdown",
   "metadata": {},
   "source": [
    "## Problem 2: Matrix calculations\n",
    "\n",
    "### Problem 2.1: Linear fit\n",
    "\n",
    "In class I show a linear fit using a polynomial order 2 and least squares fit. Extend this to polynomial order 3 (without using the library fit functions) and provide a function that produces the fit coefficients when given an x and y vector.\n",
    "\n",
    "<font color=\"blue\">\n",
    "2 bonus points: Make the order of the polynomial a function parameter instead, and support any N instead of just 3. Use the new name and signature commented out in the template below."
   ]
  },
  {
   "cell_type": "code",
   "execution_count": null,
   "metadata": {},
   "outputs": [],
   "source": [
    "def fit_poly_3(x, y, sig):\n",
    "    ...\n",
    "\n",
    "# Bonus: Use this instead\n",
    "# def fit_poly(x, y, sig, N):\n",
    "#     ...\n",
    "# \n",
    "# def fit_poly_3(x, y, sig):\n",
    "#     return fit_poly(x, y, sig, 3)"
   ]
  },
  {
   "cell_type": "code",
   "execution_count": null,
   "metadata": {},
   "outputs": [],
   "source": [
    "t = np.linspace(1,2)\n",
    "x = np.array([1., 1.1, 1.24, 1.35, 1.451, 1.5, 1.92])\n",
    "y = np.array([0.52, 0.8, 0.7, 1.8, 2.9, 2.9, 3.6])\n",
    "sig = np.array([.1, .1, .2, .3, .2, .1, .1])"
   ]
  },
  {
   "cell_type": "code",
   "execution_count": null,
   "metadata": {},
   "outputs": [],
   "source": [
    "xvec = fit_poly_3(x, y, sig)\n",
    "p = np.poly1d(xvec)\n",
    "fig, ax = plt.subplots()\n",
    "ax.errorbar(x, y, sig, fmt='.')\n",
    "ax.plot(t, p(t))\n",
    "plt.show()"
   ]
  },
  {
   "cell_type": "markdown",
   "metadata": {},
   "source": [
    "## Problem 2.2: Chi sq calculation\n",
    "\n",
    "Write a function that takes a set of data y values, calculated y values, and sigma values, and returns the chi squared."
   ]
  },
  {
   "cell_type": "code",
   "execution_count": null,
   "metadata": {},
   "outputs": [],
   "source": [
    "def calc_chisq(y_data, y_calc, sig):\n",
    "    return ..."
   ]
  },
  {
   "cell_type": "code",
   "execution_count": null,
   "metadata": {},
   "outputs": [],
   "source": [
    "chisq = calc_chisq(y, p(x), sig)\n",
    "print('χ² =', chisq)\n",
    "print('χ²/DoF =', chisq / (len(x) - 3))"
   ]
  },
  {
   "cell_type": "markdown",
   "metadata": {},
   "source": [
    "## Problem 3: Fitting an exponential\n",
    "Compute the best fit of the data to the exponential decay sample. You'll want to use an exponential function to fit:\n",
    "\n",
    "$$\n",
    "N(t) = N_0 e ^ {-t/\\tau} \n",
    "$$\n",
    "\n",
    "Use whatever libraries, etc. you can do do the fit.\n",
    "\n",
    "I'll prepare a data sample for you using a random number generator, but keep in mind: you are fitting x and y values, not a set of random numbers. The x and y values are the bins of a histogram of those random numbers."
   ]
  },
  {
   "cell_type": "code",
   "execution_count": null,
   "metadata": {},
   "outputs": [],
   "source": [
    "state = np.random.RandomState(42)\n",
    "vals = state.exponential(.1, 10000)\n",
    "y, edges = np.histogram(vals, bins=np.linspace(0,1,50))\n",
    "\n",
    "# Compute bin centers instead of edges\n",
    "x = (edges[1:] + edges[:-1])/2\n",
    "\n",
    "# Filter out empty bins\n",
    "x = x[y>0]\n",
    "y = y[y>0]\n",
    "\n",
    "# y / np.sqrt(y) = np.sqrt(y) = absolute error in counts\n",
    "err = np.sqrt(y)\n",
    "\n",
    "fig, ax = plt.subplots()\n",
    "ax.errorbar(x, y, err, fmt='.')\n",
    "ax.set_yscale('log')\n",
    "ax.set_xlabel('t')\n",
    "ax.set_ylabel('N(t)')\n",
    "plt.show()"
   ]
  },
  {
   "cell_type": "code",
   "execution_count": null,
   "metadata": {},
   "outputs": [],
   "source": [
    "# You may want to define an exponential function here.\n",
    "# ...\n",
    "\n",
    "def compute_exponential_fit(x, y, err):\n",
    "    '''\n",
    "    Produces a length-two array or tuple of fit values (N₀ and τ).\n",
    "    The initial guess should be the count in the first bin\n",
    "    for N₀, and 1 for τ.\n",
    "    '''\n",
    "    \n",
    "    ..."
   ]
  },
  {
   "cell_type": "code",
   "execution_count": null,
   "metadata": {},
   "outputs": [],
   "source": [
    "N_0, τ = compute_exponential_fit(x,y,err)"
   ]
  },
  {
   "cell_type": "code",
   "execution_count": null,
   "metadata": {},
   "outputs": [],
   "source": [
    "N_0, τ"
   ]
  },
  {
   "cell_type": "code",
   "execution_count": null,
   "metadata": {},
   "outputs": [],
   "source": [
    "fig, ax = plt.subplots()\n",
    "ax.errorbar(x, y, err, fmt='.')\n",
    "ax.plot(x, N_0*np.exp(-x/τ))\n",
    "ax.set_xlabel('t')\n",
    "ax.set_ylabel('N(t)')\n",
    "plt.show()"
   ]
  }
 ],
 "metadata": {
  "language_info": {
   "codemirror_mode": {
    "name": "ipython",
    "version": 3
   },
   "file_extension": ".py",
   "mimetype": "text/x-python",
   "name": "python",
   "nbconvert_exporter": "python",
   "pygments_lexer": "ipython3",
   "version": "3.6.5"
  }
 },
 "nbformat": 4,
 "nbformat_minor": 2
}
