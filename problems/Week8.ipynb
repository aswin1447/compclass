{
 "cells": [
  {
   "cell_type": "markdown",
   "metadata": {},
   "source": [
    "# Week Eight: Distributions\n",
    "\n",
    "The goal of filling in the requested pieces is twofold: you should be able to run the worksheet and get the requested answer with the given dataset, and you should also be able to pass with different datasets (not given). These will often check unusual inputs, etc., so try to make sure all possible input datasets are accounted for.\n",
    "\n",
    "To be graded, your notebook must be runnable start to finish. If you can't make an in-notebook test pass, comment it out for to attempt to get partial credit. You should replace the `...` markers with your code. Do not change the names of the pre-defined variables and functions.\n",
    "\n",
    "Plots should have the required elements of a plot: labels, units if valid, a legend if more than one marker or line type is present. Titles are not required."
   ]
  },
  {
   "cell_type": "markdown",
   "metadata": {},
   "source": [
    "## Problem 1: Generating a distribution\n",
    "\n",
    "Generate the following distribution two ways. The PDF is:\n",
    "\n",
    "$$\n",
    "P(x) = 1 - x^2\n",
    "$$\n",
    "\n",
    "From -1 to 1."
   ]
  },
  {
   "cell_type": "code",
   "execution_count": null,
   "metadata": {},
   "outputs": [],
   "source": [
    "import numpy as np\n",
    "import matplotlib.pyplot as plt\n",
    "from scipy.stats import cauchy, expon\n",
    "from scipy.optimize import minimize"
   ]
  },
  {
   "cell_type": "code",
   "execution_count": null,
   "metadata": {},
   "outputs": [],
   "source": [
    "x = np.linspace(-1,1,100)\n",
    "y = 1 - x**2\n",
    "plt.plot(x,y)\n",
    "plt.show()"
   ]
  },
  {
   "cell_type": "markdown",
   "metadata": {},
   "source": [
    "### 1.1: Method 1\n",
    "\n",
    "Use the rejection method generate a distribution. `N` is the maximum number of samples to generate (your function can produce less)."
   ]
  },
  {
   "cell_type": "code",
   "execution_count": null,
   "metadata": {},
   "outputs": [],
   "source": [
    "def generate_dist_1(N):\n",
    "    ..."
   ]
  },
  {
   "cell_type": "code",
   "execution_count": null,
   "metadata": {},
   "outputs": [],
   "source": [
    "vals = generate_dist_1(1_000_000)\n",
    "plt.hist(vals, bins=np.linspace(-1,1,100), density=True)\n",
    "x = np.linspace(-1,1,100)\n",
    "y = (1 - x**2)/(4/3) # 4/3 = normalization factor\n",
    "plt.plot(x,y)\n",
    "plt.show()"
   ]
  },
  {
   "cell_type": "markdown",
   "metadata": {},
   "source": [
    "### 1.2 Method 2\n",
    "\n",
    "Use the inverse CDF method to generate the distribution. You can calculate the CDF fairly easily. Note your work to calculate the CDF in a markdown cell, in comments or a docstring, or do it with sympy. For the inverse CDF, use an approxomation, such as interpolation (unless you can invert the function symbolically, which I did not have much luck with). Remember to normalize the CDF to 1. (If you can't do this method, try using the binned technique from class)."
   ]
  },
  {
   "cell_type": "markdown",
   "metadata": {},
   "source": [
    "$$\n",
    "\\textrm{CDF}'(a) = \\int_{-1}^{a} f(x) \n",
    "$$\n",
    "\n",
    "$$\n",
    "\\textrm{CDF}(y) = \\frac{\\textrm{CDF}'(a)}{\\textrm{CDF}'(1)} \n",
    "$$"
   ]
  },
  {
   "cell_type": "markdown",
   "metadata": {},
   "source": [
    "$$\n",
    "CDF'(a) = \\int_{-1}^{a} f(x) = x-\\frac{x^{3}}{3} \\biggr|_{x=-1}^{x=a}\n",
    "$$\n",
    "\n",
    "$$\n",
    "CDF'(a) = a - a^3/3 + 2/3 \n",
    "$$\n",
    "\n",
    "$$\n",
    "CDF(1) = 4/3\n",
    "$$\n",
    "\n",
    "$$\n",
    "CDF(a) = \\frac{CDF'(a)}{CDF'(1)} = \\frac{3}{4} a\n",
    "                                 - \\frac{1}{4} a^3\n",
    "                                 + \\frac{1}{2}\n",
    "$$\n",
    "\n",
    "$$\n",
    "4 y = 3 a - a^3 + 2\n",
    "$$"
   ]
  },
  {
   "cell_type": "code",
   "execution_count": null,
   "metadata": {},
   "outputs": [],
   "source": [
    "def generate_dist_2(N):\n",
    "    ..."
   ]
  },
  {
   "cell_type": "code",
   "execution_count": null,
   "metadata": {},
   "outputs": [],
   "source": [
    "data = generate_dist_2(1_000_000)\n",
    "plt.hist(data, bins=np.linspace(-1,1,101), density=True)\n",
    "x = np.linspace(-1,1,100)\n",
    "y = (1 - x**2)/(4/3) # 4/3 = normalization factor\n",
    "plt.plot(x,y)\n",
    "plt.show()"
   ]
  },
  {
   "cell_type": "markdown",
   "metadata": {},
   "source": [
    "## Problem 2: Unbinned fitting\n",
    "\n",
    "Fit the following unbinned dataset with a cauchy + an exponential distribution. You can also implement this yourself using `scipy.stats` for `cauchy` and `expon`. The range is from 0 to 20. The only tricky part is normalizing the PDFs, but you have the CDF, so it should be pretty easy.\n",
    "\n",
    "The cauchy PDF is:\n",
    "\n",
    "$$\n",
    "f(x) = \\frac{1}{\\pi (1 + x^2)}\n",
    "$$"
   ]
  },
  {
   "cell_type": "code",
   "execution_count": null,
   "metadata": {},
   "outputs": [],
   "source": [
    "vals = np.loadtxt('week8prob2.csv')"
   ]
  },
  {
   "cell_type": "code",
   "execution_count": null,
   "metadata": {},
   "outputs": [],
   "source": [
    "plt.hist(vals, bins=np.linspace(0,20,50), density=True)\n",
    "plt.show()"
   ]
  },
  {
   "cell_type": "code",
   "execution_count": null,
   "metadata": {},
   "outputs": [],
   "source": [
    "def f(params, x):\n",
    "    ...\n",
    "\n",
    "def nll_f(params, x):\n",
    "    return ... # Can be one line"
   ]
  },
  {
   "cell_type": "markdown",
   "metadata": {},
   "source": [
    "For the fit, you should try initial parameters like `[10, 1, 10, .1]`. You probably should use bounds, with 0-1 for the fraction. The location of the cauchy can be constrained a bit too from the above plot by eye. I had the best luck with the `SLSQP` method."
   ]
  },
  {
   "cell_type": "code",
   "execution_count": null,
   "metadata": {},
   "outputs": [],
   "source": [
    "def fit_data(data):\n",
    "    res = minimize(...)\n",
    "    return res"
   ]
  },
  {
   "cell_type": "code",
   "execution_count": null,
   "metadata": {},
   "outputs": [],
   "source": [
    "res = fit_data(vals)\n",
    "res"
   ]
  },
  {
   "cell_type": "code",
   "execution_count": null,
   "metadata": {},
   "outputs": [],
   "source": [
    "print(res.x)\n",
    "plt.hist(vals, bins=np.linspace(0,20,50), density=True)\n",
    "x = np.linspace(0,20,100)\n",
    "y = f(res.x, x)\n",
    "plt.plot(x, y, color='C1')\n",
    "plt.show()"
   ]
  },
  {
   "cell_type": "markdown",
   "metadata": {},
   "source": [
    "## Problem 3: Error catching\n",
    "\n",
    "Call `f`, and either return it's output value(s), or return the string form of the exception it throws if that exception is a `MessageException`. Don't do anything special if it is any other kind of exception, just let it error out like normal.\n",
    "\n",
    "\n",
    "> Note: you will return `str(e)`, which is `\"Print me\"`."
   ]
  },
  {
   "cell_type": "code",
   "execution_count": null,
   "metadata": {},
   "outputs": [],
   "source": [
    "class MessageException(Exception):\n",
    "    pass\n",
    "\n",
    "def throw_error():\n",
    "    raise MessageException(\"Print me\")"
   ]
  },
  {
   "cell_type": "code",
   "execution_count": null,
   "metadata": {},
   "outputs": [],
   "source": [
    "def return_result_or_msg(f):\n",
    "    try:\n",
    "        return f()\n",
    "    except MessageException as e:\n",
    "        return str(e)"
   ]
  },
  {
   "cell_type": "code",
   "execution_count": null,
   "metadata": {},
   "outputs": [],
   "source": [
    "assert return_result_or_msg(throw_error) == 'Print me'"
   ]
  },
  {
   "cell_type": "code",
   "execution_count": null,
   "metadata": {},
   "outputs": [],
   "source": []
  }
 ],
 "metadata": {
  "kernelspec": {
   "display_name": "Mimic OSC",
   "language": "python",
   "name": "sys_python36"
  },
  "language_info": {
   "codemirror_mode": {
    "name": "ipython",
    "version": 3
   },
   "file_extension": ".py",
   "mimetype": "text/x-python",
   "name": "python",
   "nbconvert_exporter": "python",
   "pygments_lexer": "ipython3",
   "version": "3.7.0"
  }
 },
 "nbformat": 4,
 "nbformat_minor": 2
}
