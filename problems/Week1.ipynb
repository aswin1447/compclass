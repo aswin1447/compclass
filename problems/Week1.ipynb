{
 "cells": [
  {
   "cell_type": "markdown",
   "metadata": {},
   "source": [
    "# Week one: Basic Python skills\n",
    "\n",
    "(And introduction to weekly problem set format)\n",
    "\n",
    "This course will provide a set of worksheets that will need to be filled in each week. Each worksheet will present approxomatly three problems (or one problem with three parts). The goal of filling in the requested peices is twofold: you should be able to run the worksheet and get the requested answer with the given dataset, and you should also be able to pass with different datasets (not given). These will often check unusual inputs, etc., so try to make sure all possible input datasets are accounted for.\n",
    "\n",
    "To be graded, your notebook must be runnable start to finish. If you can't make an in-notebook test pass, comment it out for to attempt to get partial credit."
   ]
  },
  {
   "cell_type": "code",
   "execution_count": null,
   "metadata": {},
   "outputs": [],
   "source": [
    "# EID is ...\n",
    "EID = 'sixplus2'\n",
    "NAME = 'Joe Smith'"
   ]
  },
  {
   "cell_type": "markdown",
   "metadata": {},
   "source": [
    "# Problem 1: Getting started\n",
    "\n",
    "Write a function named `factorial(x)` that computes the factorial of a number. Include a docstring. Throw an error (such as ValueError) if x is negative or not an integer. You must implement this yourself (you can't use `math.factorial`)"
   ]
  },
  {
   "cell_type": "code",
   "execution_count": null,
   "metadata": {},
   "outputs": [],
   "source": [
    "def factorial(x):\n",
    "    # FILL ME IN"
   ]
  },
  {
   "cell_type": "markdown",
   "metadata": {},
   "source": [
    "### Tests\n",
    "\n",
    "Note that you can always add more tests if you like."
   ]
  },
  {
   "cell_type": "code",
   "execution_count": null,
   "metadata": {},
   "outputs": [],
   "source": [
    "import math\n",
    "assert math.factorial(10) == factorial(10)"
   ]
  },
  {
   "cell_type": "markdown",
   "metadata": {},
   "source": [
    "# Problem 2: A simple class\n",
    "\n",
    "Let's design a simple 2D vector class. You have some freedom in how you design the internals; but the external behavour should match the tests below. Be sure that adding two vectors makes a new vector, rather than modifying one of the vectors in place."
   ]
  },
  {
   "cell_type": "code",
   "execution_count": null,
   "metadata": {},
   "outputs": [],
   "source": [
    "class Vector2D:\n",
    "    def __init__(self, x, y):\n",
    "        # FILL ME IN\n",
    "    \n",
    "    def __add__(self, other):\n",
    "        # FILL ME IN\n",
    "    \n",
    "    def __repr__(self):\n",
    "        return '{self.__class__.__name__}({self.x}, {self.y})'.format(self=self)"
   ]
  },
  {
   "cell_type": "markdown",
   "metadata": {},
   "source": [
    "### Tests"
   ]
  },
  {
   "cell_type": "code",
   "execution_count": null,
   "metadata": {},
   "outputs": [],
   "source": [
    "assert repr(Vector2D(2, 3)) == 'Vector2D(2, 3)'\n",
    "assert repr(Vector2D(1,2) + Vector2D(3,4)) == 'Vector2D(4, 6)'"
   ]
  },
  {
   "cell_type": "markdown",
   "metadata": {},
   "source": [
    "# Problem 3: Inspection\n",
    "\n",
    "The Python language gives you an amazing level of introspection capabilities. You can look up practically anything. For the following questions, we will look at the `six` module, which is a simple pure-python module that makes it easy to write code that supports Python 2 and Python 3 at the same time (The name comes from $2\\times3=6$)"
   ]
  },
  {
   "cell_type": "code",
   "execution_count": null,
   "metadata": {},
   "outputs": [],
   "source": [
    "import six"
   ]
  },
  {
   "cell_type": "markdown",
   "metadata": {},
   "source": [
    "### Where is the six package located?"
   ]
  },
  {
   "cell_type": "code",
   "execution_count": null,
   "metadata": {},
   "outputs": [],
   "source": [
    "ANSWER_3_1 = # FILL ME IN (one line)\n",
    "print(ANSWER_3_1)"
   ]
  },
  {
   "cell_type": "markdown",
   "metadata": {},
   "source": [
    "### What is the documentation string on `six.next`?"
   ]
  },
  {
   "cell_type": "code",
   "execution_count": null,
   "metadata": {},
   "outputs": [],
   "source": [
    "ANSWER_3_2 = # FILL ME IN (one line)\n",
    "print(ANSWER_3_2)"
   ]
  },
  {
   "cell_type": "markdown",
   "metadata": {},
   "source": [
    "### How many items are directly in the six module?"
   ]
  },
  {
   "cell_type": "code",
   "execution_count": null,
   "metadata": {},
   "outputs": [],
   "source": [
    "ANSWER_3_3 = # FILL ME IN (one line)\n",
    "print(ANSWER_3_3)"
   ]
  },
  {
   "cell_type": "markdown",
   "metadata": {},
   "source": [
    "### What is the source code for `six.iteritems`?\n",
    "(Hint: use the inspect module)"
   ]
  },
  {
   "cell_type": "code",
   "execution_count": null,
   "metadata": {},
   "outputs": [],
   "source": [
    "import inspect"
   ]
  },
  {
   "cell_type": "code",
   "execution_count": null,
   "metadata": {},
   "outputs": [],
   "source": [
    "ANSWER_3_4 = # FILL ME IN (one line)\n",
    "print(ANSWER_3_4)"
   ]
  }
 ],
 "metadata": {
  "kernelspec": {
   "display_name": "Anaconda Python 3",
   "language": "python",
   "name": "anaconda"
  },
  "language_info": {
   "codemirror_mode": {
    "name": "ipython",
    "version": 3
   },
   "file_extension": ".py",
   "mimetype": "text/x-python",
   "name": "python",
   "nbconvert_exporter": "python",
   "pygments_lexer": "ipython3",
   "version": "3.6.5"
  }
 },
 "nbformat": 4,
 "nbformat_minor": 2
}
