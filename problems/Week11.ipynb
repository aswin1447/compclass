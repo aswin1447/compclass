{
 "cells": [
  {
   "cell_type": "markdown",
   "metadata": {},
   "source": [
    "# Week 11 and 12: Fourier Transforms"
   ]
  },
  {
   "cell_type": "markdown",
   "metadata": {},
   "source": [
    "The goal of filling in the requested pieces is twofold: you should be able to run the worksheet and get the requested answer with the given dataset, and you should also be able to pass with different datasets (not given). These will often check unusual inputs, etc., so try to make sure all possible input datasets are accounted for.\n",
    "\n",
    "To be graded, your notebook must be runnable start to finish. If you can't make an in-notebook test pass, comment it out for to attempt to get partial credit. You should replace the `...` markers with your code. Do not change the names of the pre-defined variables and functions.\n",
    "\n",
    "Plots should have the required elements of a plot: labels, units if valid, a legend if more than one marker or line type is present. Titles are not required."
   ]
  },
  {
   "cell_type": "code",
   "execution_count": null,
   "metadata": {},
   "outputs": [],
   "source": [
    "# EID is your 6+2 UC Electronic ID\n",
    "EID = 'sixplus2' # Keep the quotes! All cells should be runnable.\n",
    "NAME = 'Joe Smith'"
   ]
  },
  {
   "cell_type": "code",
   "execution_count": null,
   "metadata": {},
   "outputs": [],
   "source": [
    "import numpy as np\n",
    "import matplotlib.pyplot as plt\n",
    "import scipy.integrate"
   ]
  },
  {
   "cell_type": "markdown",
   "metadata": {},
   "source": [
    "## Problem 1: Cycloid as a Fourier Series\n",
    "\n",
    "The (parametric) equation for a Cycloid is:\n",
    "\n",
    "$$\n",
    "x = a (t - \\sin t)\\\\\n",
    "y = a (1 - \\cos t)\n",
    "$$\n",
    "\n",
    "We can't write a closed form solution for y in terms of x, but we can make a numerical Fourier series."
   ]
  },
  {
   "cell_type": "code",
   "execution_count": null,
   "metadata": {},
   "outputs": [],
   "source": [
    "a = 1\n",
    "t = np.linspace(0,2*np.pi*3,100)\n",
    "x = a * (t - np.sin(t))\n",
    "y = a * (1 - np.cos(t))\n",
    "\n",
    "fig, ax = plt.subplots(figsize=(8,1.8))\n",
    "ax.plot(x,y,'.-')\n",
    "plt.show()"
   ]
  },
  {
   "cell_type": "markdown",
   "metadata": {},
   "source": [
    "If we plug this into the Fourier formula (assuming even functions only, and setting $a = 1$), we get:\n",
    "$$\n",
    "a_n = \\frac{1}{\\pi}  \\int_0^{2\\pi} (1 - \\cos(t)) \\cos \\left( n x \\right) \\, dx\n",
    "$$"
   ]
  },
  {
   "cell_type": "markdown",
   "metadata": {},
   "source": [
    "Substituting for $x$ and $dx=a(1 - \\cos t) \\, dt$, and integrating over half of the range and multiplying by two, we get:\n",
    "\n",
    "$$\n",
    "a_n = \\frac{2}{\\pi} \\int_0^{\\pi}(1-\\cos{t})^2 \\cos\\left(n(t-\\sin{t})\\right)\\, dt\n",
    "$$"
   ]
  },
  {
   "cell_type": "markdown",
   "metadata": {},
   "source": [
    "Integrate this using a numerical technique and return the Fourier coefficients. Assume $a=1$, so a period of $2\\pi$. If you use a `scipy.integrate` function like `quad`, you'll need a function definition for $a_n$. You can pass arguments in for `n`, or you can put the function definition itself inside the loop. Odd, but it works."
   ]
  },
  {
   "cell_type": "code",
   "execution_count": null,
   "metadata": {},
   "outputs": [],
   "source": [
    "def produce_cycloid(N):\n",
    "    '''Make N terms of a Fourier series of a Cycloid.\n",
    "\n",
    "    This produces a_n values of a Fourier series of a Cycloid. The\n",
    "    terms are numerically integrated to some unspecified precision.\n",
    "\n",
    "    Parameters\n",
    "    ----------\n",
    "    N : int\n",
    "        The number of terms in the series.\n",
    "\n",
    "    Returns\n",
    "    -------\n",
    "    float[N]\n",
    "        N terms of the series.\n",
    "    '''\n",
    "    \n",
    "    # Took me 7 lines (including a loop and a function definition inside it)\n",
    "    ..."
   ]
  },
  {
   "cell_type": "markdown",
   "metadata": {},
   "source": [
    "Using the coefficients and either the definition below or the inverse FFT, produce real-space lines that can be plotted below. If you use `irfft`, remember to scale by `len(pts)/2`. Also I see a warning in my version of Numpy about non-tuple sequences; that's okay (and particularly bad since this is a warning about Numpy *from* Numpy!)\n",
    "\n",
    "$$\n",
    "y(t) = \\frac{a_0}{2} + \\sum_{n=1}^{\\infty} \\left( a_n \\cos n \\omega t \\right)\n",
    "\\tag{1}\n",
    "$$"
   ]
  },
  {
   "cell_type": "code",
   "execution_count": null,
   "metadata": {},
   "outputs": [],
   "source": [
    "def produce_lines(v, pts=300):\n",
    "    '''Take an array of terms of a Fourier series and produce pts values.\n",
    "\n",
    "    This produces pts number of points over one period of the function the\n",
    "    Fourier series describes.\n",
    "\n",
    "    Parameters\n",
    "    ----------\n",
    "    v : float[N]\n",
    "        N terms in the series.\n",
    "        \n",
    "    pts : int\n",
    "        Number of points to produce over one period.\n",
    "\n",
    "    Returns\n",
    "    -------\n",
    "    float[pts]\n",
    "        Array of pts evaluated from the FFT, in one period.\n",
    "    '''\n",
    "    \n",
    "    # Took me 6 lines (including a loop)\n",
    "    ...\n",
    "\n",
    "def produce_lines_irfft(v, pts=300):\n",
    "    # Should be 1 line\n",
    "    ...\n",
    "\n",
    "# Lazy...\n",
    "produce_lines_irfft.__doc__ = produce_lines.__doc__"
   ]
  },
  {
   "cell_type": "markdown",
   "metadata": {},
   "source": [
    "Let's plot parametric and Fourier solutions to make sure this works. We'll make one period and then tile it to get three total periods."
   ]
  },
  {
   "cell_type": "code",
   "execution_count": null,
   "metadata": {},
   "outputs": [],
   "source": [
    "v = produce_cycloid(50)\n",
    "l = produce_lines(v, 300)\n",
    "even_x = np.linspace(0, 2*np.pi*3, 900, endpoint=False)\n",
    "\n",
    "fig, ax = plt.subplots(figsize=(8,1.8))\n",
    "ax.plot(x,y,'.')\n",
    "ax.plot(even_x, np.tile(l, 3))\n",
    "plt.show()"
   ]
  },
  {
   "cell_type": "markdown",
   "metadata": {},
   "source": [
    "## Problem 2: Fourier convolutions\n",
    "\n",
    "Take the following two signals and convolve them in Fourier space. To avoid having to pad a signal with zeros by hand, you can use the second argument of `fft` or `rfft` to set the total length."
   ]
  },
  {
   "cell_type": "code",
   "execution_count": null,
   "metadata": {},
   "outputs": [],
   "source": [
    "sig1 = np.zeros(201)\n",
    "sig1[60] = 1\n",
    "sig1[100] = 1\n",
    "sig1[165] = 1\n",
    "sig2 = (10-np.abs(np.linspace(-10,10,21)))/10"
   ]
  },
  {
   "cell_type": "code",
   "execution_count": null,
   "metadata": {},
   "outputs": [],
   "source": [
    "def conv_fft(sig1, sig2):\n",
    "    'Convolution of a signal, using an fft.'\n",
    "    # One long line or 2-3 short lines\n",
    "    ...\n",
    "\n",
    "sigf = conv_fft(sig1, sig2)"
   ]
  },
  {
   "cell_type": "markdown",
   "metadata": {},
   "source": [
    "Check that this works by doing a real-space convolution, too (any Numpy functions allowed):"
   ]
  },
  {
   "cell_type": "code",
   "execution_count": null,
   "metadata": {},
   "outputs": [],
   "source": [
    "def conv_classic(sig1, sig2):\n",
    "    'Classic convolution, probably just a wrapper around the proper numpy function.'\n",
    "    # Can be one short line\n",
    "    ...\n",
    "\n",
    "sigc = conv_classic(sig1, sig2)"
   ]
  },
  {
   "cell_type": "code",
   "execution_count": null,
   "metadata": {},
   "outputs": [],
   "source": [
    "plt.plot(sig1)\n",
    "plt.plot(sigf)\n",
    "plt.plot(sigc)\n",
    "plt.show()"
   ]
  },
  {
   "cell_type": "markdown",
   "metadata": {},
   "source": [
    "Note that this will look a little different; the \"normal\" convolution will likely be centered on the original pulses, while the fft convolution will start at the beginning, and will follow the pulses. You could center the FFT by \"rolling\" the original data to center it on the 0 bin (wrapping around to the ending bins), or by adding a third term to the convolution, the fft of a pulse at the new starting edge. You don't need to do that above (but you can if you like)."
   ]
  },
  {
   "cell_type": "markdown",
   "metadata": {},
   "source": [
    "## Problem 3: Filtering a signal\n",
    "\n",
    "Take the following signal and filter out as much noise as you can, while keeping the overall shape. Any Numpy or Scipy functions allowed.\n",
    "\n"
   ]
  },
  {
   "cell_type": "code",
   "execution_count": null,
   "metadata": {},
   "outputs": [],
   "source": [
    "np.random.seed(42)\n",
    "x = np.linspace(-10,10,500)\n",
    "y = (x // 2) % 2 - .5\n",
    "y += np.random.normal(0, .1, 500)"
   ]
  },
  {
   "cell_type": "code",
   "execution_count": null,
   "metadata": {},
   "outputs": [],
   "source": [
    "plt.plot(x,y)"
   ]
  },
  {
   "cell_type": "code",
   "execution_count": null,
   "metadata": {},
   "outputs": [],
   "source": [
    "def filter_function(y):\n",
    "    'Filter a signal y. Hardcoded to work on the step function and noise produced above.'\n",
    "    # Number of lines depends on how you filter. I had one long line.\n",
    "    ...\n",
    "\n",
    "Y = filter_function(y)\n",
    "\n",
    "plt.figure()\n",
    "plt.plot(x,y)\n",
    "plt.plot(x,Y)\n",
    "plt.show()"
   ]
  }
 ],
 "metadata": {
  "language_info": {
   "codemirror_mode": {
    "name": "ipython",
    "version": 3
   },
   "file_extension": ".py",
   "mimetype": "text/x-python",
   "name": "python",
   "nbconvert_exporter": "python",
   "pygments_lexer": "ipython3",
   "version": "3.7.0"
  }
 },
 "nbformat": 4,
 "nbformat_minor": 2
}
