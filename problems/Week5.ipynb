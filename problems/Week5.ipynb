{
 "cells": [
  {
   "cell_type": "markdown",
   "metadata": {},
   "source": [
    "# Week Five: Integration and differentiation\n",
    "\n",
    "To be graded, your notebook must be runnable start to finish. If you can't make an in-notebook test pass, comment it out for to attempt to get partial credit. You should replace the `...` markers with your code. Do not change the names of the pre-defined ALL_CAPS variables and functions. (If you start from scratch, make sure you match the requested function names and requested ALL_CAPS variables). Other that that, you are free to define or make anything you wish. Remember that functions will often be tested with different numbers than the ones you are given."
   ]
  },
  {
   "cell_type": "code",
   "execution_count": 1,
   "metadata": {},
   "outputs": [],
   "source": [
    "# EID is your 6+2 UC Electronic ID\n",
    "EID = 'sixplus2'\n",
    "NAME = 'Joe Smith'"
   ]
  },
  {
   "cell_type": "code",
   "execution_count": 2,
   "metadata": {},
   "outputs": [],
   "source": [
    "%matplotlib inline\n",
    "import numpy as np\n",
    "import matplotlib.pyplot as plt"
   ]
  },
  {
   "cell_type": "markdown",
   "metadata": {},
   "source": [
    "# Problem 1: 2D Trapezoidal rule\n",
    "\n",
    "You can extend the trapezoidal rule to 2D. I'll give you a few hints:\n",
    "\n",
    "The weight matrix is:\n",
    "$$\n",
    "W_{ij} = \\begin{matrix}\n",
    "1 & 2 & 2 & \\cdots & 2 & 2 & 1 \\\\\n",
    "2 & 4 & 4 & \\cdots & 4 & 4 & 2 \\\\\n",
    "2 & 4 & 4 & \\cdots & 4 & 4 & 2 \\\\\n",
    "\\vdots & \\vdots & \\vdots & \\ddots & \\vdots & \\vdots & \\vdots \\\\\n",
    "2 & 4 & 4 & \\cdots & 4 & 4 & 2 \\\\\n",
    "2 & 4 & 4 & \\cdots & 4 & 4 & 2 \\\\\n",
    "1 & 2 & 2 & \\cdots & 2 & 2 & 1\n",
    "\\end{matrix}\n",
    "$$\n",
    "\n",
    "If you use the trick I used in the slides instead of explicitly creating this matrix, you would split the sum into 4 parts. However, it's really quite easy to make the matrix above\n",
    "\n",
    "The \"bin\" width $h$ is joined by the 2nd dimension bin width of $k$, and then the trapezoidal rule integral value is \n",
    "\n",
    "$$\n",
    "I_\\mathrm{tr} = \\frac{1}{4} h k \\sum_i \\sum_j W_{ij} f(x_{i}, y_{j})\n",
    "$$"
   ]
  },
  {
   "cell_type": "markdown",
   "metadata": {},
   "source": [
    "Write a function that takes a 2-parameter function 'f' and integrates it with the given parameters (further explanations are built into the docstring of the function). I'm writing a Numpy-style docstring.\n",
    "\n",
    "See also: <http://mathfaculty.fullerton.edu/mathews/n2003/SimpsonsRule2DMod.html>"
   ]
  },
  {
   "cell_type": "code",
   "execution_count": null,
   "metadata": {},
   "outputs": [],
   "source": [
    "def trap_2d(f, xrange, yrange, xN, yN):\n",
    "    '''Integrate a 2D function with the trapezoidal rule.\n",
    "    \n",
    "    This takes a 2D function and integrates it over a 2D grid.\n",
    "    This uses the Trapezoidal rule in 2D.\n",
    "    \n",
    "    Parameters\n",
    "    ----------\n",
    "    f : callable\n",
    "        The function to integrate. The function should take an x and y value (possibly arrays).\n",
    "    xrange : (float, float)\n",
    "        The min and max values for x, as an array\n",
    "    yrange : (float, float)\n",
    "        The min and max values for y, as an array\n",
    "    xN : int\n",
    "        The number of evaluations along x\n",
    "    yN : int\n",
    "        The number of evaluations along x\n",
    "\n",
    "    Returns\n",
    "    -------\n",
    "    float\n",
    "        The total integral\n",
    "    \n",
    "    '''\n",
    "    h = xrange/xN\n",
    "    y = yrange/yN\n",
    "    \n",
    "    ..."
   ]
  },
  {
   "cell_type": "markdown",
   "metadata": {},
   "source": [
    "# Problem 2: MC integration\n",
    "\n",
    "Write a function that performs MC integration of an unknown function of N dimensions. You can use `f(*array)` to call the function with the correct number of arguments (it expands to `f(array[0], array[1], ..., array[N])`). Return **two** values; the estimated integral and the estimated error on the integral."
   ]
  },
  {
   "cell_type": "code",
   "execution_count": 1,
   "metadata": {},
   "outputs": [],
   "source": [
    "def mc_integrate(f, N, samples, ranges):\n",
    "    '''\n",
    "    Integrate an ND function with a set of sampled MC points.\n",
    "    \n",
    "    Parameters\n",
    "    ----------\n",
    "    f : callable\n",
    "        The function to integrate. The function should take N\n",
    "        values (possibly equal length arrays).\n",
    "    N : int\n",
    "        The min and max values for x, as an array\n",
    "    samples : int\n",
    "        The number of samples to integrate over\n",
    "    ranges : array[2, N]\n",
    "        An array with the min and max for each dimension.\n",
    "\n",
    "    Returns\n",
    "    -------\n",
    "    float\n",
    "        The total integral\n",
    "    float\n",
    "        The estimated error = relative error * the total integral.\n",
    "    '''\n",
    "    \n",
    "    ..."
   ]
  },
  {
   "cell_type": "markdown",
   "metadata": {},
   "source": [
    "# Problem 3: Second derivatives"
   ]
  },
  {
   "cell_type": "markdown",
   "metadata": {},
   "source": [
    "Write a function that calculates:\n",
    "\n",
    "$$\n",
    "\\frac{d^2 y(t)}{dt^2} \\Biggr\\rvert_\\mathrm{cd}\n",
    "=\n",
    "\\frac{\n",
    "\\left[\n",
    "f(t + h) - y(t)\n",
    "\\right] + \\left[\n",
    "y(t) - f(t - h)\n",
    "\\right]\n",
    "}{h^2} \\tag{6}\n",
    "$$\n",
    "\n",
    "Write a nice docstring as well."
   ]
  },
  {
   "cell_type": "code",
   "execution_count": null,
   "metadata": {},
   "outputs": [],
   "source": [
    "def d2fdt2(f, t, h):\n",
    "    '''...\n",
    "    '''\n",
    "    ..."
   ]
  }
 ],
 "metadata": {
  "kernelspec": {
   "display_name": "Anaconda Python 3.6",
   "language": "python",
   "name": "sys_python36"
  },
  "language_info": {
   "codemirror_mode": {
    "name": "ipython",
    "version": 3
   },
   "file_extension": ".py",
   "mimetype": "text/x-python",
   "name": "python",
   "nbconvert_exporter": "python",
   "pygments_lexer": "ipython3",
   "version": "3.6.5"
  }
 },
 "nbformat": 4,
 "nbformat_minor": 2
}
