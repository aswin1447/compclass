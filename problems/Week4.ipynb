{
 "cells": [
  {
   "cell_type": "markdown",
   "metadata": {},
   "source": [
    "# Week Four: Random numbers\n",
    "\n",
    "To be graded, your notebook must be runnable start to finish. If you can't make an in-notebook test pass, comment it out for to attempt to get partial credit. You should replace the `...` markers with your code. Do not change the names of the pre-defined ALL_CAPS variables and functions. (If you start from scratch, make sure you match the requested function names and requested ALL_CAPS variables). Other that that, you are free to define or make anything you wish. Remember that functions will often be tested with different numbers than the ones you are given.\n",
    "\n",
    "This notebook will also be graded for plots - please make sure you save the notebook with the plots present, just in case I have a problem running them. If you change to the notebook backend (or any other backend), I recommend changing back to inline and re-running before saving the file - some of the more interactive backends don't get captured in the saved file."
   ]
  },
  {
   "cell_type": "code",
   "execution_count": null,
   "metadata": {},
   "outputs": [],
   "source": [
    "# EID is your 6+2 UC Electronic ID\n",
    "EID = 'sixplus2'\n",
    "NAME = 'Joe Smith'"
   ]
  },
  {
   "cell_type": "code",
   "execution_count": null,
   "metadata": {},
   "outputs": [],
   "source": [
    "%matplotlib inline\n",
    "import numpy as np\n",
    "import matplotlib.pyplot as plt\n",
    "from mpl_toolkits.mplot3d import Axes3D # 3D plots"
   ]
  },
  {
   "cell_type": "markdown",
   "metadata": {},
   "source": [
    "## Problem 1: Random number generation\n",
    "\n",
    "#### 1.1: Linear congruent generator\n",
    "\n",
    "Implement the linear congruent random number generator. It's okay to use the iterator system in the lecture notes if you understand it, or you can implement your own without iterators. The **function** you write as an answer should return a numpy array.\n",
    "\n",
    "<font color=\"grey\">\n",
    "> Hint if you use iterators: to save a bit of time and memory, you can use\n",
    "> ```python\n",
    "> arr = np.fromiter(lin_cong_iter(...), dtype=...)\n",
    "> ```\n",
    "> to skip turning an iterator into a list before calling array instead of\n",
    "> ```python\n",
    "> arr = np.array(list(lin_cong_iter(...)))\n",
    "> ```\n",
    "> "
   ]
  },
  {
   "cell_type": "code",
   "execution_count": null,
   "metadata": {},
   "outputs": [],
   "source": [
    "# Optional ...\n",
    "\n",
    "def linear_cong(c, a, M, r_0):\n",
    "    ..."
   ]
  },
  {
   "cell_type": "code",
   "execution_count": null,
   "metadata": {},
   "outputs": [],
   "source": [
    "assert np.all(linear_cong(1,4,9,3) == np.array([3, 4, 8, 6, 7, 2, 0, 1, 5]))"
   ]
  },
  {
   "cell_type": "markdown",
   "metadata": {},
   "source": [
    "## 1.2: Generator plot tests\n",
    "\n",
    "Let's see if the following value make good random number sequences:"
   ]
  },
  {
   "cell_type": "code",
   "execution_count": null,
   "metadata": {},
   "outputs": [],
   "source": [
    "values_a = linear_cong(c=57, a=1, M=256, r_0=10)\n",
    "values_b = linear_cong(c=1, a=57, M=256, r_0=10)\n",
    "values_c = linear_cong(c=199, a=109, M=256, r_0=10)\n",
    "values_d = np.arange(256)\n",
    "np.random.seed(42)\n",
    "np.random.shuffle(values_d)"
   ]
  },
  {
   "cell_type": "markdown",
   "metadata": {},
   "source": [
    "For each of the four sequences listed above, plot y vs. x $\\rightarrow$ $r_{2i}$ vs. $r_{2i+1}$, where $r$ is a random sample and index $2i$ is even (Figure 5.1 in the book). Don't connect the dots in the plot! You should set up a function that does the plotting for you. It's up to you on how much to put in the function, and how much to do outside. Add axis labels and a title that includes \"a\", \"b\", \"c\", or \"d\", depending on the sample. This answer does not need to match a special pattern, I'll be grading it by eye. Personally, I made a 2x2 suplots grid then ran my function on each axes. Since the default spacing was awful, I called `plt.tight_layout()` after making the plots."
   ]
  },
  {
   "cell_type": "code",
   "execution_count": null,
   "metadata": {},
   "outputs": [],
   "source": [
    "# Recommended: define a plotting function of some sort here"
   ]
  },
  {
   "cell_type": "code",
   "execution_count": null,
   "metadata": {},
   "outputs": [],
   "source": [
    "...\n",
    "plt.show()"
   ]
  },
  {
   "cell_type": "markdown",
   "metadata": {},
   "source": [
    "### 1.3: Deviations from uniformity\n",
    "\n",
    "Write a function to compute the $k$th moment of a random number sequence. We'll then test the standard random number generator from Numpy with it.\n",
    "\n",
    "$$\n",
    "\\frac{1}{N} \\sum_{i=1}^{N} x^{k}_{i}\n",
    "$$"
   ]
  },
  {
   "cell_type": "code",
   "execution_count": null,
   "metadata": {},
   "outputs": [],
   "source": [
    "def moment(distribution, k):\n",
    "    ..."
   ]
  },
  {
   "cell_type": "code",
   "execution_count": null,
   "metadata": {},
   "outputs": [],
   "source": [
    "print('Should be around 1/2: k=1: ', moment(state.random_sample(100_000), 1))\n",
    "print('Should be around 1/3: k=1: ', moment(state.random_sample(100_000), 2))\n",
    "print('Should be around 1/4: k=1: ', moment(state.random_sample(100_000), 3))"
   ]
  },
  {
   "cell_type": "markdown",
   "metadata": {},
   "source": [
    "If this is truly random, the distribution of many trials should vary roughly as $1/\\sqrt{N}$:"
   ]
  },
  {
   "cell_type": "code",
   "execution_count": null,
   "metadata": {},
   "outputs": [],
   "source": [
    "trials = [moment(state.random_sample(10_000), 2) for _ in range(1000)]\n",
    "plt.hist(trials, bins='auto');"
   ]
  },
  {
   "cell_type": "markdown",
   "metadata": {},
   "source": [
    "## Problem 2: A 3D random walk\n",
    "\n",
    "In class I showed you how to do a 2D random walk. Let's try a 3D one. You can either return 3 length N arrays (x, y, and z), or a [3,N] array with all three dimensions (the function can be done cleanly in 3-5 lines this way\n",
    "). Due to the way iteration over arrays was implemented, unpacking will work exactly the same in both cases so you'll have the same user interface. The radius should be consistently 1. Use the same generation in $\\Delta x$, etc. that was used even though the directions will be slightly unevenly distributed."
   ]
  },
  {
   "cell_type": "code",
   "execution_count": null,
   "metadata": {},
   "outputs": [],
   "source": [
    "def rwalk3D(size):\n",
    "    ..."
   ]
  },
  {
   "cell_type": "markdown",
   "metadata": {},
   "source": [
    "Here's a quick plot to see how you did:"
   ]
  },
  {
   "cell_type": "code",
   "execution_count": null,
   "metadata": {},
   "outputs": [],
   "source": [
    "np.random.seed(41)\n",
    "fig = plt.figure()\n",
    "ax = fig.add_subplot(111, projection='3d')\n",
    "ax.plot(*rwalk3D(100))\n",
    "ax.plot(*rwalk3D(100))\n",
    "ax.plot(*rwalk3D(100))\n",
    "ax.plot(*rwalk3D(100))\n",
    "plt.show()"
   ]
  },
  {
   "cell_type": "markdown",
   "metadata": {},
   "source": [
    "Build a function that computes N values from N random walks of length `size`, and then outputs an N length array with the results of those trials. You can reuse your function above, or rewrite it - cumulative summing wastes time and memory if you only need the final sum.\n",
    "\n",
    "Note, if you want, you can even do this without a Python loop - you can make a 3D array, `[3, N_trials, size]`, and do everything on that! But you'll have to be careful when summing to select the right axes, and you'll need to organize things to make the division work with broadcasting."
   ]
  },
  {
   "cell_type": "code",
   "execution_count": null,
   "metadata": {},
   "outputs": [],
   "source": [
    "def rwalk3Dsum(size, N_trials):\n",
    "    ..."
   ]
  },
  {
   "cell_type": "markdown",
   "metadata": {},
   "source": [
    "Let's just verify that we get reasonalble results. 100 steps should give us a width of about 10."
   ]
  },
  {
   "cell_type": "code",
   "execution_count": null,
   "metadata": {},
   "outputs": [],
   "source": [
    "plt.hist(rwalk3Dsum(100, 4000), bins='auto');"
   ]
  },
  {
   "cell_type": "markdown",
   "metadata": {},
   "source": [
    "## Problem 3: Particle decay\n",
    "\n",
    "Write a function that produces a histogram of decay times for a collection of particles, given an initial number of particles, a decay probability, and a number of time bins to calculate. You should build the histogram array directly instead of using the method I used in class; this way you skip building up a list. Just start with an array initialized to 0 then add to the correct time bin every time a particle decays. You can avoid the inner loop if you wish by using arrays, but you can't easily avoid the outer loop since each step depends on the number of particles left after the previous step."
   ]
  },
  {
   "cell_type": "code",
   "execution_count": null,
   "metadata": {},
   "outputs": [],
   "source": [
    "def decay_bins(particles, decay_prob, bins):\n",
    "    ..."
   ]
  },
  {
   "cell_type": "code",
   "execution_count": null,
   "metadata": {},
   "outputs": [],
   "source": [
    "np.random.seed(42)\n",
    "fig, ax = plt.subplots()\n",
    "x = np.arange(500)\n",
    "\n",
    "ax.plot(decay_bins(particles=1_000, decay_prob=0.01, bins=500))\n",
    "ax.plot(0.01*1_000*np.exp(-0.01*x), 'k')\n",
    "\n",
    "ax.plot(decay_bins(particles=3_000, decay_prob=0.01, bins=500))\n",
    "ax.plot(0.01*3_000*np.exp(-0.01*x), 'k')\n",
    "\n",
    "ax.plot(decay_bins(particles=10_000, decay_prob=0.01, bins=500))\n",
    "ax.plot(0.01*10_000*np.exp(-0.01*x), 'k')\n",
    "\n",
    "ax.plot(decay_bins(particles=30_000, decay_prob=0.01, bins=500))\n",
    "ax.plot(0.01*30_000*np.exp(-0.01*x), 'k')\n",
    "\n",
    "ax.set_yscale('log');"
   ]
  }
 ],
 "metadata": {
  "language_info": {
   "codemirror_mode": {
    "name": "ipython",
    "version": 3
   },
   "file_extension": ".py",
   "mimetype": "text/x-python",
   "name": "python",
   "nbconvert_exporter": "python",
   "pygments_lexer": "ipython3",
   "version": "3.6.5"
  }
 },
 "nbformat": 4,
 "nbformat_minor": 2
}
