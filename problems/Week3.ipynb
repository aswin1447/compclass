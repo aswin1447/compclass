{
 "cells": [
  {
   "cell_type": "markdown",
   "metadata": {},
   "source": [
    "# Week two: Classes and errors\n",
    "\n",
    "\n",
    "The goal of filling in the requested pieces is twofold: you should be able to run the worksheet and get the requested answer with the given dataset, and you should also be able to pass with different datasets (not given). These will often check unusual inputs, etc., so try to make sure all possible input datasets are accounted for.\n",
    "\n",
    "To be graded, your notebook must be runnable start to finish. If you can't make an in-notebook test pass, comment it out for to attempt to get partial credit. You should replace the `...` markers with your code. Do not change the names of the pre-defined variables and functions."
   ]
  },
  {
   "cell_type": "code",
   "execution_count": null,
   "metadata": {},
   "outputs": [],
   "source": [
    "# EID is your 6+2 UC Electronic ID\n",
    "EID = 'sixplus2'\n",
    "NAME = 'Joe Smith'"
   ]
  },
  {
   "cell_type": "code",
   "execution_count": null,
   "metadata": {},
   "outputs": [],
   "source": [
    "import numpy as np\n",
    "import matplotlib.pyplot as plt"
   ]
  },
  {
   "cell_type": "markdown",
   "metadata": {},
   "source": [
    "# Problem 1: Play with Numpy\n",
    "\n",
    "Let's try some Numpy calculations. The rules here are simple. Make the required values in a Numpy array. If you build them in pure Python and then convert it to Numpy at the end, that's not ideal, but would be considered acceptable. But you can always solve this in Numpy."
   ]
  },
  {
   "cell_type": "markdown",
   "metadata": {},
   "source": [
    "## 1.1: Vectorized calculations\n",
    "\n",
    "Compute the following equation to compute a spiral, making sure it works on 1D array input:\n",
    "\n",
    "$$\n",
    "f_x(r, \\tau) = \\sin(r) e^{-r \\tau}\n",
    "$$\n",
    "\n",
    "$$\n",
    "f_y(r, \\tau) = \\cos(r) e^{-r \\tau}\n",
    "$$\n",
    "\n",
    "You'll implement this as a single function that returns two arrays, x and y. You will get an array `radius` as input, along with a floating point `falloff` value."
   ]
  },
  {
   "cell_type": "code",
   "execution_count": null,
   "metadata": {},
   "outputs": [],
   "source": [
    "def f_1(radius, falloff):\n",
    "    ..."
   ]
  },
  {
   "cell_type": "code",
   "execution_count": null,
   "metadata": {},
   "outputs": [],
   "source": [
    "fig, ax = plt.subplots()\n",
    "ax.plot(*f_1(np.linspace(0, np.pi*60, 10_000), 1/150))\n",
    "ax.set_aspect('equal')\n",
    "plt.show()"
   ]
  },
  {
   "cell_type": "markdown",
   "metadata": {},
   "source": [
    "### 1.2: Making an array\n",
    "\n",
    "Make an array of `N` bin centers between `low` and `high`, for example like this if `N` is 4:\n",
    "\n",
    "```\n",
    "low           4 bins           high\n",
    "|---+---|---+---|---+---|---+---|\n",
    "    ^               ^\n",
    " value #0         value #2\n",
    "```\n",
    "\n",
    "So if `low` is 0, `high` is 4, and `N` = 4, the array you would produce would be 0.5, 1.5, 2.5, and 3.5. This is slightly different from linspace. We'll call it binspace. Build it any way you want."
   ]
  },
  {
   "cell_type": "code",
   "execution_count": null,
   "metadata": {},
   "outputs": [],
   "source": [
    "def binspace(low, high, N):\n",
    "    ..."
   ]
  },
  {
   "cell_type": "markdown",
   "metadata": {},
   "source": [
    "### 1.3 Cuts\n",
    "\n",
    "Suppose you have a matrix where `M[:,0]` was x values and `M[:,1]` was y values (that is, shape was `(N,2)` for `N` values). Write a function that returns rows of M where $x^2 + y^2 \\le \\textrm{radius}^2$."
   ]
  },
  {
   "cell_type": "code",
   "execution_count": null,
   "metadata": {},
   "outputs": [],
   "source": [
    "def inside_circle(M, radius):\n",
    "    assert len(M.shape) == 2 # 2D\n",
    "    assert M.shape[1] >= 2 # x and y first, optional values afterward\n",
    "    ..."
   ]
  },
  {
   "cell_type": "code",
   "execution_count": null,
   "metadata": {},
   "outputs": [],
   "source": [
    "M = np.array([[1,2],\n",
    "              [3,4],\n",
    "              [5,6]])\n",
    "inside_circle(M, 5)"
   ]
  },
  {
   "cell_type": "markdown",
   "metadata": {},
   "source": [
    "## Problem 2: Plotting\n",
    "\n",
    "Construct the plot of data x and y with the following requirements:\n",
    "\n",
    "* X label should be \"x\"\n",
    "* Y label should be \"y\"\n",
    "* Title should be \"y vs. x\"\n",
    "* The data should be a green line\n",
    "* The line width should be 2\n",
    "* A legend should be present (even though there will be only one entry: \"f(x)\")\n",
    "\n",
    "The auto limits ($\\pm 2$ for y, $\\pm 3$ for x) are fine."
   ]
  },
  {
   "cell_type": "code",
   "execution_count": null,
   "metadata": {},
   "outputs": [],
   "source": [
    "x = np.linspace(-3,3,500)\n",
    "y = (np.sin(x*30) + np.sin(x*30)) * np.exp(-x**2)"
   ]
  },
  {
   "cell_type": "markdown",
   "metadata": {},
   "source": [
    "### 2.1: Use the state machine interface"
   ]
  },
  {
   "cell_type": "code",
   "execution_count": null,
   "metadata": {},
   "outputs": [],
   "source": [
    "plt.figure(figsize=(10,4))\n",
    "...\n",
    "plt.show()"
   ]
  },
  {
   "cell_type": "markdown",
   "metadata": {},
   "source": [
    "### 2.2: Use the OO interface"
   ]
  },
  {
   "cell_type": "code",
   "execution_count": null,
   "metadata": {},
   "outputs": [],
   "source": [
    "fig, ax = plt.subplots(figsize=(10,4))\n",
    "...\n",
    "plt.show()"
   ]
  },
  {
   "cell_type": "markdown",
   "metadata": {},
   "source": [
    "## Problem 3: Numpy example"
   ]
  },
  {
   "cell_type": "markdown",
   "metadata": {},
   "source": [
    "We'll return to this with much more power behind us when we talk about Pandas, but for now, let's assume you have an array of student grades called `grades`. Fill in the dictionary of stats info as shown: "
   ]
  },
  {
   "cell_type": "code",
   "execution_count": null,
   "metadata": {},
   "outputs": [],
   "source": [
    "grades = np.array([100,98, 95, 95, 92, 89, 88, 86, 82, 82, 79, 75, 68, 42])"
   ]
  },
  {
   "cell_type": "code",
   "execution_count": null,
   "metadata": {},
   "outputs": [],
   "source": [
    "def grades_info(grades):\n",
    "    d = dict()\n",
    "    d['mean'] = ... # Average grade\n",
    "    d['max'] = ... # Max grade\n",
    "    d['min'] = ... # Min grade\n",
    "    d['hist'] = ... # Histogram array of grades, in 10 bins: 0-10, 10-20, etc. (np.histogram is useful)\n",
    "    return d"
   ]
  },
  {
   "cell_type": "code",
   "execution_count": null,
   "metadata": {},
   "outputs": [],
   "source": [
    "# Note: pprint is a general purpose pretty printer, just a bit nicer than normal print for dicts\n",
    "from pprint import pprint\n",
    "pprint(grades_info(grades))"
   ]
  }
 ],
 "metadata": {
  "language_info": {
   "codemirror_mode": {
    "name": "ipython",
    "version": 3
   },
   "file_extension": ".py",
   "mimetype": "text/x-python",
   "name": "python",
   "nbconvert_exporter": "python",
   "pygments_lexer": "ipython3",
   "version": "3.6.5"
  }
 },
 "nbformat": 4,
 "nbformat_minor": 2
}
